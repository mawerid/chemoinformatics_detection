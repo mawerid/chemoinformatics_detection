{
  "nbformat": 4,
  "nbformat_minor": 0,
  "metadata": {
    "colab": {
      "provenance": [],
      "toc_visible": true,
      "gpuType": "T4"
    },
    "kernelspec": {
      "name": "python3",
      "display_name": "Python 3"
    },
    "language_info": {
      "name": "python"
    },
    "accelerator": "GPU"
  },
  "cells": [
    {
      "cell_type": "code",
      "source": [
        "!pip install deepchem"
      ],
      "metadata": {
        "colab": {
          "base_uri": "https://localhost:8080/"
        },
        "id": "S26rHNDjdH60",
        "outputId": "02030337-17b8-47c4-a099-1cbb46eeca0a"
      },
      "execution_count": 2,
      "outputs": [
        {
          "output_type": "stream",
          "name": "stdout",
          "text": [
            "Collecting deepchem\n",
            "  Downloading deepchem-2.7.1-py3-none-any.whl (693 kB)\n",
            "\u001b[?25l     \u001b[90m━━━━━━━━━━━━━━━━━━━━━━━━━━━━━━━━━━━━━━━━\u001b[0m \u001b[32m0.0/693.2 kB\u001b[0m \u001b[31m?\u001b[0m eta \u001b[36m-:--:--\u001b[0m\r\u001b[2K     \u001b[91m━━\u001b[0m\u001b[90m╺\u001b[0m\u001b[90m━━━━━━━━━━━━━━━━━━━━━━━━━━━━━━━━━━━━━\u001b[0m \u001b[32m41.0/693.2 kB\u001b[0m \u001b[31m958.1 kB/s\u001b[0m eta \u001b[36m0:00:01\u001b[0m\r\u001b[2K     \u001b[91m━━━━━━━━━━━━━━━━━━━━━━━━━━━━━━━━━━━━━━━\u001b[0m\u001b[91m╸\u001b[0m \u001b[32m686.1/693.2 kB\u001b[0m \u001b[31m10.3 MB/s\u001b[0m eta \u001b[36m0:00:01\u001b[0m\r\u001b[2K     \u001b[90m━━━━━━━━━━━━━━━━━━━━━━━━━━━━━━━━━━━━━━━━\u001b[0m \u001b[32m693.2/693.2 kB\u001b[0m \u001b[31m9.1 MB/s\u001b[0m eta \u001b[36m0:00:00\u001b[0m\n",
            "\u001b[?25hRequirement already satisfied: joblib in /usr/local/lib/python3.10/dist-packages (from deepchem) (1.3.2)\n",
            "Requirement already satisfied: numpy>=1.21 in /usr/local/lib/python3.10/dist-packages (from deepchem) (1.23.5)\n",
            "Requirement already satisfied: pandas in /usr/local/lib/python3.10/dist-packages (from deepchem) (1.5.3)\n",
            "Requirement already satisfied: scikit-learn in /usr/local/lib/python3.10/dist-packages (from deepchem) (1.2.2)\n",
            "Collecting scipy<1.9 (from deepchem)\n",
            "  Downloading scipy-1.8.1-cp310-cp310-manylinux_2_17_x86_64.manylinux2014_x86_64.whl (42.2 MB)\n",
            "\u001b[2K     \u001b[90m━━━━━━━━━━━━━━━━━━━━━━━━━━━━━━━━━━━━━━━━\u001b[0m \u001b[32m42.2/42.2 MB\u001b[0m \u001b[31m15.1 MB/s\u001b[0m eta \u001b[36m0:00:00\u001b[0m\n",
            "\u001b[?25hCollecting rdkit (from deepchem)\n",
            "  Downloading rdkit-2023.3.3-cp310-cp310-manylinux_2_17_x86_64.manylinux2014_x86_64.whl (29.7 MB)\n",
            "\u001b[2K     \u001b[90m━━━━━━━━━━━━━━━━━━━━━━━━━━━━━━━━━━━━━━━━\u001b[0m \u001b[32m29.7/29.7 MB\u001b[0m \u001b[31m36.2 MB/s\u001b[0m eta \u001b[36m0:00:00\u001b[0m\n",
            "\u001b[?25hRequirement already satisfied: python-dateutil>=2.8.1 in /usr/local/lib/python3.10/dist-packages (from pandas->deepchem) (2.8.2)\n",
            "Requirement already satisfied: pytz>=2020.1 in /usr/local/lib/python3.10/dist-packages (from pandas->deepchem) (2023.3.post1)\n",
            "Requirement already satisfied: Pillow in /usr/local/lib/python3.10/dist-packages (from rdkit->deepchem) (9.4.0)\n",
            "Requirement already satisfied: threadpoolctl>=2.0.0 in /usr/local/lib/python3.10/dist-packages (from scikit-learn->deepchem) (3.2.0)\n",
            "Requirement already satisfied: six>=1.5 in /usr/local/lib/python3.10/dist-packages (from python-dateutil>=2.8.1->pandas->deepchem) (1.16.0)\n",
            "Installing collected packages: scipy, rdkit, deepchem\n",
            "  Attempting uninstall: scipy\n",
            "    Found existing installation: scipy 1.11.3\n",
            "    Uninstalling scipy-1.11.3:\n",
            "      Successfully uninstalled scipy-1.11.3\n",
            "\u001b[31mERROR: pip's dependency resolver does not currently take into account all the packages that are installed. This behaviour is the source of the following dependency conflicts.\n",
            "lida 0.0.10 requires fastapi, which is not installed.\n",
            "lida 0.0.10 requires kaleido, which is not installed.\n",
            "lida 0.0.10 requires python-multipart, which is not installed.\n",
            "lida 0.0.10 requires uvicorn, which is not installed.\u001b[0m\u001b[31m\n",
            "\u001b[0mSuccessfully installed deepchem-2.7.1 rdkit-2023.3.3 scipy-1.8.1\n"
          ]
        }
      ]
    },
    {
      "cell_type": "code",
      "source": [
        "!pip install torch"
      ],
      "metadata": {
        "colab": {
          "base_uri": "https://localhost:8080/"
        },
        "id": "ZryOTgiYeKRx",
        "outputId": "257b1a4e-d050-42b3-acc2-a829b5baa26f"
      },
      "execution_count": 3,
      "outputs": [
        {
          "output_type": "stream",
          "name": "stdout",
          "text": [
            "Requirement already satisfied: torch in /usr/local/lib/python3.10/dist-packages (2.1.0+cu118)\n",
            "Requirement already satisfied: filelock in /usr/local/lib/python3.10/dist-packages (from torch) (3.12.4)\n",
            "Requirement already satisfied: typing-extensions in /usr/local/lib/python3.10/dist-packages (from torch) (4.5.0)\n",
            "Requirement already satisfied: sympy in /usr/local/lib/python3.10/dist-packages (from torch) (1.12)\n",
            "Requirement already satisfied: networkx in /usr/local/lib/python3.10/dist-packages (from torch) (3.1)\n",
            "Requirement already satisfied: jinja2 in /usr/local/lib/python3.10/dist-packages (from torch) (3.1.2)\n",
            "Requirement already satisfied: fsspec in /usr/local/lib/python3.10/dist-packages (from torch) (2023.6.0)\n",
            "Requirement already satisfied: triton==2.1.0 in /usr/local/lib/python3.10/dist-packages (from torch) (2.1.0)\n",
            "Requirement already satisfied: MarkupSafe>=2.0 in /usr/local/lib/python3.10/dist-packages (from jinja2->torch) (2.1.3)\n",
            "Requirement already satisfied: mpmath>=0.19 in /usr/local/lib/python3.10/dist-packages (from sympy->torch) (1.3.0)\n"
          ]
        }
      ]
    },
    {
      "cell_type": "code",
      "source": [
        "!pip install dgl\n",
        "!pip install dgllife"
      ],
      "metadata": {
        "colab": {
          "base_uri": "https://localhost:8080/"
        },
        "id": "NR_UJSL6oerH",
        "outputId": "ae506809-95ce-4dac-bf2d-a17e97f63798"
      },
      "execution_count": 4,
      "outputs": [
        {
          "output_type": "stream",
          "name": "stdout",
          "text": [
            "Collecting dgl\n",
            "  Downloading dgl-1.1.2-cp310-cp310-manylinux1_x86_64.whl (6.0 MB)\n",
            "\u001b[?25l     \u001b[90m━━━━━━━━━━━━━━━━━━━━━━━━━━━━━━━━━━━━━━━━\u001b[0m \u001b[32m0.0/6.0 MB\u001b[0m \u001b[31m?\u001b[0m eta \u001b[36m-:--:--\u001b[0m\r\u001b[2K     \u001b[91m━\u001b[0m\u001b[90m╺\u001b[0m\u001b[90m━━━━━━━━━━━━━━━━━━━━━━━━━━━━━━━━━━━━━━\u001b[0m \u001b[32m0.2/6.0 MB\u001b[0m \u001b[31m5.0 MB/s\u001b[0m eta \u001b[36m0:00:02\u001b[0m\r\u001b[2K     \u001b[91m━━━━━━━━━━━━━━━━━━━\u001b[0m\u001b[91m╸\u001b[0m\u001b[90m━━━━━━━━━━━━━━━━━━━━\u001b[0m \u001b[32m2.9/6.0 MB\u001b[0m \u001b[31m42.6 MB/s\u001b[0m eta \u001b[36m0:00:01\u001b[0m\r\u001b[2K     \u001b[91m━━━━━━━━━━━━━━━━━━━━━━━━━━━━━━━━━━━━━━━\u001b[0m\u001b[91m╸\u001b[0m \u001b[32m5.9/6.0 MB\u001b[0m \u001b[31m69.5 MB/s\u001b[0m eta \u001b[36m0:00:01\u001b[0m\r\u001b[2K     \u001b[90m━━━━━━━━━━━━━━━━━━━━━━━━━━━━━━━━━━━━━━━━\u001b[0m \u001b[32m6.0/6.0 MB\u001b[0m \u001b[31m53.8 MB/s\u001b[0m eta \u001b[36m0:00:00\u001b[0m\n",
            "\u001b[?25hRequirement already satisfied: numpy>=1.14.0 in /usr/local/lib/python3.10/dist-packages (from dgl) (1.23.5)\n",
            "Requirement already satisfied: scipy>=1.1.0 in /usr/local/lib/python3.10/dist-packages (from dgl) (1.8.1)\n",
            "Requirement already satisfied: networkx>=2.1 in /usr/local/lib/python3.10/dist-packages (from dgl) (3.1)\n",
            "Requirement already satisfied: requests>=2.19.0 in /usr/local/lib/python3.10/dist-packages (from dgl) (2.31.0)\n",
            "Requirement already satisfied: tqdm in /usr/local/lib/python3.10/dist-packages (from dgl) (4.66.1)\n",
            "Requirement already satisfied: psutil>=5.8.0 in /usr/local/lib/python3.10/dist-packages (from dgl) (5.9.5)\n",
            "Requirement already satisfied: charset-normalizer<4,>=2 in /usr/local/lib/python3.10/dist-packages (from requests>=2.19.0->dgl) (3.3.0)\n",
            "Requirement already satisfied: idna<4,>=2.5 in /usr/local/lib/python3.10/dist-packages (from requests>=2.19.0->dgl) (3.4)\n",
            "Requirement already satisfied: urllib3<3,>=1.21.1 in /usr/local/lib/python3.10/dist-packages (from requests>=2.19.0->dgl) (2.0.7)\n",
            "Requirement already satisfied: certifi>=2017.4.17 in /usr/local/lib/python3.10/dist-packages (from requests>=2.19.0->dgl) (2023.7.22)\n",
            "Installing collected packages: dgl\n",
            "Successfully installed dgl-1.1.2\n",
            "Collecting dgllife\n",
            "  Downloading dgllife-0.3.2-py3-none-any.whl (226 kB)\n",
            "\u001b[2K     \u001b[90m━━━━━━━━━━━━━━━━━━━━━━━━━━━━━━━━━━━━━━━━\u001b[0m \u001b[32m226.1/226.1 kB\u001b[0m \u001b[31m1.5 MB/s\u001b[0m eta \u001b[36m0:00:00\u001b[0m\n",
            "\u001b[?25hRequirement already satisfied: scikit-learn>=0.22.2 in /usr/local/lib/python3.10/dist-packages (from dgllife) (1.2.2)\n",
            "Requirement already satisfied: pandas in /usr/local/lib/python3.10/dist-packages (from dgllife) (1.5.3)\n",
            "Requirement already satisfied: requests>=2.22.0 in /usr/local/lib/python3.10/dist-packages (from dgllife) (2.31.0)\n",
            "Requirement already satisfied: tqdm in /usr/local/lib/python3.10/dist-packages (from dgllife) (4.66.1)\n",
            "Requirement already satisfied: numpy>=1.14.0 in /usr/local/lib/python3.10/dist-packages (from dgllife) (1.23.5)\n",
            "Requirement already satisfied: scipy>=1.1.0 in /usr/local/lib/python3.10/dist-packages (from dgllife) (1.8.1)\n",
            "Requirement already satisfied: networkx>=2.1 in /usr/local/lib/python3.10/dist-packages (from dgllife) (3.1)\n",
            "Requirement already satisfied: hyperopt in /usr/local/lib/python3.10/dist-packages (from dgllife) (0.2.7)\n",
            "Requirement already satisfied: joblib in /usr/local/lib/python3.10/dist-packages (from dgllife) (1.3.2)\n",
            "Requirement already satisfied: charset-normalizer<4,>=2 in /usr/local/lib/python3.10/dist-packages (from requests>=2.22.0->dgllife) (3.3.0)\n",
            "Requirement already satisfied: idna<4,>=2.5 in /usr/local/lib/python3.10/dist-packages (from requests>=2.22.0->dgllife) (3.4)\n",
            "Requirement already satisfied: urllib3<3,>=1.21.1 in /usr/local/lib/python3.10/dist-packages (from requests>=2.22.0->dgllife) (2.0.7)\n",
            "Requirement already satisfied: certifi>=2017.4.17 in /usr/local/lib/python3.10/dist-packages (from requests>=2.22.0->dgllife) (2023.7.22)\n",
            "Requirement already satisfied: threadpoolctl>=2.0.0 in /usr/local/lib/python3.10/dist-packages (from scikit-learn>=0.22.2->dgllife) (3.2.0)\n",
            "Requirement already satisfied: six in /usr/local/lib/python3.10/dist-packages (from hyperopt->dgllife) (1.16.0)\n",
            "Requirement already satisfied: future in /usr/local/lib/python3.10/dist-packages (from hyperopt->dgllife) (0.18.3)\n",
            "Requirement already satisfied: cloudpickle in /usr/local/lib/python3.10/dist-packages (from hyperopt->dgllife) (2.2.1)\n",
            "Requirement already satisfied: py4j in /usr/local/lib/python3.10/dist-packages (from hyperopt->dgllife) (0.10.9.7)\n",
            "Requirement already satisfied: python-dateutil>=2.8.1 in /usr/local/lib/python3.10/dist-packages (from pandas->dgllife) (2.8.2)\n",
            "Requirement already satisfied: pytz>=2020.1 in /usr/local/lib/python3.10/dist-packages (from pandas->dgllife) (2023.3.post1)\n",
            "Installing collected packages: dgllife\n",
            "Successfully installed dgllife-0.3.2\n"
          ]
        }
      ]
    },
    {
      "cell_type": "code",
      "source": [
        "!pip install rdkit"
      ],
      "metadata": {
        "colab": {
          "base_uri": "https://localhost:8080/"
        },
        "id": "TL93yPMo2JY-",
        "outputId": "ef40f62a-bad4-4419-de11-32f9f12c1610"
      },
      "execution_count": 5,
      "outputs": [
        {
          "output_type": "stream",
          "name": "stdout",
          "text": [
            "Requirement already satisfied: rdkit in /usr/local/lib/python3.10/dist-packages (2023.3.3)\n",
            "Requirement already satisfied: numpy in /usr/local/lib/python3.10/dist-packages (from rdkit) (1.23.5)\n",
            "Requirement already satisfied: Pillow in /usr/local/lib/python3.10/dist-packages (from rdkit) (9.4.0)\n"
          ]
        }
      ]
    },
    {
      "cell_type": "markdown",
      "source": [
        "# Imports"
      ],
      "metadata": {
        "id": "w2JMwqkaap4B"
      }
    },
    {
      "cell_type": "code",
      "execution_count": 6,
      "metadata": {
        "colab": {
          "base_uri": "https://localhost:8080/"
        },
        "id": "vomb9OwkOZ1a",
        "outputId": "85922ad3-500a-4986-9d12-4d79420f04db"
      },
      "outputs": [
        {
          "output_type": "stream",
          "name": "stderr",
          "text": [
            "WARNING:deepchem.models.torch_models:Skipped loading modules with pytorch-geometric dependency, missing a dependency. No module named 'torch_geometric'\n",
            "WARNING:deepchem.models:Skipped loading modules with pytorch-geometric dependency, missing a dependency. cannot import name 'DMPNN' from 'deepchem.models.torch_models' (/usr/local/lib/python3.10/dist-packages/deepchem/models/torch_models/__init__.py)\n",
            "WARNING:deepchem.models:Skipped loading modules with pytorch-lightning dependency, missing a dependency. No module named 'pytorch_lightning'\n",
            "WARNING:deepchem.models:Skipped loading some Jax models, missing a dependency. No module named 'haiku'\n"
          ]
        }
      ],
      "source": [
        "import pandas as pd\n",
        "import numpy as np\n",
        "import torch\n",
        "import deepchem as dc\n",
        "from deepchem.models import GCNModel\n",
        "from rdkit import Chem\n",
        "from rdkit import DataStructs\n",
        "from rdkit.Chem import AllChem, Draw, Descriptors\n",
        "from rdkit.Chem.Draw import IPythonConsole\n",
        "from sklearn.preprocessing import FunctionTransformer\n",
        "from rdkit import Chem, DataStructs\n",
        "from rdkit.Chem import PandasTools, AllChem\n",
        "from sklearn.preprocessing import StandardScaler\n",
        "from sklearn.model_selection import train_test_split\n",
        "import torch\n",
        "import torch.nn as nn\n",
        "from torch.utils.data import Dataset\n",
        "from torch.optim.lr_scheduler import ReduceLROnPlateau"
      ]
    },
    {
      "cell_type": "code",
      "source": [
        "from pandas import MultiIndex, Int64Index\n",
        "import matplotlib.pyplot as plt\n",
        "\n",
        "import xgboost as xgb\n",
        "print(\"XGB Version:\", xgb.__version__)\n",
        "\n",
        "from sklearn import datasets\n",
        "from sklearn.model_selection import train_test_split\n",
        "from sklearn.metrics import mean_squared_error\n",
        "from sklearn.inspection import permutation_importance\n",
        "from sklearn.model_selection import GridSearchCV"
      ],
      "metadata": {
        "colab": {
          "base_uri": "https://localhost:8080/"
        },
        "id": "JKfIV2JhHREb",
        "outputId": "faa9ce47-7495-48e1-a763-325fe645f243"
      },
      "execution_count": 7,
      "outputs": [
        {
          "output_type": "stream",
          "name": "stderr",
          "text": [
            "<ipython-input-7-b59c469eb15b>:1: FutureWarning: pandas.Int64Index is deprecated and will be removed from pandas in a future version. Use pandas.Index with the appropriate dtype instead.\n",
            "  from pandas import MultiIndex, Int64Index\n"
          ]
        },
        {
          "output_type": "stream",
          "name": "stdout",
          "text": [
            "XGB Version: 2.0.0\n"
          ]
        }
      ]
    },
    {
      "cell_type": "code",
      "source": [
        "from google.colab import drive\n",
        "drive.mount('/content/drive/')"
      ],
      "metadata": {
        "colab": {
          "base_uri": "https://localhost:8080/"
        },
        "id": "prYyQ1NqQbT0",
        "outputId": "205e92f5-01dc-4a17-8bcb-2e070d150114"
      },
      "execution_count": 8,
      "outputs": [
        {
          "output_type": "stream",
          "name": "stdout",
          "text": [
            "Mounted at /content/drive/\n"
          ]
        }
      ]
    },
    {
      "cell_type": "code",
      "source": [
        "data_1400 = pd.read_excel('/content/drive/MyDrive/atomic_hack_dataset_1400.xlsx')\n",
        "data_35000 = pd.read_excel('/content/drive/MyDrive/atomick_hack_dataset_35000.xlsx', usecols=[1, 2, 3])"
      ],
      "metadata": {
        "id": "uuog12iDQWbh"
      },
      "execution_count": 9,
      "outputs": []
    },
    {
      "cell_type": "code",
      "source": [
        "data_1400.head()"
      ],
      "metadata": {
        "colab": {
          "base_uri": "https://localhost:8080/",
          "height": 327
        },
        "id": "LHKMgoq-RDyQ",
        "outputId": "86377176-222e-4671-c59b-28b864fd7915"
      },
      "execution_count": 10,
      "outputs": [
        {
          "output_type": "execute_result",
          "data": {
            "text/plain": [
              "         Title  IC50, mmg/ml  CC50-MDCK, mmg/ml          SI  Molecular weight  \\\n",
              "0  1007-Ya-213           2.7              500.0  185.185185           195.307   \n",
              "1  1007-Ya-213           0.7              447.0  638.571429           195.307   \n",
              "2  1008-Ya-187           9.9              144.0   14.545455           250.431   \n",
              "3  1009-As-106           8.3              500.0   60.240964           222.377   \n",
              "4  1010-Ya-208          39.4              143.0    3.629442           239.361   \n",
              "\n",
              "   Hydrogen bond acceptors  Hydrogen bond donors  Polar SA  \\\n",
              "0                        2                     1     32.59   \n",
              "1                        2                     1     32.59   \n",
              "2                        1                     0     15.60   \n",
              "3                        1                     0     15.60   \n",
              "4                        2                     0     29.54   \n",
              "\n",
              "                                         SMILES  Pictures  \n",
              "0           OCC\\N=C(\\[C@]12C)C[C@@H](C1(C)C)CC2      50.0  \n",
              "1           OCC\\N=C(\\[C@]12C)C[C@@H](C1(C)C)CC2      51.0  \n",
              "2     CCN(CC)CC\\N=C(\\[C@@]12C)C[C@H](C1(C)C)CC2      52.0  \n",
              "3       CN(C)CC\\N=C(\\[C@@]12C)C[C@H](C1(C)C)CC2      53.0  \n",
              "4  CN(C)CC(=O)O[C@H]1C[C@H](CC2)C(C)(C)[C@@]12C      54.0  "
            ],
            "text/html": [
              "\n",
              "  <div id=\"df-ebd4fc42-5b1b-4e52-8d20-7b30dd83360b\" class=\"colab-df-container\">\n",
              "    <div>\n",
              "<style scoped>\n",
              "    .dataframe tbody tr th:only-of-type {\n",
              "        vertical-align: middle;\n",
              "    }\n",
              "\n",
              "    .dataframe tbody tr th {\n",
              "        vertical-align: top;\n",
              "    }\n",
              "\n",
              "    .dataframe thead th {\n",
              "        text-align: right;\n",
              "    }\n",
              "</style>\n",
              "<table border=\"1\" class=\"dataframe\">\n",
              "  <thead>\n",
              "    <tr style=\"text-align: right;\">\n",
              "      <th></th>\n",
              "      <th>Title</th>\n",
              "      <th>IC50, mmg/ml</th>\n",
              "      <th>CC50-MDCK, mmg/ml</th>\n",
              "      <th>SI</th>\n",
              "      <th>Molecular weight</th>\n",
              "      <th>Hydrogen bond acceptors</th>\n",
              "      <th>Hydrogen bond donors</th>\n",
              "      <th>Polar SA</th>\n",
              "      <th>SMILES</th>\n",
              "      <th>Pictures</th>\n",
              "    </tr>\n",
              "  </thead>\n",
              "  <tbody>\n",
              "    <tr>\n",
              "      <th>0</th>\n",
              "      <td>1007-Ya-213</td>\n",
              "      <td>2.7</td>\n",
              "      <td>500.0</td>\n",
              "      <td>185.185185</td>\n",
              "      <td>195.307</td>\n",
              "      <td>2</td>\n",
              "      <td>1</td>\n",
              "      <td>32.59</td>\n",
              "      <td>OCC\\N=C(\\[C@]12C)C[C@@H](C1(C)C)CC2</td>\n",
              "      <td>50.0</td>\n",
              "    </tr>\n",
              "    <tr>\n",
              "      <th>1</th>\n",
              "      <td>1007-Ya-213</td>\n",
              "      <td>0.7</td>\n",
              "      <td>447.0</td>\n",
              "      <td>638.571429</td>\n",
              "      <td>195.307</td>\n",
              "      <td>2</td>\n",
              "      <td>1</td>\n",
              "      <td>32.59</td>\n",
              "      <td>OCC\\N=C(\\[C@]12C)C[C@@H](C1(C)C)CC2</td>\n",
              "      <td>51.0</td>\n",
              "    </tr>\n",
              "    <tr>\n",
              "      <th>2</th>\n",
              "      <td>1008-Ya-187</td>\n",
              "      <td>9.9</td>\n",
              "      <td>144.0</td>\n",
              "      <td>14.545455</td>\n",
              "      <td>250.431</td>\n",
              "      <td>1</td>\n",
              "      <td>0</td>\n",
              "      <td>15.60</td>\n",
              "      <td>CCN(CC)CC\\N=C(\\[C@@]12C)C[C@H](C1(C)C)CC2</td>\n",
              "      <td>52.0</td>\n",
              "    </tr>\n",
              "    <tr>\n",
              "      <th>3</th>\n",
              "      <td>1009-As-106</td>\n",
              "      <td>8.3</td>\n",
              "      <td>500.0</td>\n",
              "      <td>60.240964</td>\n",
              "      <td>222.377</td>\n",
              "      <td>1</td>\n",
              "      <td>0</td>\n",
              "      <td>15.60</td>\n",
              "      <td>CN(C)CC\\N=C(\\[C@@]12C)C[C@H](C1(C)C)CC2</td>\n",
              "      <td>53.0</td>\n",
              "    </tr>\n",
              "    <tr>\n",
              "      <th>4</th>\n",
              "      <td>1010-Ya-208</td>\n",
              "      <td>39.4</td>\n",
              "      <td>143.0</td>\n",
              "      <td>3.629442</td>\n",
              "      <td>239.361</td>\n",
              "      <td>2</td>\n",
              "      <td>0</td>\n",
              "      <td>29.54</td>\n",
              "      <td>CN(C)CC(=O)O[C@H]1C[C@H](CC2)C(C)(C)[C@@]12C</td>\n",
              "      <td>54.0</td>\n",
              "    </tr>\n",
              "  </tbody>\n",
              "</table>\n",
              "</div>\n",
              "    <div class=\"colab-df-buttons\">\n",
              "\n",
              "  <div class=\"colab-df-container\">\n",
              "    <button class=\"colab-df-convert\" onclick=\"convertToInteractive('df-ebd4fc42-5b1b-4e52-8d20-7b30dd83360b')\"\n",
              "            title=\"Convert this dataframe to an interactive table.\"\n",
              "            style=\"display:none;\">\n",
              "\n",
              "  <svg xmlns=\"http://www.w3.org/2000/svg\" height=\"24px\" viewBox=\"0 -960 960 960\">\n",
              "    <path d=\"M120-120v-720h720v720H120Zm60-500h600v-160H180v160Zm220 220h160v-160H400v160Zm0 220h160v-160H400v160ZM180-400h160v-160H180v160Zm440 0h160v-160H620v160ZM180-180h160v-160H180v160Zm440 0h160v-160H620v160Z\"/>\n",
              "  </svg>\n",
              "    </button>\n",
              "\n",
              "  <style>\n",
              "    .colab-df-container {\n",
              "      display:flex;\n",
              "      gap: 12px;\n",
              "    }\n",
              "\n",
              "    .colab-df-convert {\n",
              "      background-color: #E8F0FE;\n",
              "      border: none;\n",
              "      border-radius: 50%;\n",
              "      cursor: pointer;\n",
              "      display: none;\n",
              "      fill: #1967D2;\n",
              "      height: 32px;\n",
              "      padding: 0 0 0 0;\n",
              "      width: 32px;\n",
              "    }\n",
              "\n",
              "    .colab-df-convert:hover {\n",
              "      background-color: #E2EBFA;\n",
              "      box-shadow: 0px 1px 2px rgba(60, 64, 67, 0.3), 0px 1px 3px 1px rgba(60, 64, 67, 0.15);\n",
              "      fill: #174EA6;\n",
              "    }\n",
              "\n",
              "    .colab-df-buttons div {\n",
              "      margin-bottom: 4px;\n",
              "    }\n",
              "\n",
              "    [theme=dark] .colab-df-convert {\n",
              "      background-color: #3B4455;\n",
              "      fill: #D2E3FC;\n",
              "    }\n",
              "\n",
              "    [theme=dark] .colab-df-convert:hover {\n",
              "      background-color: #434B5C;\n",
              "      box-shadow: 0px 1px 3px 1px rgba(0, 0, 0, 0.15);\n",
              "      filter: drop-shadow(0px 1px 2px rgba(0, 0, 0, 0.3));\n",
              "      fill: #FFFFFF;\n",
              "    }\n",
              "  </style>\n",
              "\n",
              "    <script>\n",
              "      const buttonEl =\n",
              "        document.querySelector('#df-ebd4fc42-5b1b-4e52-8d20-7b30dd83360b button.colab-df-convert');\n",
              "      buttonEl.style.display =\n",
              "        google.colab.kernel.accessAllowed ? 'block' : 'none';\n",
              "\n",
              "      async function convertToInteractive(key) {\n",
              "        const element = document.querySelector('#df-ebd4fc42-5b1b-4e52-8d20-7b30dd83360b');\n",
              "        const dataTable =\n",
              "          await google.colab.kernel.invokeFunction('convertToInteractive',\n",
              "                                                    [key], {});\n",
              "        if (!dataTable) return;\n",
              "\n",
              "        const docLinkHtml = 'Like what you see? Visit the ' +\n",
              "          '<a target=\"_blank\" href=https://colab.research.google.com/notebooks/data_table.ipynb>data table notebook</a>'\n",
              "          + ' to learn more about interactive tables.';\n",
              "        element.innerHTML = '';\n",
              "        dataTable['output_type'] = 'display_data';\n",
              "        await google.colab.output.renderOutput(dataTable, element);\n",
              "        const docLink = document.createElement('div');\n",
              "        docLink.innerHTML = docLinkHtml;\n",
              "        element.appendChild(docLink);\n",
              "      }\n",
              "    </script>\n",
              "  </div>\n",
              "\n",
              "\n",
              "<div id=\"df-4b9d2935-5fcd-4b00-aebb-7410a8b0ac52\">\n",
              "  <button class=\"colab-df-quickchart\" onclick=\"quickchart('df-4b9d2935-5fcd-4b00-aebb-7410a8b0ac52')\"\n",
              "            title=\"Suggest charts.\"\n",
              "            style=\"display:none;\">\n",
              "\n",
              "<svg xmlns=\"http://www.w3.org/2000/svg\" height=\"24px\"viewBox=\"0 0 24 24\"\n",
              "     width=\"24px\">\n",
              "    <g>\n",
              "        <path d=\"M19 3H5c-1.1 0-2 .9-2 2v14c0 1.1.9 2 2 2h14c1.1 0 2-.9 2-2V5c0-1.1-.9-2-2-2zM9 17H7v-7h2v7zm4 0h-2V7h2v10zm4 0h-2v-4h2v4z\"/>\n",
              "    </g>\n",
              "</svg>\n",
              "  </button>\n",
              "\n",
              "<style>\n",
              "  .colab-df-quickchart {\n",
              "      --bg-color: #E8F0FE;\n",
              "      --fill-color: #1967D2;\n",
              "      --hover-bg-color: #E2EBFA;\n",
              "      --hover-fill-color: #174EA6;\n",
              "      --disabled-fill-color: #AAA;\n",
              "      --disabled-bg-color: #DDD;\n",
              "  }\n",
              "\n",
              "  [theme=dark] .colab-df-quickchart {\n",
              "      --bg-color: #3B4455;\n",
              "      --fill-color: #D2E3FC;\n",
              "      --hover-bg-color: #434B5C;\n",
              "      --hover-fill-color: #FFFFFF;\n",
              "      --disabled-bg-color: #3B4455;\n",
              "      --disabled-fill-color: #666;\n",
              "  }\n",
              "\n",
              "  .colab-df-quickchart {\n",
              "    background-color: var(--bg-color);\n",
              "    border: none;\n",
              "    border-radius: 50%;\n",
              "    cursor: pointer;\n",
              "    display: none;\n",
              "    fill: var(--fill-color);\n",
              "    height: 32px;\n",
              "    padding: 0;\n",
              "    width: 32px;\n",
              "  }\n",
              "\n",
              "  .colab-df-quickchart:hover {\n",
              "    background-color: var(--hover-bg-color);\n",
              "    box-shadow: 0 1px 2px rgba(60, 64, 67, 0.3), 0 1px 3px 1px rgba(60, 64, 67, 0.15);\n",
              "    fill: var(--button-hover-fill-color);\n",
              "  }\n",
              "\n",
              "  .colab-df-quickchart-complete:disabled,\n",
              "  .colab-df-quickchart-complete:disabled:hover {\n",
              "    background-color: var(--disabled-bg-color);\n",
              "    fill: var(--disabled-fill-color);\n",
              "    box-shadow: none;\n",
              "  }\n",
              "\n",
              "  .colab-df-spinner {\n",
              "    border: 2px solid var(--fill-color);\n",
              "    border-color: transparent;\n",
              "    border-bottom-color: var(--fill-color);\n",
              "    animation:\n",
              "      spin 1s steps(1) infinite;\n",
              "  }\n",
              "\n",
              "  @keyframes spin {\n",
              "    0% {\n",
              "      border-color: transparent;\n",
              "      border-bottom-color: var(--fill-color);\n",
              "      border-left-color: var(--fill-color);\n",
              "    }\n",
              "    20% {\n",
              "      border-color: transparent;\n",
              "      border-left-color: var(--fill-color);\n",
              "      border-top-color: var(--fill-color);\n",
              "    }\n",
              "    30% {\n",
              "      border-color: transparent;\n",
              "      border-left-color: var(--fill-color);\n",
              "      border-top-color: var(--fill-color);\n",
              "      border-right-color: var(--fill-color);\n",
              "    }\n",
              "    40% {\n",
              "      border-color: transparent;\n",
              "      border-right-color: var(--fill-color);\n",
              "      border-top-color: var(--fill-color);\n",
              "    }\n",
              "    60% {\n",
              "      border-color: transparent;\n",
              "      border-right-color: var(--fill-color);\n",
              "    }\n",
              "    80% {\n",
              "      border-color: transparent;\n",
              "      border-right-color: var(--fill-color);\n",
              "      border-bottom-color: var(--fill-color);\n",
              "    }\n",
              "    90% {\n",
              "      border-color: transparent;\n",
              "      border-bottom-color: var(--fill-color);\n",
              "    }\n",
              "  }\n",
              "</style>\n",
              "\n",
              "  <script>\n",
              "    async function quickchart(key) {\n",
              "      const quickchartButtonEl =\n",
              "        document.querySelector('#' + key + ' button');\n",
              "      quickchartButtonEl.disabled = true;  // To prevent multiple clicks.\n",
              "      quickchartButtonEl.classList.add('colab-df-spinner');\n",
              "      try {\n",
              "        const charts = await google.colab.kernel.invokeFunction(\n",
              "            'suggestCharts', [key], {});\n",
              "      } catch (error) {\n",
              "        console.error('Error during call to suggestCharts:', error);\n",
              "      }\n",
              "      quickchartButtonEl.classList.remove('colab-df-spinner');\n",
              "      quickchartButtonEl.classList.add('colab-df-quickchart-complete');\n",
              "    }\n",
              "    (() => {\n",
              "      let quickchartButtonEl =\n",
              "        document.querySelector('#df-4b9d2935-5fcd-4b00-aebb-7410a8b0ac52 button');\n",
              "      quickchartButtonEl.style.display =\n",
              "        google.colab.kernel.accessAllowed ? 'block' : 'none';\n",
              "    })();\n",
              "  </script>\n",
              "</div>\n",
              "    </div>\n",
              "  </div>\n"
            ]
          },
          "metadata": {},
          "execution_count": 10
        }
      ]
    },
    {
      "cell_type": "code",
      "source": [
        "data_35000.head()"
      ],
      "metadata": {
        "colab": {
          "base_uri": "https://localhost:8080/",
          "height": 206
        },
        "id": "tr_UW6-uh8YZ",
        "outputId": "0d9f8ef7-0561-42f3-e9ab-994821e4a92f"
      },
      "execution_count": 16,
      "outputs": [
        {
          "output_type": "execute_result",
          "data": {
            "text/plain": [
              "           Title      IC50                                             SMILES\n",
              "0  CHEMBL2206459  0.000015  [H]\\N=C(N)\\N[C@@H](C1)[C@@H](NC(=O)C)[C@@H](C=...\n",
              "1  CHEMBL3818159  0.000016  O=C(O)C1=C[C@H](N)[C@@H](NC(=O)C)[C@@H](C1)COC...\n",
              "2  CHEMBL1956716  0.000033  C=CC(=O)N[C@H]([C@H](C1)N)[C@@H](C=C1C([O-])=O...\n",
              "3  CHEMBL1956715  0.000032  CC(=O)N[C@H]([C@H](C1)N)[C@@H](C=C1C([O-])=O)O...\n",
              "4  CHEMBL4444029  0.000041  O=C(O)c1c(O)c(=O)cc([nH]1)-c(c2C)ccc(c2)-c3noc..."
            ],
            "text/html": [
              "\n",
              "  <div id=\"df-91a81c8d-3e00-483a-9230-29f851d8dc2d\" class=\"colab-df-container\">\n",
              "    <div>\n",
              "<style scoped>\n",
              "    .dataframe tbody tr th:only-of-type {\n",
              "        vertical-align: middle;\n",
              "    }\n",
              "\n",
              "    .dataframe tbody tr th {\n",
              "        vertical-align: top;\n",
              "    }\n",
              "\n",
              "    .dataframe thead th {\n",
              "        text-align: right;\n",
              "    }\n",
              "</style>\n",
              "<table border=\"1\" class=\"dataframe\">\n",
              "  <thead>\n",
              "    <tr style=\"text-align: right;\">\n",
              "      <th></th>\n",
              "      <th>Title</th>\n",
              "      <th>IC50</th>\n",
              "      <th>SMILES</th>\n",
              "    </tr>\n",
              "  </thead>\n",
              "  <tbody>\n",
              "    <tr>\n",
              "      <th>0</th>\n",
              "      <td>CHEMBL2206459</td>\n",
              "      <td>0.000015</td>\n",
              "      <td>[H]\\N=C(N)\\N[C@@H](C1)[C@@H](NC(=O)C)[C@@H](C=...</td>\n",
              "    </tr>\n",
              "    <tr>\n",
              "      <th>1</th>\n",
              "      <td>CHEMBL3818159</td>\n",
              "      <td>0.000016</td>\n",
              "      <td>O=C(O)C1=C[C@H](N)[C@@H](NC(=O)C)[C@@H](C1)COC...</td>\n",
              "    </tr>\n",
              "    <tr>\n",
              "      <th>2</th>\n",
              "      <td>CHEMBL1956716</td>\n",
              "      <td>0.000033</td>\n",
              "      <td>C=CC(=O)N[C@H]([C@H](C1)N)[C@@H](C=C1C([O-])=O...</td>\n",
              "    </tr>\n",
              "    <tr>\n",
              "      <th>3</th>\n",
              "      <td>CHEMBL1956715</td>\n",
              "      <td>0.000032</td>\n",
              "      <td>CC(=O)N[C@H]([C@H](C1)N)[C@@H](C=C1C([O-])=O)O...</td>\n",
              "    </tr>\n",
              "    <tr>\n",
              "      <th>4</th>\n",
              "      <td>CHEMBL4444029</td>\n",
              "      <td>0.000041</td>\n",
              "      <td>O=C(O)c1c(O)c(=O)cc([nH]1)-c(c2C)ccc(c2)-c3noc...</td>\n",
              "    </tr>\n",
              "  </tbody>\n",
              "</table>\n",
              "</div>\n",
              "    <div class=\"colab-df-buttons\">\n",
              "\n",
              "  <div class=\"colab-df-container\">\n",
              "    <button class=\"colab-df-convert\" onclick=\"convertToInteractive('df-91a81c8d-3e00-483a-9230-29f851d8dc2d')\"\n",
              "            title=\"Convert this dataframe to an interactive table.\"\n",
              "            style=\"display:none;\">\n",
              "\n",
              "  <svg xmlns=\"http://www.w3.org/2000/svg\" height=\"24px\" viewBox=\"0 -960 960 960\">\n",
              "    <path d=\"M120-120v-720h720v720H120Zm60-500h600v-160H180v160Zm220 220h160v-160H400v160Zm0 220h160v-160H400v160ZM180-400h160v-160H180v160Zm440 0h160v-160H620v160ZM180-180h160v-160H180v160Zm440 0h160v-160H620v160Z\"/>\n",
              "  </svg>\n",
              "    </button>\n",
              "\n",
              "  <style>\n",
              "    .colab-df-container {\n",
              "      display:flex;\n",
              "      gap: 12px;\n",
              "    }\n",
              "\n",
              "    .colab-df-convert {\n",
              "      background-color: #E8F0FE;\n",
              "      border: none;\n",
              "      border-radius: 50%;\n",
              "      cursor: pointer;\n",
              "      display: none;\n",
              "      fill: #1967D2;\n",
              "      height: 32px;\n",
              "      padding: 0 0 0 0;\n",
              "      width: 32px;\n",
              "    }\n",
              "\n",
              "    .colab-df-convert:hover {\n",
              "      background-color: #E2EBFA;\n",
              "      box-shadow: 0px 1px 2px rgba(60, 64, 67, 0.3), 0px 1px 3px 1px rgba(60, 64, 67, 0.15);\n",
              "      fill: #174EA6;\n",
              "    }\n",
              "\n",
              "    .colab-df-buttons div {\n",
              "      margin-bottom: 4px;\n",
              "    }\n",
              "\n",
              "    [theme=dark] .colab-df-convert {\n",
              "      background-color: #3B4455;\n",
              "      fill: #D2E3FC;\n",
              "    }\n",
              "\n",
              "    [theme=dark] .colab-df-convert:hover {\n",
              "      background-color: #434B5C;\n",
              "      box-shadow: 0px 1px 3px 1px rgba(0, 0, 0, 0.15);\n",
              "      filter: drop-shadow(0px 1px 2px rgba(0, 0, 0, 0.3));\n",
              "      fill: #FFFFFF;\n",
              "    }\n",
              "  </style>\n",
              "\n",
              "    <script>\n",
              "      const buttonEl =\n",
              "        document.querySelector('#df-91a81c8d-3e00-483a-9230-29f851d8dc2d button.colab-df-convert');\n",
              "      buttonEl.style.display =\n",
              "        google.colab.kernel.accessAllowed ? 'block' : 'none';\n",
              "\n",
              "      async function convertToInteractive(key) {\n",
              "        const element = document.querySelector('#df-91a81c8d-3e00-483a-9230-29f851d8dc2d');\n",
              "        const dataTable =\n",
              "          await google.colab.kernel.invokeFunction('convertToInteractive',\n",
              "                                                    [key], {});\n",
              "        if (!dataTable) return;\n",
              "\n",
              "        const docLinkHtml = 'Like what you see? Visit the ' +\n",
              "          '<a target=\"_blank\" href=https://colab.research.google.com/notebooks/data_table.ipynb>data table notebook</a>'\n",
              "          + ' to learn more about interactive tables.';\n",
              "        element.innerHTML = '';\n",
              "        dataTable['output_type'] = 'display_data';\n",
              "        await google.colab.output.renderOutput(dataTable, element);\n",
              "        const docLink = document.createElement('div');\n",
              "        docLink.innerHTML = docLinkHtml;\n",
              "        element.appendChild(docLink);\n",
              "      }\n",
              "    </script>\n",
              "  </div>\n",
              "\n",
              "\n",
              "<div id=\"df-ac7b6ec6-5ac8-4701-a6c1-8ed6819eeff9\">\n",
              "  <button class=\"colab-df-quickchart\" onclick=\"quickchart('df-ac7b6ec6-5ac8-4701-a6c1-8ed6819eeff9')\"\n",
              "            title=\"Suggest charts.\"\n",
              "            style=\"display:none;\">\n",
              "\n",
              "<svg xmlns=\"http://www.w3.org/2000/svg\" height=\"24px\"viewBox=\"0 0 24 24\"\n",
              "     width=\"24px\">\n",
              "    <g>\n",
              "        <path d=\"M19 3H5c-1.1 0-2 .9-2 2v14c0 1.1.9 2 2 2h14c1.1 0 2-.9 2-2V5c0-1.1-.9-2-2-2zM9 17H7v-7h2v7zm4 0h-2V7h2v10zm4 0h-2v-4h2v4z\"/>\n",
              "    </g>\n",
              "</svg>\n",
              "  </button>\n",
              "\n",
              "<style>\n",
              "  .colab-df-quickchart {\n",
              "      --bg-color: #E8F0FE;\n",
              "      --fill-color: #1967D2;\n",
              "      --hover-bg-color: #E2EBFA;\n",
              "      --hover-fill-color: #174EA6;\n",
              "      --disabled-fill-color: #AAA;\n",
              "      --disabled-bg-color: #DDD;\n",
              "  }\n",
              "\n",
              "  [theme=dark] .colab-df-quickchart {\n",
              "      --bg-color: #3B4455;\n",
              "      --fill-color: #D2E3FC;\n",
              "      --hover-bg-color: #434B5C;\n",
              "      --hover-fill-color: #FFFFFF;\n",
              "      --disabled-bg-color: #3B4455;\n",
              "      --disabled-fill-color: #666;\n",
              "  }\n",
              "\n",
              "  .colab-df-quickchart {\n",
              "    background-color: var(--bg-color);\n",
              "    border: none;\n",
              "    border-radius: 50%;\n",
              "    cursor: pointer;\n",
              "    display: none;\n",
              "    fill: var(--fill-color);\n",
              "    height: 32px;\n",
              "    padding: 0;\n",
              "    width: 32px;\n",
              "  }\n",
              "\n",
              "  .colab-df-quickchart:hover {\n",
              "    background-color: var(--hover-bg-color);\n",
              "    box-shadow: 0 1px 2px rgba(60, 64, 67, 0.3), 0 1px 3px 1px rgba(60, 64, 67, 0.15);\n",
              "    fill: var(--button-hover-fill-color);\n",
              "  }\n",
              "\n",
              "  .colab-df-quickchart-complete:disabled,\n",
              "  .colab-df-quickchart-complete:disabled:hover {\n",
              "    background-color: var(--disabled-bg-color);\n",
              "    fill: var(--disabled-fill-color);\n",
              "    box-shadow: none;\n",
              "  }\n",
              "\n",
              "  .colab-df-spinner {\n",
              "    border: 2px solid var(--fill-color);\n",
              "    border-color: transparent;\n",
              "    border-bottom-color: var(--fill-color);\n",
              "    animation:\n",
              "      spin 1s steps(1) infinite;\n",
              "  }\n",
              "\n",
              "  @keyframes spin {\n",
              "    0% {\n",
              "      border-color: transparent;\n",
              "      border-bottom-color: var(--fill-color);\n",
              "      border-left-color: var(--fill-color);\n",
              "    }\n",
              "    20% {\n",
              "      border-color: transparent;\n",
              "      border-left-color: var(--fill-color);\n",
              "      border-top-color: var(--fill-color);\n",
              "    }\n",
              "    30% {\n",
              "      border-color: transparent;\n",
              "      border-left-color: var(--fill-color);\n",
              "      border-top-color: var(--fill-color);\n",
              "      border-right-color: var(--fill-color);\n",
              "    }\n",
              "    40% {\n",
              "      border-color: transparent;\n",
              "      border-right-color: var(--fill-color);\n",
              "      border-top-color: var(--fill-color);\n",
              "    }\n",
              "    60% {\n",
              "      border-color: transparent;\n",
              "      border-right-color: var(--fill-color);\n",
              "    }\n",
              "    80% {\n",
              "      border-color: transparent;\n",
              "      border-right-color: var(--fill-color);\n",
              "      border-bottom-color: var(--fill-color);\n",
              "    }\n",
              "    90% {\n",
              "      border-color: transparent;\n",
              "      border-bottom-color: var(--fill-color);\n",
              "    }\n",
              "  }\n",
              "</style>\n",
              "\n",
              "  <script>\n",
              "    async function quickchart(key) {\n",
              "      const quickchartButtonEl =\n",
              "        document.querySelector('#' + key + ' button');\n",
              "      quickchartButtonEl.disabled = true;  // To prevent multiple clicks.\n",
              "      quickchartButtonEl.classList.add('colab-df-spinner');\n",
              "      try {\n",
              "        const charts = await google.colab.kernel.invokeFunction(\n",
              "            'suggestCharts', [key], {});\n",
              "      } catch (error) {\n",
              "        console.error('Error during call to suggestCharts:', error);\n",
              "      }\n",
              "      quickchartButtonEl.classList.remove('colab-df-spinner');\n",
              "      quickchartButtonEl.classList.add('colab-df-quickchart-complete');\n",
              "    }\n",
              "    (() => {\n",
              "      let quickchartButtonEl =\n",
              "        document.querySelector('#df-ac7b6ec6-5ac8-4701-a6c1-8ed6819eeff9 button');\n",
              "      quickchartButtonEl.style.display =\n",
              "        google.colab.kernel.accessAllowed ? 'block' : 'none';\n",
              "    })();\n",
              "  </script>\n",
              "</div>\n",
              "    </div>\n",
              "  </div>\n"
            ]
          },
          "metadata": {},
          "execution_count": 16
        }
      ]
    },
    {
      "cell_type": "code",
      "source": [
        "data_1400.describe()"
      ],
      "metadata": {
        "colab": {
          "base_uri": "https://localhost:8080/",
          "height": 317
        },
        "id": "b3y4jbdwRJmM",
        "outputId": "e1bb86a7-3482-4db1-89be-da358826b769"
      },
      "execution_count": 15,
      "outputs": [
        {
          "output_type": "execute_result",
          "data": {
            "text/plain": [
              "       IC50, mmg/ml  CC50-MDCK, mmg/ml            SI  Molecular weight  \\\n",
              "count   1468.000000        1468.000000  1.468000e+03       1468.000000   \n",
              "mean      50.277063         186.491530  2.210854e+04        384.739636   \n",
              "std       92.184768        1009.454293  4.771268e+05        153.164268   \n",
              "min        0.000010           0.031928  3.616134e-02        110.157000   \n",
              "25%        2.500000          30.375000  1.833333e+00        283.049250   \n",
              "50%       10.100000          90.400000  5.528073e+00        349.371000   \n",
              "75%       49.450000         300.000000  2.778741e+01        446.508000   \n",
              "max     1000.000000       37646.000000  1.632222e+07       1159.380000   \n",
              "\n",
              "       Hydrogen bond acceptors  Hydrogen bond donors     Polar SA    Pictures  \n",
              "count              1468.000000           1468.000000  1468.000000  727.000000  \n",
              "mean                  3.831744              1.333787    81.273215  364.909216  \n",
              "std                   2.860473              1.803663    54.078778  210.154325  \n",
              "min                   0.000000              0.000000     0.000000    1.000000  \n",
              "25%                   2.000000              0.000000    39.440000  183.500000  \n",
              "50%                   3.000000              1.000000    71.840000  365.000000  \n",
              "75%                   5.000000              2.000000   106.160000  546.500000  \n",
              "max                  19.000000             11.000000   319.510000  728.000000  "
            ],
            "text/html": [
              "\n",
              "  <div id=\"df-da8a4f4b-3167-48eb-9bb1-2cf9fcd193f2\" class=\"colab-df-container\">\n",
              "    <div>\n",
              "<style scoped>\n",
              "    .dataframe tbody tr th:only-of-type {\n",
              "        vertical-align: middle;\n",
              "    }\n",
              "\n",
              "    .dataframe tbody tr th {\n",
              "        vertical-align: top;\n",
              "    }\n",
              "\n",
              "    .dataframe thead th {\n",
              "        text-align: right;\n",
              "    }\n",
              "</style>\n",
              "<table border=\"1\" class=\"dataframe\">\n",
              "  <thead>\n",
              "    <tr style=\"text-align: right;\">\n",
              "      <th></th>\n",
              "      <th>IC50, mmg/ml</th>\n",
              "      <th>CC50-MDCK, mmg/ml</th>\n",
              "      <th>SI</th>\n",
              "      <th>Molecular weight</th>\n",
              "      <th>Hydrogen bond acceptors</th>\n",
              "      <th>Hydrogen bond donors</th>\n",
              "      <th>Polar SA</th>\n",
              "      <th>Pictures</th>\n",
              "    </tr>\n",
              "  </thead>\n",
              "  <tbody>\n",
              "    <tr>\n",
              "      <th>count</th>\n",
              "      <td>1468.000000</td>\n",
              "      <td>1468.000000</td>\n",
              "      <td>1.468000e+03</td>\n",
              "      <td>1468.000000</td>\n",
              "      <td>1468.000000</td>\n",
              "      <td>1468.000000</td>\n",
              "      <td>1468.000000</td>\n",
              "      <td>727.000000</td>\n",
              "    </tr>\n",
              "    <tr>\n",
              "      <th>mean</th>\n",
              "      <td>50.277063</td>\n",
              "      <td>186.491530</td>\n",
              "      <td>2.210854e+04</td>\n",
              "      <td>384.739636</td>\n",
              "      <td>3.831744</td>\n",
              "      <td>1.333787</td>\n",
              "      <td>81.273215</td>\n",
              "      <td>364.909216</td>\n",
              "    </tr>\n",
              "    <tr>\n",
              "      <th>std</th>\n",
              "      <td>92.184768</td>\n",
              "      <td>1009.454293</td>\n",
              "      <td>4.771268e+05</td>\n",
              "      <td>153.164268</td>\n",
              "      <td>2.860473</td>\n",
              "      <td>1.803663</td>\n",
              "      <td>54.078778</td>\n",
              "      <td>210.154325</td>\n",
              "    </tr>\n",
              "    <tr>\n",
              "      <th>min</th>\n",
              "      <td>0.000010</td>\n",
              "      <td>0.031928</td>\n",
              "      <td>3.616134e-02</td>\n",
              "      <td>110.157000</td>\n",
              "      <td>0.000000</td>\n",
              "      <td>0.000000</td>\n",
              "      <td>0.000000</td>\n",
              "      <td>1.000000</td>\n",
              "    </tr>\n",
              "    <tr>\n",
              "      <th>25%</th>\n",
              "      <td>2.500000</td>\n",
              "      <td>30.375000</td>\n",
              "      <td>1.833333e+00</td>\n",
              "      <td>283.049250</td>\n",
              "      <td>2.000000</td>\n",
              "      <td>0.000000</td>\n",
              "      <td>39.440000</td>\n",
              "      <td>183.500000</td>\n",
              "    </tr>\n",
              "    <tr>\n",
              "      <th>50%</th>\n",
              "      <td>10.100000</td>\n",
              "      <td>90.400000</td>\n",
              "      <td>5.528073e+00</td>\n",
              "      <td>349.371000</td>\n",
              "      <td>3.000000</td>\n",
              "      <td>1.000000</td>\n",
              "      <td>71.840000</td>\n",
              "      <td>365.000000</td>\n",
              "    </tr>\n",
              "    <tr>\n",
              "      <th>75%</th>\n",
              "      <td>49.450000</td>\n",
              "      <td>300.000000</td>\n",
              "      <td>2.778741e+01</td>\n",
              "      <td>446.508000</td>\n",
              "      <td>5.000000</td>\n",
              "      <td>2.000000</td>\n",
              "      <td>106.160000</td>\n",
              "      <td>546.500000</td>\n",
              "    </tr>\n",
              "    <tr>\n",
              "      <th>max</th>\n",
              "      <td>1000.000000</td>\n",
              "      <td>37646.000000</td>\n",
              "      <td>1.632222e+07</td>\n",
              "      <td>1159.380000</td>\n",
              "      <td>19.000000</td>\n",
              "      <td>11.000000</td>\n",
              "      <td>319.510000</td>\n",
              "      <td>728.000000</td>\n",
              "    </tr>\n",
              "  </tbody>\n",
              "</table>\n",
              "</div>\n",
              "    <div class=\"colab-df-buttons\">\n",
              "\n",
              "  <div class=\"colab-df-container\">\n",
              "    <button class=\"colab-df-convert\" onclick=\"convertToInteractive('df-da8a4f4b-3167-48eb-9bb1-2cf9fcd193f2')\"\n",
              "            title=\"Convert this dataframe to an interactive table.\"\n",
              "            style=\"display:none;\">\n",
              "\n",
              "  <svg xmlns=\"http://www.w3.org/2000/svg\" height=\"24px\" viewBox=\"0 -960 960 960\">\n",
              "    <path d=\"M120-120v-720h720v720H120Zm60-500h600v-160H180v160Zm220 220h160v-160H400v160Zm0 220h160v-160H400v160ZM180-400h160v-160H180v160Zm440 0h160v-160H620v160ZM180-180h160v-160H180v160Zm440 0h160v-160H620v160Z\"/>\n",
              "  </svg>\n",
              "    </button>\n",
              "\n",
              "  <style>\n",
              "    .colab-df-container {\n",
              "      display:flex;\n",
              "      gap: 12px;\n",
              "    }\n",
              "\n",
              "    .colab-df-convert {\n",
              "      background-color: #E8F0FE;\n",
              "      border: none;\n",
              "      border-radius: 50%;\n",
              "      cursor: pointer;\n",
              "      display: none;\n",
              "      fill: #1967D2;\n",
              "      height: 32px;\n",
              "      padding: 0 0 0 0;\n",
              "      width: 32px;\n",
              "    }\n",
              "\n",
              "    .colab-df-convert:hover {\n",
              "      background-color: #E2EBFA;\n",
              "      box-shadow: 0px 1px 2px rgba(60, 64, 67, 0.3), 0px 1px 3px 1px rgba(60, 64, 67, 0.15);\n",
              "      fill: #174EA6;\n",
              "    }\n",
              "\n",
              "    .colab-df-buttons div {\n",
              "      margin-bottom: 4px;\n",
              "    }\n",
              "\n",
              "    [theme=dark] .colab-df-convert {\n",
              "      background-color: #3B4455;\n",
              "      fill: #D2E3FC;\n",
              "    }\n",
              "\n",
              "    [theme=dark] .colab-df-convert:hover {\n",
              "      background-color: #434B5C;\n",
              "      box-shadow: 0px 1px 3px 1px rgba(0, 0, 0, 0.15);\n",
              "      filter: drop-shadow(0px 1px 2px rgba(0, 0, 0, 0.3));\n",
              "      fill: #FFFFFF;\n",
              "    }\n",
              "  </style>\n",
              "\n",
              "    <script>\n",
              "      const buttonEl =\n",
              "        document.querySelector('#df-da8a4f4b-3167-48eb-9bb1-2cf9fcd193f2 button.colab-df-convert');\n",
              "      buttonEl.style.display =\n",
              "        google.colab.kernel.accessAllowed ? 'block' : 'none';\n",
              "\n",
              "      async function convertToInteractive(key) {\n",
              "        const element = document.querySelector('#df-da8a4f4b-3167-48eb-9bb1-2cf9fcd193f2');\n",
              "        const dataTable =\n",
              "          await google.colab.kernel.invokeFunction('convertToInteractive',\n",
              "                                                    [key], {});\n",
              "        if (!dataTable) return;\n",
              "\n",
              "        const docLinkHtml = 'Like what you see? Visit the ' +\n",
              "          '<a target=\"_blank\" href=https://colab.research.google.com/notebooks/data_table.ipynb>data table notebook</a>'\n",
              "          + ' to learn more about interactive tables.';\n",
              "        element.innerHTML = '';\n",
              "        dataTable['output_type'] = 'display_data';\n",
              "        await google.colab.output.renderOutput(dataTable, element);\n",
              "        const docLink = document.createElement('div');\n",
              "        docLink.innerHTML = docLinkHtml;\n",
              "        element.appendChild(docLink);\n",
              "      }\n",
              "    </script>\n",
              "  </div>\n",
              "\n",
              "\n",
              "<div id=\"df-6667aa58-1615-4bce-a9fa-536a283e3302\">\n",
              "  <button class=\"colab-df-quickchart\" onclick=\"quickchart('df-6667aa58-1615-4bce-a9fa-536a283e3302')\"\n",
              "            title=\"Suggest charts.\"\n",
              "            style=\"display:none;\">\n",
              "\n",
              "<svg xmlns=\"http://www.w3.org/2000/svg\" height=\"24px\"viewBox=\"0 0 24 24\"\n",
              "     width=\"24px\">\n",
              "    <g>\n",
              "        <path d=\"M19 3H5c-1.1 0-2 .9-2 2v14c0 1.1.9 2 2 2h14c1.1 0 2-.9 2-2V5c0-1.1-.9-2-2-2zM9 17H7v-7h2v7zm4 0h-2V7h2v10zm4 0h-2v-4h2v4z\"/>\n",
              "    </g>\n",
              "</svg>\n",
              "  </button>\n",
              "\n",
              "<style>\n",
              "  .colab-df-quickchart {\n",
              "      --bg-color: #E8F0FE;\n",
              "      --fill-color: #1967D2;\n",
              "      --hover-bg-color: #E2EBFA;\n",
              "      --hover-fill-color: #174EA6;\n",
              "      --disabled-fill-color: #AAA;\n",
              "      --disabled-bg-color: #DDD;\n",
              "  }\n",
              "\n",
              "  [theme=dark] .colab-df-quickchart {\n",
              "      --bg-color: #3B4455;\n",
              "      --fill-color: #D2E3FC;\n",
              "      --hover-bg-color: #434B5C;\n",
              "      --hover-fill-color: #FFFFFF;\n",
              "      --disabled-bg-color: #3B4455;\n",
              "      --disabled-fill-color: #666;\n",
              "  }\n",
              "\n",
              "  .colab-df-quickchart {\n",
              "    background-color: var(--bg-color);\n",
              "    border: none;\n",
              "    border-radius: 50%;\n",
              "    cursor: pointer;\n",
              "    display: none;\n",
              "    fill: var(--fill-color);\n",
              "    height: 32px;\n",
              "    padding: 0;\n",
              "    width: 32px;\n",
              "  }\n",
              "\n",
              "  .colab-df-quickchart:hover {\n",
              "    background-color: var(--hover-bg-color);\n",
              "    box-shadow: 0 1px 2px rgba(60, 64, 67, 0.3), 0 1px 3px 1px rgba(60, 64, 67, 0.15);\n",
              "    fill: var(--button-hover-fill-color);\n",
              "  }\n",
              "\n",
              "  .colab-df-quickchart-complete:disabled,\n",
              "  .colab-df-quickchart-complete:disabled:hover {\n",
              "    background-color: var(--disabled-bg-color);\n",
              "    fill: var(--disabled-fill-color);\n",
              "    box-shadow: none;\n",
              "  }\n",
              "\n",
              "  .colab-df-spinner {\n",
              "    border: 2px solid var(--fill-color);\n",
              "    border-color: transparent;\n",
              "    border-bottom-color: var(--fill-color);\n",
              "    animation:\n",
              "      spin 1s steps(1) infinite;\n",
              "  }\n",
              "\n",
              "  @keyframes spin {\n",
              "    0% {\n",
              "      border-color: transparent;\n",
              "      border-bottom-color: var(--fill-color);\n",
              "      border-left-color: var(--fill-color);\n",
              "    }\n",
              "    20% {\n",
              "      border-color: transparent;\n",
              "      border-left-color: var(--fill-color);\n",
              "      border-top-color: var(--fill-color);\n",
              "    }\n",
              "    30% {\n",
              "      border-color: transparent;\n",
              "      border-left-color: var(--fill-color);\n",
              "      border-top-color: var(--fill-color);\n",
              "      border-right-color: var(--fill-color);\n",
              "    }\n",
              "    40% {\n",
              "      border-color: transparent;\n",
              "      border-right-color: var(--fill-color);\n",
              "      border-top-color: var(--fill-color);\n",
              "    }\n",
              "    60% {\n",
              "      border-color: transparent;\n",
              "      border-right-color: var(--fill-color);\n",
              "    }\n",
              "    80% {\n",
              "      border-color: transparent;\n",
              "      border-right-color: var(--fill-color);\n",
              "      border-bottom-color: var(--fill-color);\n",
              "    }\n",
              "    90% {\n",
              "      border-color: transparent;\n",
              "      border-bottom-color: var(--fill-color);\n",
              "    }\n",
              "  }\n",
              "</style>\n",
              "\n",
              "  <script>\n",
              "    async function quickchart(key) {\n",
              "      const quickchartButtonEl =\n",
              "        document.querySelector('#' + key + ' button');\n",
              "      quickchartButtonEl.disabled = true;  // To prevent multiple clicks.\n",
              "      quickchartButtonEl.classList.add('colab-df-spinner');\n",
              "      try {\n",
              "        const charts = await google.colab.kernel.invokeFunction(\n",
              "            'suggestCharts', [key], {});\n",
              "      } catch (error) {\n",
              "        console.error('Error during call to suggestCharts:', error);\n",
              "      }\n",
              "      quickchartButtonEl.classList.remove('colab-df-spinner');\n",
              "      quickchartButtonEl.classList.add('colab-df-quickchart-complete');\n",
              "    }\n",
              "    (() => {\n",
              "      let quickchartButtonEl =\n",
              "        document.querySelector('#df-6667aa58-1615-4bce-a9fa-536a283e3302 button');\n",
              "      quickchartButtonEl.style.display =\n",
              "        google.colab.kernel.accessAllowed ? 'block' : 'none';\n",
              "    })();\n",
              "  </script>\n",
              "</div>\n",
              "    </div>\n",
              "  </div>\n"
            ]
          },
          "metadata": {},
          "execution_count": 15
        }
      ]
    },
    {
      "cell_type": "code",
      "source": [
        "data_1400.isna().sum()"
      ],
      "metadata": {
        "colab": {
          "base_uri": "https://localhost:8080/"
        },
        "id": "no3JinbXquzP",
        "outputId": "a110d365-a4bb-41fe-942e-cd0ce6a78b3f"
      },
      "execution_count": 14,
      "outputs": [
        {
          "output_type": "execute_result",
          "data": {
            "text/plain": [
              "Title                        0\n",
              "IC50, mmg/ml                 0\n",
              "CC50-MDCK, mmg/ml            0\n",
              "SI                           0\n",
              "Molecular weight             0\n",
              "Hydrogen bond acceptors      0\n",
              "Hydrogen bond donors         0\n",
              "Polar SA                     0\n",
              "SMILES                       0\n",
              "Pictures                   741\n",
              "dtype: int64"
            ]
          },
          "metadata": {},
          "execution_count": 14
        }
      ]
    },
    {
      "cell_type": "code",
      "source": [
        "data_1400['SI'] = data_1400['CC50-MDCK, mmg/ml']/data_1400['IC50, mmg/ml']"
      ],
      "metadata": {
        "id": "1PPppixoq5VJ"
      },
      "execution_count": 11,
      "outputs": []
    },
    {
      "cell_type": "code",
      "source": [
        "data_1400.dtypes"
      ],
      "metadata": {
        "colab": {
          "base_uri": "https://localhost:8080/"
        },
        "id": "ENUpiycERN7m",
        "outputId": "b9e2c371-d15d-4caa-c2b9-de3ce008ea6e"
      },
      "execution_count": 13,
      "outputs": [
        {
          "output_type": "execute_result",
          "data": {
            "text/plain": [
              "Title                       object\n",
              "IC50, mmg/ml               float64\n",
              "CC50-MDCK, mmg/ml          float64\n",
              "SI                         float64\n",
              "Molecular weight           float64\n",
              "Hydrogen bond acceptors      int64\n",
              "Hydrogen bond donors         int64\n",
              "Polar SA                   float64\n",
              "SMILES                      object\n",
              "Pictures                   float64\n",
              "dtype: object"
            ]
          },
          "metadata": {},
          "execution_count": 13
        }
      ]
    },
    {
      "cell_type": "code",
      "source": [
        "smiles = data_1400['SMILES']"
      ],
      "metadata": {
        "id": "H2K6ignudSry"
      },
      "execution_count": 12,
      "outputs": []
    },
    {
      "cell_type": "code",
      "source": [
        "featurizer = dc.feat.MolGraphConvFeaturizer()\n",
        "X = featurizer.featurize(smiles)\n",
        "labels = data_1400['SI']\n",
        "dataset = dc.data.NumpyDataset(X=X, y=labels)"
      ],
      "metadata": {
        "id": "pzisLrSIiP8X"
      },
      "execution_count": null,
      "outputs": []
    },
    {
      "cell_type": "code",
      "source": [
        "?dc.data.NumpyDataset"
      ],
      "metadata": {
        "id": "dYDMaLoAiykt"
      },
      "execution_count": 36,
      "outputs": []
    },
    {
      "cell_type": "code",
      "source": [
        "model = GCNModel(mode='regression', n_tasks=1,\n",
        "                 batch_size=16, learning_rate=0.001)\n",
        "loss = model.fit(dataset, nb_epoch=50)"
      ],
      "metadata": {
        "id": "58DwNe7AijXp"
      },
      "execution_count": 62,
      "outputs": []
    },
    {
      "cell_type": "code",
      "source": [
        "X"
      ],
      "metadata": {
        "colab": {
          "base_uri": "https://localhost:8080/"
        },
        "id": "PWeSRRyjqfKn",
        "outputId": "8b7724c2-d92b-4dfb-e71a-043a9f8286d5"
      },
      "execution_count": 63,
      "outputs": [
        {
          "output_type": "execute_result",
          "data": {
            "text/plain": [
              "array([GraphData(node_features=[14, 30], edge_index=[2, 30], edge_features=None, pos=[0]),\n",
              "       GraphData(node_features=[14, 30], edge_index=[2, 30], edge_features=None, pos=[0]),\n",
              "       GraphData(node_features=[18, 30], edge_index=[2, 38], edge_features=None, pos=[0]),\n",
              "       ...,\n",
              "       GraphData(node_features=[32, 30], edge_index=[2, 70], edge_features=None, pos=[0]),\n",
              "       GraphData(node_features=[24, 30], edge_index=[2, 52], edge_features=None, pos=[0]),\n",
              "       GraphData(node_features=[27, 30], edge_index=[2, 56], edge_features=None, pos=[0])],\n",
              "      dtype=object)"
            ]
          },
          "metadata": {},
          "execution_count": 63
        }
      ]
    },
    {
      "cell_type": "code",
      "source": [
        "preds = model.predict(dc.data.NumpyDataset(X=X))"
      ],
      "metadata": {
        "id": "wTRvo6H6oyvw"
      },
      "execution_count": 64,
      "outputs": []
    },
    {
      "cell_type": "code",
      "source": [
        "min(preds)"
      ],
      "metadata": {
        "colab": {
          "base_uri": "https://localhost:8080/"
        },
        "id": "f4b01i7dsvA8",
        "outputId": "25df21b2-7e55-45c2-fa6f-70a91f4769e7"
      },
      "execution_count": 70,
      "outputs": [
        {
          "output_type": "execute_result",
          "data": {
            "text/plain": [
              "array([-6.1361375], dtype=float32)"
            ]
          },
          "metadata": {},
          "execution_count": 70
        }
      ]
    },
    {
      "cell_type": "code",
      "source": [
        "from sklearn.metrics import mean_squared_error"
      ],
      "metadata": {
        "id": "DxQEeaUlrP1R"
      },
      "execution_count": 65,
      "outputs": []
    },
    {
      "cell_type": "code",
      "source": [
        "np.sqrt(mean_squared_error(data_1400[\"SI\"], preds))"
      ],
      "metadata": {
        "colab": {
          "base_uri": "https://localhost:8080/"
        },
        "id": "nM1CGz4MrQ7V",
        "outputId": "2e7fbab4-1e1d-435a-edc6-593a583f01f1"
      },
      "execution_count": 69,
      "outputs": [
        {
          "output_type": "execute_result",
          "data": {
            "text/plain": [
              "477398.88207585824"
            ]
          },
          "metadata": {},
          "execution_count": 69
        }
      ]
    },
    {
      "cell_type": "markdown",
      "source": [
        "# baseline"
      ],
      "metadata": {
        "id": "H42EpjjT142R"
      }
    },
    {
      "cell_type": "code",
      "source": [
        "descriptors = {\"HeavyAtomCount\": Descriptors.HeavyAtomCount,\n",
        "               \"NHOHCount\": Descriptors.NHOHCount,\n",
        "               \"NOCount\": Descriptors.NOCount,\n",
        "               \"NumHAcceptors\": Descriptors.NumHAcceptors,\n",
        "               \"NumHDonors\": Descriptors.NumHDonors,\n",
        "               \"NumHeteroatoms\": Descriptors.NumHeteroatoms,\n",
        "               \"NumRotatableBonds\": Descriptors.NumRotatableBonds,\n",
        "               \"NumValenceElectrons\": Descriptors.NumValenceElectrons,\n",
        "               \"NumAromaticRings\": Descriptors.NumAromaticRings,\n",
        "               \"NumAliphaticHeterocycles\": Descriptors.NumAliphaticHeterocycles,\n",
        "               \"RingCount\": Descriptors.RingCount,\n",
        "               \"MW\": Descriptors.MolWt,\n",
        "               \"LogP\": Descriptors.MolLogP,\n",
        "               \"MR\": Descriptors.MolMR,\n",
        "               \"TPSA\": Descriptors.TPSA}"
      ],
      "metadata": {
        "id": "MGxNB6Cr17OJ"
      },
      "execution_count": 73,
      "outputs": []
    },
    {
      "cell_type": "code",
      "source": [
        "mol_list = [Chem.MolFromSmiles(mol) for mol in data_1400[\"SMILES\"]]\n",
        "mol_list"
      ],
      "metadata": {
        "id": "n3_SBRGa177g"
      },
      "execution_count": null,
      "outputs": []
    },
    {
      "cell_type": "code",
      "source": [
        "def mol_dsc_calc(mols):\n",
        "    return pd.DataFrame({k: f(Chem.MolFromSmiles(m)) for k, f in descriptors.items()} for m in mols)\n",
        "\n",
        "descriptors_transformer = FunctionTransformer(mol_dsc_calc)\n",
        "X = descriptors_transformer.transform(data_1400['SMILES'])\n",
        "X.head()"
      ],
      "metadata": {
        "colab": {
          "base_uri": "https://localhost:8080/",
          "height": 226
        },
        "id": "r144WtpaDox-",
        "outputId": "673d420f-d1e0-4d08-8a6f-f2a0f86824fe"
      },
      "execution_count": 79,
      "outputs": [
        {
          "output_type": "execute_result",
          "data": {
            "text/plain": [
              "   HeavyAtomCount  NHOHCount  NOCount  NumHAcceptors  NumHDonors  \\\n",
              "0              14          1        2              2           1   \n",
              "1              14          1        2              2           1   \n",
              "2              18          0        2              2           0   \n",
              "3              16          0        2              2           0   \n",
              "4              17          0        3              3           0   \n",
              "\n",
              "   NumHeteroatoms  NumRotatableBonds  NumValenceElectrons  NumAromaticRings  \\\n",
              "0               2                  2                   80                 0   \n",
              "1               2                  2                   80                 0   \n",
              "2               2                  5                  104                 0   \n",
              "3               2                  3                   92                 0   \n",
              "4               3                  3                   98                 0   \n",
              "\n",
              "   NumAliphaticHeterocycles  RingCount       MW    LogP       MR   TPSA  \n",
              "0                         0          2  195.306  2.2659  58.6168  32.59  \n",
              "1                         0          2  195.306  2.2659  58.6168  32.59  \n",
              "2                         0          2  250.430  3.6154  79.3190  15.60  \n",
              "3                         0          2  222.376  2.8352  70.0850  15.60  \n",
              "4                         0          2  239.359  2.3060  67.6630  29.54  "
            ],
            "text/html": [
              "\n",
              "  <div id=\"df-d7088e1c-4d07-4e41-b39f-32da56315aef\" class=\"colab-df-container\">\n",
              "    <div>\n",
              "<style scoped>\n",
              "    .dataframe tbody tr th:only-of-type {\n",
              "        vertical-align: middle;\n",
              "    }\n",
              "\n",
              "    .dataframe tbody tr th {\n",
              "        vertical-align: top;\n",
              "    }\n",
              "\n",
              "    .dataframe thead th {\n",
              "        text-align: right;\n",
              "    }\n",
              "</style>\n",
              "<table border=\"1\" class=\"dataframe\">\n",
              "  <thead>\n",
              "    <tr style=\"text-align: right;\">\n",
              "      <th></th>\n",
              "      <th>HeavyAtomCount</th>\n",
              "      <th>NHOHCount</th>\n",
              "      <th>NOCount</th>\n",
              "      <th>NumHAcceptors</th>\n",
              "      <th>NumHDonors</th>\n",
              "      <th>NumHeteroatoms</th>\n",
              "      <th>NumRotatableBonds</th>\n",
              "      <th>NumValenceElectrons</th>\n",
              "      <th>NumAromaticRings</th>\n",
              "      <th>NumAliphaticHeterocycles</th>\n",
              "      <th>RingCount</th>\n",
              "      <th>MW</th>\n",
              "      <th>LogP</th>\n",
              "      <th>MR</th>\n",
              "      <th>TPSA</th>\n",
              "    </tr>\n",
              "  </thead>\n",
              "  <tbody>\n",
              "    <tr>\n",
              "      <th>0</th>\n",
              "      <td>14</td>\n",
              "      <td>1</td>\n",
              "      <td>2</td>\n",
              "      <td>2</td>\n",
              "      <td>1</td>\n",
              "      <td>2</td>\n",
              "      <td>2</td>\n",
              "      <td>80</td>\n",
              "      <td>0</td>\n",
              "      <td>0</td>\n",
              "      <td>2</td>\n",
              "      <td>195.306</td>\n",
              "      <td>2.2659</td>\n",
              "      <td>58.6168</td>\n",
              "      <td>32.59</td>\n",
              "    </tr>\n",
              "    <tr>\n",
              "      <th>1</th>\n",
              "      <td>14</td>\n",
              "      <td>1</td>\n",
              "      <td>2</td>\n",
              "      <td>2</td>\n",
              "      <td>1</td>\n",
              "      <td>2</td>\n",
              "      <td>2</td>\n",
              "      <td>80</td>\n",
              "      <td>0</td>\n",
              "      <td>0</td>\n",
              "      <td>2</td>\n",
              "      <td>195.306</td>\n",
              "      <td>2.2659</td>\n",
              "      <td>58.6168</td>\n",
              "      <td>32.59</td>\n",
              "    </tr>\n",
              "    <tr>\n",
              "      <th>2</th>\n",
              "      <td>18</td>\n",
              "      <td>0</td>\n",
              "      <td>2</td>\n",
              "      <td>2</td>\n",
              "      <td>0</td>\n",
              "      <td>2</td>\n",
              "      <td>5</td>\n",
              "      <td>104</td>\n",
              "      <td>0</td>\n",
              "      <td>0</td>\n",
              "      <td>2</td>\n",
              "      <td>250.430</td>\n",
              "      <td>3.6154</td>\n",
              "      <td>79.3190</td>\n",
              "      <td>15.60</td>\n",
              "    </tr>\n",
              "    <tr>\n",
              "      <th>3</th>\n",
              "      <td>16</td>\n",
              "      <td>0</td>\n",
              "      <td>2</td>\n",
              "      <td>2</td>\n",
              "      <td>0</td>\n",
              "      <td>2</td>\n",
              "      <td>3</td>\n",
              "      <td>92</td>\n",
              "      <td>0</td>\n",
              "      <td>0</td>\n",
              "      <td>2</td>\n",
              "      <td>222.376</td>\n",
              "      <td>2.8352</td>\n",
              "      <td>70.0850</td>\n",
              "      <td>15.60</td>\n",
              "    </tr>\n",
              "    <tr>\n",
              "      <th>4</th>\n",
              "      <td>17</td>\n",
              "      <td>0</td>\n",
              "      <td>3</td>\n",
              "      <td>3</td>\n",
              "      <td>0</td>\n",
              "      <td>3</td>\n",
              "      <td>3</td>\n",
              "      <td>98</td>\n",
              "      <td>0</td>\n",
              "      <td>0</td>\n",
              "      <td>2</td>\n",
              "      <td>239.359</td>\n",
              "      <td>2.3060</td>\n",
              "      <td>67.6630</td>\n",
              "      <td>29.54</td>\n",
              "    </tr>\n",
              "  </tbody>\n",
              "</table>\n",
              "</div>\n",
              "    <div class=\"colab-df-buttons\">\n",
              "\n",
              "  <div class=\"colab-df-container\">\n",
              "    <button class=\"colab-df-convert\" onclick=\"convertToInteractive('df-d7088e1c-4d07-4e41-b39f-32da56315aef')\"\n",
              "            title=\"Convert this dataframe to an interactive table.\"\n",
              "            style=\"display:none;\">\n",
              "\n",
              "  <svg xmlns=\"http://www.w3.org/2000/svg\" height=\"24px\" viewBox=\"0 -960 960 960\">\n",
              "    <path d=\"M120-120v-720h720v720H120Zm60-500h600v-160H180v160Zm220 220h160v-160H400v160Zm0 220h160v-160H400v160ZM180-400h160v-160H180v160Zm440 0h160v-160H620v160ZM180-180h160v-160H180v160Zm440 0h160v-160H620v160Z\"/>\n",
              "  </svg>\n",
              "    </button>\n",
              "\n",
              "  <style>\n",
              "    .colab-df-container {\n",
              "      display:flex;\n",
              "      gap: 12px;\n",
              "    }\n",
              "\n",
              "    .colab-df-convert {\n",
              "      background-color: #E8F0FE;\n",
              "      border: none;\n",
              "      border-radius: 50%;\n",
              "      cursor: pointer;\n",
              "      display: none;\n",
              "      fill: #1967D2;\n",
              "      height: 32px;\n",
              "      padding: 0 0 0 0;\n",
              "      width: 32px;\n",
              "    }\n",
              "\n",
              "    .colab-df-convert:hover {\n",
              "      background-color: #E2EBFA;\n",
              "      box-shadow: 0px 1px 2px rgba(60, 64, 67, 0.3), 0px 1px 3px 1px rgba(60, 64, 67, 0.15);\n",
              "      fill: #174EA6;\n",
              "    }\n",
              "\n",
              "    .colab-df-buttons div {\n",
              "      margin-bottom: 4px;\n",
              "    }\n",
              "\n",
              "    [theme=dark] .colab-df-convert {\n",
              "      background-color: #3B4455;\n",
              "      fill: #D2E3FC;\n",
              "    }\n",
              "\n",
              "    [theme=dark] .colab-df-convert:hover {\n",
              "      background-color: #434B5C;\n",
              "      box-shadow: 0px 1px 3px 1px rgba(0, 0, 0, 0.15);\n",
              "      filter: drop-shadow(0px 1px 2px rgba(0, 0, 0, 0.3));\n",
              "      fill: #FFFFFF;\n",
              "    }\n",
              "  </style>\n",
              "\n",
              "    <script>\n",
              "      const buttonEl =\n",
              "        document.querySelector('#df-d7088e1c-4d07-4e41-b39f-32da56315aef button.colab-df-convert');\n",
              "      buttonEl.style.display =\n",
              "        google.colab.kernel.accessAllowed ? 'block' : 'none';\n",
              "\n",
              "      async function convertToInteractive(key) {\n",
              "        const element = document.querySelector('#df-d7088e1c-4d07-4e41-b39f-32da56315aef');\n",
              "        const dataTable =\n",
              "          await google.colab.kernel.invokeFunction('convertToInteractive',\n",
              "                                                    [key], {});\n",
              "        if (!dataTable) return;\n",
              "\n",
              "        const docLinkHtml = 'Like what you see? Visit the ' +\n",
              "          '<a target=\"_blank\" href=https://colab.research.google.com/notebooks/data_table.ipynb>data table notebook</a>'\n",
              "          + ' to learn more about interactive tables.';\n",
              "        element.innerHTML = '';\n",
              "        dataTable['output_type'] = 'display_data';\n",
              "        await google.colab.output.renderOutput(dataTable, element);\n",
              "        const docLink = document.createElement('div');\n",
              "        docLink.innerHTML = docLinkHtml;\n",
              "        element.appendChild(docLink);\n",
              "      }\n",
              "    </script>\n",
              "  </div>\n",
              "\n",
              "\n",
              "<div id=\"df-75b03902-5eb1-4db0-9f64-c2535abb7d65\">\n",
              "  <button class=\"colab-df-quickchart\" onclick=\"quickchart('df-75b03902-5eb1-4db0-9f64-c2535abb7d65')\"\n",
              "            title=\"Suggest charts.\"\n",
              "            style=\"display:none;\">\n",
              "\n",
              "<svg xmlns=\"http://www.w3.org/2000/svg\" height=\"24px\"viewBox=\"0 0 24 24\"\n",
              "     width=\"24px\">\n",
              "    <g>\n",
              "        <path d=\"M19 3H5c-1.1 0-2 .9-2 2v14c0 1.1.9 2 2 2h14c1.1 0 2-.9 2-2V5c0-1.1-.9-2-2-2zM9 17H7v-7h2v7zm4 0h-2V7h2v10zm4 0h-2v-4h2v4z\"/>\n",
              "    </g>\n",
              "</svg>\n",
              "  </button>\n",
              "\n",
              "<style>\n",
              "  .colab-df-quickchart {\n",
              "      --bg-color: #E8F0FE;\n",
              "      --fill-color: #1967D2;\n",
              "      --hover-bg-color: #E2EBFA;\n",
              "      --hover-fill-color: #174EA6;\n",
              "      --disabled-fill-color: #AAA;\n",
              "      --disabled-bg-color: #DDD;\n",
              "  }\n",
              "\n",
              "  [theme=dark] .colab-df-quickchart {\n",
              "      --bg-color: #3B4455;\n",
              "      --fill-color: #D2E3FC;\n",
              "      --hover-bg-color: #434B5C;\n",
              "      --hover-fill-color: #FFFFFF;\n",
              "      --disabled-bg-color: #3B4455;\n",
              "      --disabled-fill-color: #666;\n",
              "  }\n",
              "\n",
              "  .colab-df-quickchart {\n",
              "    background-color: var(--bg-color);\n",
              "    border: none;\n",
              "    border-radius: 50%;\n",
              "    cursor: pointer;\n",
              "    display: none;\n",
              "    fill: var(--fill-color);\n",
              "    height: 32px;\n",
              "    padding: 0;\n",
              "    width: 32px;\n",
              "  }\n",
              "\n",
              "  .colab-df-quickchart:hover {\n",
              "    background-color: var(--hover-bg-color);\n",
              "    box-shadow: 0 1px 2px rgba(60, 64, 67, 0.3), 0 1px 3px 1px rgba(60, 64, 67, 0.15);\n",
              "    fill: var(--button-hover-fill-color);\n",
              "  }\n",
              "\n",
              "  .colab-df-quickchart-complete:disabled,\n",
              "  .colab-df-quickchart-complete:disabled:hover {\n",
              "    background-color: var(--disabled-bg-color);\n",
              "    fill: var(--disabled-fill-color);\n",
              "    box-shadow: none;\n",
              "  }\n",
              "\n",
              "  .colab-df-spinner {\n",
              "    border: 2px solid var(--fill-color);\n",
              "    border-color: transparent;\n",
              "    border-bottom-color: var(--fill-color);\n",
              "    animation:\n",
              "      spin 1s steps(1) infinite;\n",
              "  }\n",
              "\n",
              "  @keyframes spin {\n",
              "    0% {\n",
              "      border-color: transparent;\n",
              "      border-bottom-color: var(--fill-color);\n",
              "      border-left-color: var(--fill-color);\n",
              "    }\n",
              "    20% {\n",
              "      border-color: transparent;\n",
              "      border-left-color: var(--fill-color);\n",
              "      border-top-color: var(--fill-color);\n",
              "    }\n",
              "    30% {\n",
              "      border-color: transparent;\n",
              "      border-left-color: var(--fill-color);\n",
              "      border-top-color: var(--fill-color);\n",
              "      border-right-color: var(--fill-color);\n",
              "    }\n",
              "    40% {\n",
              "      border-color: transparent;\n",
              "      border-right-color: var(--fill-color);\n",
              "      border-top-color: var(--fill-color);\n",
              "    }\n",
              "    60% {\n",
              "      border-color: transparent;\n",
              "      border-right-color: var(--fill-color);\n",
              "    }\n",
              "    80% {\n",
              "      border-color: transparent;\n",
              "      border-right-color: var(--fill-color);\n",
              "      border-bottom-color: var(--fill-color);\n",
              "    }\n",
              "    90% {\n",
              "      border-color: transparent;\n",
              "      border-bottom-color: var(--fill-color);\n",
              "    }\n",
              "  }\n",
              "</style>\n",
              "\n",
              "  <script>\n",
              "    async function quickchart(key) {\n",
              "      const quickchartButtonEl =\n",
              "        document.querySelector('#' + key + ' button');\n",
              "      quickchartButtonEl.disabled = true;  // To prevent multiple clicks.\n",
              "      quickchartButtonEl.classList.add('colab-df-spinner');\n",
              "      try {\n",
              "        const charts = await google.colab.kernel.invokeFunction(\n",
              "            'suggestCharts', [key], {});\n",
              "      } catch (error) {\n",
              "        console.error('Error during call to suggestCharts:', error);\n",
              "      }\n",
              "      quickchartButtonEl.classList.remove('colab-df-spinner');\n",
              "      quickchartButtonEl.classList.add('colab-df-quickchart-complete');\n",
              "    }\n",
              "    (() => {\n",
              "      let quickchartButtonEl =\n",
              "        document.querySelector('#df-75b03902-5eb1-4db0-9f64-c2535abb7d65 button');\n",
              "      quickchartButtonEl.style.display =\n",
              "        google.colab.kernel.accessAllowed ? 'block' : 'none';\n",
              "    })();\n",
              "  </script>\n",
              "</div>\n",
              "    </div>\n",
              "  </div>\n"
            ]
          },
          "metadata": {},
          "execution_count": 79
        }
      ]
    },
    {
      "cell_type": "code",
      "source": [
        "params = {\n",
        "    \"objective\": \"reg:squarederror\",\n",
        "    \"n_estimators\":100,\n",
        "    \"max_depth\": 4,\n",
        "    \"learning_rate\": 0.01,\n",
        "    \"subsample\": 0.8,\n",
        "    \"colsample_bytree\": 0.9,\n",
        "    \"colsample_bylevel\": 0.8,\n",
        "    \"reg_lambda\": 0.1,\n",
        "    \"eval_metric\": \"rmse\",\n",
        "    \"random_state\": 42,\n",
        "}"
      ],
      "metadata": {
        "id": "SQMn-lCfGCyC"
      },
      "execution_count": 84,
      "outputs": []
    },
    {
      "cell_type": "code",
      "source": [
        "y = data_1400['IC50, mmg/ml']"
      ],
      "metadata": {
        "id": "0wxCyI7gHYxE"
      },
      "execution_count": 86,
      "outputs": []
    },
    {
      "cell_type": "code",
      "source": [
        "X_train, X_test, y_train, y_test = train_test_split(X, y, test_size=0.1, random_state=0)"
      ],
      "metadata": {
        "id": "4apQaDvyHYBt"
      },
      "execution_count": 87,
      "outputs": []
    },
    {
      "cell_type": "code",
      "source": [
        "reg = xgb.XGBRegressor(**params)"
      ],
      "metadata": {
        "id": "gCRGU1pTHKhi"
      },
      "execution_count": 85,
      "outputs": []
    },
    {
      "cell_type": "code",
      "source": [
        "reg.fit(X_train,\n",
        "        y_train,\n",
        "        verbose=False,\n",
        "        eval_set= [(X_train, y_train), (X_test, y_test)],\n",
        "        early_stopping_rounds= 3\n",
        "        )"
      ],
      "metadata": {
        "colab": {
          "base_uri": "https://localhost:8080/",
          "height": 303
        },
        "id": "-U1NsTPzHoak",
        "outputId": "304fc72a-c33b-4c5f-aa57-0ccec27765c9"
      },
      "execution_count": 88,
      "outputs": [
        {
          "output_type": "stream",
          "name": "stderr",
          "text": [
            "/usr/local/lib/python3.10/dist-packages/xgboost/sklearn.py:885: UserWarning: `early_stopping_rounds` in `fit` method is deprecated for better compatibility with scikit-learn, use `early_stopping_rounds` in constructor or`set_params` instead.\n",
            "  warnings.warn(\n"
          ]
        },
        {
          "output_type": "execute_result",
          "data": {
            "text/plain": [
              "XGBRegressor(base_score=None, booster=None, callbacks=None,\n",
              "             colsample_bylevel=0.8, colsample_bynode=None, colsample_bytree=0.9,\n",
              "             device=None, early_stopping_rounds=None, enable_categorical=False,\n",
              "             eval_metric='rmse', feature_types=None, gamma=None,\n",
              "             grow_policy=None, importance_type=None,\n",
              "             interaction_constraints=None, learning_rate=0.01, max_bin=None,\n",
              "             max_cat_threshold=None, max_cat_to_onehot=None,\n",
              "             max_delta_step=None, max_depth=4, max_leaves=None,\n",
              "             min_child_weight=None, missing=nan, monotone_constraints=None,\n",
              "             multi_strategy=None, n_estimators=100, n_jobs=None,\n",
              "             num_parallel_tree=None, random_state=42, ...)"
            ],
            "text/html": [
              "<style>#sk-container-id-1 {color: black;background-color: white;}#sk-container-id-1 pre{padding: 0;}#sk-container-id-1 div.sk-toggleable {background-color: white;}#sk-container-id-1 label.sk-toggleable__label {cursor: pointer;display: block;width: 100%;margin-bottom: 0;padding: 0.3em;box-sizing: border-box;text-align: center;}#sk-container-id-1 label.sk-toggleable__label-arrow:before {content: \"▸\";float: left;margin-right: 0.25em;color: #696969;}#sk-container-id-1 label.sk-toggleable__label-arrow:hover:before {color: black;}#sk-container-id-1 div.sk-estimator:hover label.sk-toggleable__label-arrow:before {color: black;}#sk-container-id-1 div.sk-toggleable__content {max-height: 0;max-width: 0;overflow: hidden;text-align: left;background-color: #f0f8ff;}#sk-container-id-1 div.sk-toggleable__content pre {margin: 0.2em;color: black;border-radius: 0.25em;background-color: #f0f8ff;}#sk-container-id-1 input.sk-toggleable__control:checked~div.sk-toggleable__content {max-height: 200px;max-width: 100%;overflow: auto;}#sk-container-id-1 input.sk-toggleable__control:checked~label.sk-toggleable__label-arrow:before {content: \"▾\";}#sk-container-id-1 div.sk-estimator input.sk-toggleable__control:checked~label.sk-toggleable__label {background-color: #d4ebff;}#sk-container-id-1 div.sk-label input.sk-toggleable__control:checked~label.sk-toggleable__label {background-color: #d4ebff;}#sk-container-id-1 input.sk-hidden--visually {border: 0;clip: rect(1px 1px 1px 1px);clip: rect(1px, 1px, 1px, 1px);height: 1px;margin: -1px;overflow: hidden;padding: 0;position: absolute;width: 1px;}#sk-container-id-1 div.sk-estimator {font-family: monospace;background-color: #f0f8ff;border: 1px dotted black;border-radius: 0.25em;box-sizing: border-box;margin-bottom: 0.5em;}#sk-container-id-1 div.sk-estimator:hover {background-color: #d4ebff;}#sk-container-id-1 div.sk-parallel-item::after {content: \"\";width: 100%;border-bottom: 1px solid gray;flex-grow: 1;}#sk-container-id-1 div.sk-label:hover label.sk-toggleable__label {background-color: #d4ebff;}#sk-container-id-1 div.sk-serial::before {content: \"\";position: absolute;border-left: 1px solid gray;box-sizing: border-box;top: 0;bottom: 0;left: 50%;z-index: 0;}#sk-container-id-1 div.sk-serial {display: flex;flex-direction: column;align-items: center;background-color: white;padding-right: 0.2em;padding-left: 0.2em;position: relative;}#sk-container-id-1 div.sk-item {position: relative;z-index: 1;}#sk-container-id-1 div.sk-parallel {display: flex;align-items: stretch;justify-content: center;background-color: white;position: relative;}#sk-container-id-1 div.sk-item::before, #sk-container-id-1 div.sk-parallel-item::before {content: \"\";position: absolute;border-left: 1px solid gray;box-sizing: border-box;top: 0;bottom: 0;left: 50%;z-index: -1;}#sk-container-id-1 div.sk-parallel-item {display: flex;flex-direction: column;z-index: 1;position: relative;background-color: white;}#sk-container-id-1 div.sk-parallel-item:first-child::after {align-self: flex-end;width: 50%;}#sk-container-id-1 div.sk-parallel-item:last-child::after {align-self: flex-start;width: 50%;}#sk-container-id-1 div.sk-parallel-item:only-child::after {width: 0;}#sk-container-id-1 div.sk-dashed-wrapped {border: 1px dashed gray;margin: 0 0.4em 0.5em 0.4em;box-sizing: border-box;padding-bottom: 0.4em;background-color: white;}#sk-container-id-1 div.sk-label label {font-family: monospace;font-weight: bold;display: inline-block;line-height: 1.2em;}#sk-container-id-1 div.sk-label-container {text-align: center;}#sk-container-id-1 div.sk-container {/* jupyter's `normalize.less` sets `[hidden] { display: none; }` but bootstrap.min.css set `[hidden] { display: none !important; }` so we also need the `!important` here to be able to override the default hidden behavior on the sphinx rendered scikit-learn.org. See: https://github.com/scikit-learn/scikit-learn/issues/21755 */display: inline-block !important;position: relative;}#sk-container-id-1 div.sk-text-repr-fallback {display: none;}</style><div id=\"sk-container-id-1\" class=\"sk-top-container\"><div class=\"sk-text-repr-fallback\"><pre>XGBRegressor(base_score=None, booster=None, callbacks=None,\n",
              "             colsample_bylevel=0.8, colsample_bynode=None, colsample_bytree=0.9,\n",
              "             device=None, early_stopping_rounds=None, enable_categorical=False,\n",
              "             eval_metric=&#x27;rmse&#x27;, feature_types=None, gamma=None,\n",
              "             grow_policy=None, importance_type=None,\n",
              "             interaction_constraints=None, learning_rate=0.01, max_bin=None,\n",
              "             max_cat_threshold=None, max_cat_to_onehot=None,\n",
              "             max_delta_step=None, max_depth=4, max_leaves=None,\n",
              "             min_child_weight=None, missing=nan, monotone_constraints=None,\n",
              "             multi_strategy=None, n_estimators=100, n_jobs=None,\n",
              "             num_parallel_tree=None, random_state=42, ...)</pre><b>In a Jupyter environment, please rerun this cell to show the HTML representation or trust the notebook. <br />On GitHub, the HTML representation is unable to render, please try loading this page with nbviewer.org.</b></div><div class=\"sk-container\" hidden><div class=\"sk-item\"><div class=\"sk-estimator sk-toggleable\"><input class=\"sk-toggleable__control sk-hidden--visually\" id=\"sk-estimator-id-1\" type=\"checkbox\" checked><label for=\"sk-estimator-id-1\" class=\"sk-toggleable__label sk-toggleable__label-arrow\">XGBRegressor</label><div class=\"sk-toggleable__content\"><pre>XGBRegressor(base_score=None, booster=None, callbacks=None,\n",
              "             colsample_bylevel=0.8, colsample_bynode=None, colsample_bytree=0.9,\n",
              "             device=None, early_stopping_rounds=None, enable_categorical=False,\n",
              "             eval_metric=&#x27;rmse&#x27;, feature_types=None, gamma=None,\n",
              "             grow_policy=None, importance_type=None,\n",
              "             interaction_constraints=None, learning_rate=0.01, max_bin=None,\n",
              "             max_cat_threshold=None, max_cat_to_onehot=None,\n",
              "             max_delta_step=None, max_depth=4, max_leaves=None,\n",
              "             min_child_weight=None, missing=nan, monotone_constraints=None,\n",
              "             multi_strategy=None, n_estimators=100, n_jobs=None,\n",
              "             num_parallel_tree=None, random_state=42, ...)</pre></div></div></div></div></div>"
            ]
          },
          "metadata": {},
          "execution_count": 88
        }
      ]
    },
    {
      "cell_type": "code",
      "source": [
        "reg.score(X_train, y_train, sample_weight=None)"
      ],
      "metadata": {
        "colab": {
          "base_uri": "https://localhost:8080/"
        },
        "id": "fHWgNlHTHrXm",
        "outputId": "d2af9128-7363-4a5d-e21f-d87c204c908f"
      },
      "execution_count": 89,
      "outputs": [
        {
          "output_type": "execute_result",
          "data": {
            "text/plain": [
              "0.3208425779424342"
            ]
          },
          "metadata": {},
          "execution_count": 89
        }
      ]
    },
    {
      "cell_type": "code",
      "source": [
        "results = reg.evals_result()"
      ],
      "metadata": {
        "id": "h6fas54FHxVH"
      },
      "execution_count": 90,
      "outputs": []
    },
    {
      "cell_type": "code",
      "source": [
        "results['validation_1']['rmse'][reg.best_iteration]"
      ],
      "metadata": {
        "colab": {
          "base_uri": "https://localhost:8080/"
        },
        "id": "ijJbOMg9H0RT",
        "outputId": "9dffa231-b995-4181-a903-ac2bc65d0f99"
      },
      "execution_count": 93,
      "outputs": [
        {
          "output_type": "execute_result",
          "data": {
            "text/plain": [
              "88.9753517926065"
            ]
          },
          "metadata": {},
          "execution_count": 93
        }
      ]
    },
    {
      "cell_type": "code",
      "source": [
        "xgb.plot_importance(reg,\n",
        "                    importance_type=\"gain\",\n",
        "                    show_values=False,\n",
        "                    xlabel=\"Gain\");"
      ],
      "metadata": {
        "colab": {
          "base_uri": "https://localhost:8080/",
          "height": 472
        },
        "id": "xFfymZhzILtp",
        "outputId": "54ed774b-e3d3-4fa2-9871-fa7ad3231b72"
      },
      "execution_count": 94,
      "outputs": [
        {
          "output_type": "display_data",
          "data": {
            "text/plain": [
              "<Figure size 640x480 with 1 Axes>"
            ],
            "image/png": "[encoded data removed]"
          },
          "metadata": {}
        }
      ]
    },
    {
      "cell_type": "code",
      "source": [
        "reg.save_model(\"xgboost_1.json\")"
      ],
      "metadata": {
        "id": "SbYVqYzfMfOE"
      },
      "execution_count": 97,
      "outputs": []
    },
    {
      "cell_type": "code",
      "source": [
        "!pip install https://github.com/HyunSeobKim/CHEM-BERT#fine-tuning-with-a-pre-trained-model"
      ],
      "metadata": {
        "id": "PA51xi70Tfai"
      },
      "execution_count": null,
      "outputs": []
    },
    {
      "cell_type": "code",
      "source": [
        "!python -m pip install git+https://github.com/HyunSeobKim/CHEM-BERT/tree/master"
      ],
      "metadata": {
        "colab": {
          "base_uri": "https://localhost:8080/"
        },
        "id": "wUo2C6PlTwhl",
        "outputId": "e550fb60-64f1-4499-b67a-11b53836f0f8"
      },
      "execution_count": 98,
      "outputs": [
        {
          "output_type": "stream",
          "name": "stdout",
          "text": [
            "Collecting git+https://github.com/HyunSeobKim/CHEM-BERT/tree/master\n",
            "  Cloning https://github.com/HyunSeobKim/CHEM-BERT/tree/master to /tmp/pip-req-build-g9oinboy\n",
            "  Running command git clone --filter=blob:none --quiet https://github.com/HyunSeobKim/CHEM-BERT/tree/master /tmp/pip-req-build-g9oinboy\n",
            "  fatal: repository 'https://github.com/HyunSeobKim/CHEM-BERT/tree/master/' not found\n",
            "  \u001b[1;31merror\u001b[0m: \u001b[1msubprocess-exited-with-error\u001b[0m\n",
            "  \n",
            "  \u001b[31m×\u001b[0m \u001b[32mgit clone --\u001b[0m\u001b[32mfilter\u001b[0m\u001b[32m=\u001b[0m\u001b[32mblob\u001b[0m\u001b[32m:none --quiet \u001b[0m\u001b[4;32mhttps://github.com/HyunSeobKim/CHEM-BERT/tree/master\u001b[0m\u001b[32m \u001b[0m\u001b[32m/tmp/\u001b[0m\u001b[32mpip-req-build-g9oinboy\u001b[0m did not run successfully.\n",
            "  \u001b[31m│\u001b[0m exit code: \u001b[1;36m128\u001b[0m\n",
            "  \u001b[31m╰─>\u001b[0m See above for output.\n",
            "  \n",
            "  \u001b[1;35mnote\u001b[0m: This error originates from a subprocess, and is likely not a problem with pip.\n",
            "\u001b[1;31merror\u001b[0m: \u001b[1msubprocess-exited-with-error\u001b[0m\n",
            "\n",
            "\u001b[31m×\u001b[0m \u001b[32mgit clone --\u001b[0m\u001b[32mfilter\u001b[0m\u001b[32m=\u001b[0m\u001b[32mblob\u001b[0m\u001b[32m:none --quiet \u001b[0m\u001b[4;32mhttps://github.com/HyunSeobKim/CHEM-BERT/tree/master\u001b[0m\u001b[32m \u001b[0m\u001b[32m/tmp/\u001b[0m\u001b[32mpip-req-build-g9oinboy\u001b[0m did not run successfully.\n",
            "\u001b[31m│\u001b[0m exit code: \u001b[1;36m128\u001b[0m\n",
            "\u001b[31m╰─>\u001b[0m See above for output.\n",
            "\n",
            "\u001b[1;35mnote\u001b[0m: This error originates from a subprocess, and is likely not a problem with pip.\n"
          ]
        }
      ]
    },
    {
      "cell_type": "code",
      "source": [
        "!git clone https://github.com/HyunSeobKim/CHEM-BERT"
      ],
      "metadata": {
        "colab": {
          "base_uri": "https://localhost:8080/"
        },
        "id": "Khqe3xHnVazA",
        "outputId": "e6a48e65-5bf4-4303-8106-63e05baa6ade"
      },
      "execution_count": 100,
      "outputs": [
        {
          "output_type": "stream",
          "name": "stdout",
          "text": [
            "Cloning into 'CHEM-BERT'...\n",
            "remote: Enumerating objects: 91, done.\u001b[K\n",
            "remote: Counting objects: 100% (91/91), done.\u001b[K\n",
            "remote: Compressing objects: 100% (75/75), done.\u001b[K\n",
            "remote: Total 91 (delta 47), reused 43 (delta 14), pack-reused 0\u001b[K\n",
            "Receiving objects: 100% (91/91), 32.49 KiB | 899.00 KiB/s, done.\n",
            "Resolving deltas: 100% (47/47), done.\n",
            "Downloading model/pretrained_model.pt (204 MB)\n",
            "Error downloading object: model/pretrained_model.pt (d27ead0): Smudge error: Error downloading model/pretrained_model.pt (d27ead0dd458f126b6676efa35195b7cdbf50414d6f874a90a2a1240b51803cb): batch response: This repository is over its data quota. Account responsible for LFS bandwidth should purchase more data packs to restore access.\n",
            "\n",
            "Errors logged to /content/CHEM-BERT/.git/lfs/logs/20231021T130353.554460263.log\n",
            "Use `git lfs logs last` to view the log.\n",
            "error: external filter 'git-lfs filter-process' failed\n",
            "fatal: model/pretrained_model.pt: smudge filter lfs failed\n",
            "warning: Clone succeeded, but checkout failed.\n",
            "You can inspect what was checked out with 'git status'\n",
            "and retry with 'git restore --source=HEAD :/'\n",
            "\n"
          ]
        }
      ]
    },
    {
      "cell_type": "code",
      "source": [],
      "metadata": {
        "id": "dJCsX5nsWUag"
      },
      "execution_count": null,
      "outputs": []
    },
    {
      "cell_type": "markdown",
      "source": [
        "# Векторизация на совместном датасете"
      ],
      "metadata": {
        "id": "0KZEf6-zXtJh"
      }
    },
    {
      "cell_type": "code",
      "source": [
        "data_1400_new = data_1400[[\"SMILES\", \"IC50, mmg/ml\"]]\n",
        "data_35000_new = data_35000[[\"SMILES\", \"IC50\"]]"
      ],
      "metadata": {
        "id": "-FU2UJ64Yt8F"
      },
      "execution_count": 45,
      "outputs": []
    },
    {
      "cell_type": "code",
      "source": [
        "data_1400_new  = data_1400_new.rename(columns={'IC50, mmg/ml': 'IC50'})"
      ],
      "metadata": {
        "id": "UVoH_PnAZuUn"
      },
      "execution_count": 46,
      "outputs": []
    },
    {
      "cell_type": "code",
      "source": [
        "data_total = pd.concat([data_1400_new, data_35000_new])"
      ],
      "metadata": {
        "id": "tkTVWNVIZgI5"
      },
      "execution_count": 89,
      "outputs": []
    },
    {
      "cell_type": "code",
      "source": [
        "len(data_total)"
      ],
      "metadata": {
        "colab": {
          "base_uri": "https://localhost:8080/"
        },
        "id": "-BslItVpheO5",
        "outputId": "8d8f1998-96d7-407e-b5a8-856ca5914d7a"
      },
      "execution_count": 48,
      "outputs": [
        {
          "output_type": "execute_result",
          "data": {
            "text/plain": [
              "37845"
            ]
          },
          "metadata": {},
          "execution_count": 48
        }
      ]
    },
    {
      "cell_type": "code",
      "source": [
        "data_total = data_total.drop_duplicates()"
      ],
      "metadata": {
        "id": "Uk-GBGyrhgBD"
      },
      "execution_count": 90,
      "outputs": []
    },
    {
      "cell_type": "code",
      "source": [
        "len(data_total)"
      ],
      "metadata": {
        "colab": {
          "base_uri": "https://localhost:8080/"
        },
        "id": "QjpZpgd0hljY",
        "outputId": "6a67f039-90eb-4a6a-f238-b2bcbb606c81"
      },
      "execution_count": 51,
      "outputs": [
        {
          "output_type": "execute_result",
          "data": {
            "text/plain": [
              "36397"
            ]
          },
          "metadata": {},
          "execution_count": 51
        }
      ]
    },
    {
      "cell_type": "code",
      "source": [
        "data_total"
      ],
      "metadata": {
        "colab": {
          "base_uri": "https://localhost:8080/",
          "height": 423
        },
        "id": "WNto2Z-HaKbd",
        "outputId": "97564b6a-6f57-4c5b-bde4-a40389c7309a"
      },
      "execution_count": 52,
      "outputs": [
        {
          "output_type": "execute_result",
          "data": {
            "text/plain": [
              "                                                  SMILES     IC50\n",
              "0                    OCC\\N=C(\\[C@]12C)C[C@@H](C1(C)C)CC2     2.70\n",
              "1                    OCC\\N=C(\\[C@]12C)C[C@@H](C1(C)C)CC2     0.70\n",
              "2              CCN(CC)CC\\N=C(\\[C@@]12C)C[C@H](C1(C)C)CC2     9.90\n",
              "3                CN(C)CC\\N=C(\\[C@@]12C)C[C@H](C1(C)C)CC2     8.30\n",
              "4           CN(C)CC(=O)O[C@H]1C[C@H](CC2)C(C)(C)[C@@]12C    39.40\n",
              "...                                                  ...      ...\n",
              "36372  CC(=O)N[C@H]1CC[C@@H]([C@@H]12)[C@@H](O[Si](C)...  2366.79\n",
              "36373                   CC(=O)Nc(cc1)c(OC(=O)C)cc1C(=O)O  2372.10\n",
              "36374  c1cccc(c12)cccc2CNC(=O)CCCCCCO[C@]3(C(=O)O)C[C...  2600.97\n",
              "36375                NCCCC(=O)Nc(c(cc1)NC(=O)C)cc1C(=O)O  2793.00\n",
              "36376  CC(=O)N[C@H]1CS(=O)(=O)[C@@H]([C@@H]12)[C@@H](...  3183.60\n",
              "\n",
              "[36397 rows x 2 columns]"
            ],
            "text/html": [
              "\n",
              "  <div id=\"df-054e21c5-609b-4f7c-99c8-8cb9b9739c22\" class=\"colab-df-container\">\n",
              "    <div>\n",
              "<style scoped>\n",
              "    .dataframe tbody tr th:only-of-type {\n",
              "        vertical-align: middle;\n",
              "    }\n",
              "\n",
              "    .dataframe tbody tr th {\n",
              "        vertical-align: top;\n",
              "    }\n",
              "\n",
              "    .dataframe thead th {\n",
              "        text-align: right;\n",
              "    }\n",
              "</style>\n",
              "<table border=\"1\" class=\"dataframe\">\n",
              "  <thead>\n",
              "    <tr style=\"text-align: right;\">\n",
              "      <th></th>\n",
              "      <th>SMILES</th>\n",
              "      <th>IC50</th>\n",
              "    </tr>\n",
              "  </thead>\n",
              "  <tbody>\n",
              "    <tr>\n",
              "      <th>0</th>\n",
              "      <td>OCC\\N=C(\\[C@]12C)C[C@@H](C1(C)C)CC2</td>\n",
              "      <td>2.70</td>\n",
              "    </tr>\n",
              "    <tr>\n",
              "      <th>1</th>\n",
              "      <td>OCC\\N=C(\\[C@]12C)C[C@@H](C1(C)C)CC2</td>\n",
              "      <td>0.70</td>\n",
              "    </tr>\n",
              "    <tr>\n",
              "      <th>2</th>\n",
              "      <td>CCN(CC)CC\\N=C(\\[C@@]12C)C[C@H](C1(C)C)CC2</td>\n",
              "      <td>9.90</td>\n",
              "    </tr>\n",
              "    <tr>\n",
              "      <th>3</th>\n",
              "      <td>CN(C)CC\\N=C(\\[C@@]12C)C[C@H](C1(C)C)CC2</td>\n",
              "      <td>8.30</td>\n",
              "    </tr>\n",
              "    <tr>\n",
              "      <th>4</th>\n",
              "      <td>CN(C)CC(=O)O[C@H]1C[C@H](CC2)C(C)(C)[C@@]12C</td>\n",
              "      <td>39.40</td>\n",
              "    </tr>\n",
              "    <tr>\n",
              "      <th>...</th>\n",
              "      <td>...</td>\n",
              "      <td>...</td>\n",
              "    </tr>\n",
              "    <tr>\n",
              "      <th>36372</th>\n",
              "      <td>CC(=O)N[C@H]1CC[C@@H]([C@@H]12)[C@@H](O[Si](C)...</td>\n",
              "      <td>2366.79</td>\n",
              "    </tr>\n",
              "    <tr>\n",
              "      <th>36373</th>\n",
              "      <td>CC(=O)Nc(cc1)c(OC(=O)C)cc1C(=O)O</td>\n",
              "      <td>2372.10</td>\n",
              "    </tr>\n",
              "    <tr>\n",
              "      <th>36374</th>\n",
              "      <td>c1cccc(c12)cccc2CNC(=O)CCCCCCO[C@]3(C(=O)O)C[C...</td>\n",
              "      <td>2600.97</td>\n",
              "    </tr>\n",
              "    <tr>\n",
              "      <th>36375</th>\n",
              "      <td>NCCCC(=O)Nc(c(cc1)NC(=O)C)cc1C(=O)O</td>\n",
              "      <td>2793.00</td>\n",
              "    </tr>\n",
              "    <tr>\n",
              "      <th>36376</th>\n",
              "      <td>CC(=O)N[C@H]1CS(=O)(=O)[C@@H]([C@@H]12)[C@@H](...</td>\n",
              "      <td>3183.60</td>\n",
              "    </tr>\n",
              "  </tbody>\n",
              "</table>\n",
              "<p>36397 rows × 2 columns</p>\n",
              "</div>\n",
              "    <div class=\"colab-df-buttons\">\n",
              "\n",
              "  <div class=\"colab-df-container\">\n",
              "    <button class=\"colab-df-convert\" onclick=\"convertToInteractive('df-054e21c5-609b-4f7c-99c8-8cb9b9739c22')\"\n",
              "            title=\"Convert this dataframe to an interactive table.\"\n",
              "            style=\"display:none;\">\n",
              "\n",
              "  <svg xmlns=\"http://www.w3.org/2000/svg\" height=\"24px\" viewBox=\"0 -960 960 960\">\n",
              "    <path d=\"M120-120v-720h720v720H120Zm60-500h600v-160H180v160Zm220 220h160v-160H400v160Zm0 220h160v-160H400v160ZM180-400h160v-160H180v160Zm440 0h160v-160H620v160ZM180-180h160v-160H180v160Zm440 0h160v-160H620v160Z\"/>\n",
              "  </svg>\n",
              "    </button>\n",
              "\n",
              "  <style>\n",
              "    .colab-df-container {\n",
              "      display:flex;\n",
              "      gap: 12px;\n",
              "    }\n",
              "\n",
              "    .colab-df-convert {\n",
              "      background-color: #E8F0FE;\n",
              "      border: none;\n",
              "      border-radius: 50%;\n",
              "      cursor: pointer;\n",
              "      display: none;\n",
              "      fill: #1967D2;\n",
              "      height: 32px;\n",
              "      padding: 0 0 0 0;\n",
              "      width: 32px;\n",
              "    }\n",
              "\n",
              "    .colab-df-convert:hover {\n",
              "      background-color: #E2EBFA;\n",
              "      box-shadow: 0px 1px 2px rgba(60, 64, 67, 0.3), 0px 1px 3px 1px rgba(60, 64, 67, 0.15);\n",
              "      fill: #174EA6;\n",
              "    }\n",
              "\n",
              "    .colab-df-buttons div {\n",
              "      margin-bottom: 4px;\n",
              "    }\n",
              "\n",
              "    [theme=dark] .colab-df-convert {\n",
              "      background-color: #3B4455;\n",
              "      fill: #D2E3FC;\n",
              "    }\n",
              "\n",
              "    [theme=dark] .colab-df-convert:hover {\n",
              "      background-color: #434B5C;\n",
              "      box-shadow: 0px 1px 3px 1px rgba(0, 0, 0, 0.15);\n",
              "      filter: drop-shadow(0px 1px 2px rgba(0, 0, 0, 0.3));\n",
              "      fill: #FFFFFF;\n",
              "    }\n",
              "  </style>\n",
              "\n",
              "    <script>\n",
              "      const buttonEl =\n",
              "        document.querySelector('#df-054e21c5-609b-4f7c-99c8-8cb9b9739c22 button.colab-df-convert');\n",
              "      buttonEl.style.display =\n",
              "        google.colab.kernel.accessAllowed ? 'block' : 'none';\n",
              "\n",
              "      async function convertToInteractive(key) {\n",
              "        const element = document.querySelector('#df-054e21c5-609b-4f7c-99c8-8cb9b9739c22');\n",
              "        const dataTable =\n",
              "          await google.colab.kernel.invokeFunction('convertToInteractive',\n",
              "                                                    [key], {});\n",
              "        if (!dataTable) return;\n",
              "\n",
              "        const docLinkHtml = 'Like what you see? Visit the ' +\n",
              "          '<a target=\"_blank\" href=https://colab.research.google.com/notebooks/data_table.ipynb>data table notebook</a>'\n",
              "          + ' to learn more about interactive tables.';\n",
              "        element.innerHTML = '';\n",
              "        dataTable['output_type'] = 'display_data';\n",
              "        await google.colab.output.renderOutput(dataTable, element);\n",
              "        const docLink = document.createElement('div');\n",
              "        docLink.innerHTML = docLinkHtml;\n",
              "        element.appendChild(docLink);\n",
              "      }\n",
              "    </script>\n",
              "  </div>\n",
              "\n",
              "\n",
              "<div id=\"df-700c1b15-7fa1-4aef-97ca-16b781eb4eb8\">\n",
              "  <button class=\"colab-df-quickchart\" onclick=\"quickchart('df-700c1b15-7fa1-4aef-97ca-16b781eb4eb8')\"\n",
              "            title=\"Suggest charts.\"\n",
              "            style=\"display:none;\">\n",
              "\n",
              "<svg xmlns=\"http://www.w3.org/2000/svg\" height=\"24px\"viewBox=\"0 0 24 24\"\n",
              "     width=\"24px\">\n",
              "    <g>\n",
              "        <path d=\"M19 3H5c-1.1 0-2 .9-2 2v14c0 1.1.9 2 2 2h14c1.1 0 2-.9 2-2V5c0-1.1-.9-2-2-2zM9 17H7v-7h2v7zm4 0h-2V7h2v10zm4 0h-2v-4h2v4z\"/>\n",
              "    </g>\n",
              "</svg>\n",
              "  </button>\n",
              "\n",
              "<style>\n",
              "  .colab-df-quickchart {\n",
              "      --bg-color: #E8F0FE;\n",
              "      --fill-color: #1967D2;\n",
              "      --hover-bg-color: #E2EBFA;\n",
              "      --hover-fill-color: #174EA6;\n",
              "      --disabled-fill-color: #AAA;\n",
              "      --disabled-bg-color: #DDD;\n",
              "  }\n",
              "\n",
              "  [theme=dark] .colab-df-quickchart {\n",
              "      --bg-color: #3B4455;\n",
              "      --fill-color: #D2E3FC;\n",
              "      --hover-bg-color: #434B5C;\n",
              "      --hover-fill-color: #FFFFFF;\n",
              "      --disabled-bg-color: #3B4455;\n",
              "      --disabled-fill-color: #666;\n",
              "  }\n",
              "\n",
              "  .colab-df-quickchart {\n",
              "    background-color: var(--bg-color);\n",
              "    border: none;\n",
              "    border-radius: 50%;\n",
              "    cursor: pointer;\n",
              "    display: none;\n",
              "    fill: var(--fill-color);\n",
              "    height: 32px;\n",
              "    padding: 0;\n",
              "    width: 32px;\n",
              "  }\n",
              "\n",
              "  .colab-df-quickchart:hover {\n",
              "    background-color: var(--hover-bg-color);\n",
              "    box-shadow: 0 1px 2px rgba(60, 64, 67, 0.3), 0 1px 3px 1px rgba(60, 64, 67, 0.15);\n",
              "    fill: var(--button-hover-fill-color);\n",
              "  }\n",
              "\n",
              "  .colab-df-quickchart-complete:disabled,\n",
              "  .colab-df-quickchart-complete:disabled:hover {\n",
              "    background-color: var(--disabled-bg-color);\n",
              "    fill: var(--disabled-fill-color);\n",
              "    box-shadow: none;\n",
              "  }\n",
              "\n",
              "  .colab-df-spinner {\n",
              "    border: 2px solid var(--fill-color);\n",
              "    border-color: transparent;\n",
              "    border-bottom-color: var(--fill-color);\n",
              "    animation:\n",
              "      spin 1s steps(1) infinite;\n",
              "  }\n",
              "\n",
              "  @keyframes spin {\n",
              "    0% {\n",
              "      border-color: transparent;\n",
              "      border-bottom-color: var(--fill-color);\n",
              "      border-left-color: var(--fill-color);\n",
              "    }\n",
              "    20% {\n",
              "      border-color: transparent;\n",
              "      border-left-color: var(--fill-color);\n",
              "      border-top-color: var(--fill-color);\n",
              "    }\n",
              "    30% {\n",
              "      border-color: transparent;\n",
              "      border-left-color: var(--fill-color);\n",
              "      border-top-color: var(--fill-color);\n",
              "      border-right-color: var(--fill-color);\n",
              "    }\n",
              "    40% {\n",
              "      border-color: transparent;\n",
              "      border-right-color: var(--fill-color);\n",
              "      border-top-color: var(--fill-color);\n",
              "    }\n",
              "    60% {\n",
              "      border-color: transparent;\n",
              "      border-right-color: var(--fill-color);\n",
              "    }\n",
              "    80% {\n",
              "      border-color: transparent;\n",
              "      border-right-color: var(--fill-color);\n",
              "      border-bottom-color: var(--fill-color);\n",
              "    }\n",
              "    90% {\n",
              "      border-color: transparent;\n",
              "      border-bottom-color: var(--fill-color);\n",
              "    }\n",
              "  }\n",
              "</style>\n",
              "\n",
              "  <script>\n",
              "    async function quickchart(key) {\n",
              "      const quickchartButtonEl =\n",
              "        document.querySelector('#' + key + ' button');\n",
              "      quickchartButtonEl.disabled = true;  // To prevent multiple clicks.\n",
              "      quickchartButtonEl.classList.add('colab-df-spinner');\n",
              "      try {\n",
              "        const charts = await google.colab.kernel.invokeFunction(\n",
              "            'suggestCharts', [key], {});\n",
              "      } catch (error) {\n",
              "        console.error('Error during call to suggestCharts:', error);\n",
              "      }\n",
              "      quickchartButtonEl.classList.remove('colab-df-spinner');\n",
              "      quickchartButtonEl.classList.add('colab-df-quickchart-complete');\n",
              "    }\n",
              "    (() => {\n",
              "      let quickchartButtonEl =\n",
              "        document.querySelector('#df-700c1b15-7fa1-4aef-97ca-16b781eb4eb8 button');\n",
              "      quickchartButtonEl.style.display =\n",
              "        google.colab.kernel.accessAllowed ? 'block' : 'none';\n",
              "    })();\n",
              "  </script>\n",
              "</div>\n",
              "    </div>\n",
              "  </div>\n"
            ]
          },
          "metadata": {},
          "execution_count": 52
        }
      ]
    },
    {
      "cell_type": "code",
      "source": [
        "data_total.describe()"
      ],
      "metadata": {
        "colab": {
          "base_uri": "https://localhost:8080/",
          "height": 300
        },
        "id": "gilHho3caSC_",
        "outputId": "91a64dfe-6a23-4c78-d710-4f5dfa23948e"
      },
      "execution_count": 53,
      "outputs": [
        {
          "output_type": "execute_result",
          "data": {
            "text/plain": [
              "               IC50\n",
              "count  36397.000000\n",
              "mean       7.752732\n",
              "std       48.336835\n",
              "min        0.000010\n",
              "25%        1.686000\n",
              "50%        3.632000\n",
              "75%        5.927000\n",
              "max     3183.600000"
            ],
            "text/html": [
              "\n",
              "  <div id=\"df-2deaf444-f17d-4e14-83e0-f1b52efdc056\" class=\"colab-df-container\">\n",
              "    <div>\n",
              "<style scoped>\n",
              "    .dataframe tbody tr th:only-of-type {\n",
              "        vertical-align: middle;\n",
              "    }\n",
              "\n",
              "    .dataframe tbody tr th {\n",
              "        vertical-align: top;\n",
              "    }\n",
              "\n",
              "    .dataframe thead th {\n",
              "        text-align: right;\n",
              "    }\n",
              "</style>\n",
              "<table border=\"1\" class=\"dataframe\">\n",
              "  <thead>\n",
              "    <tr style=\"text-align: right;\">\n",
              "      <th></th>\n",
              "      <th>IC50</th>\n",
              "    </tr>\n",
              "  </thead>\n",
              "  <tbody>\n",
              "    <tr>\n",
              "      <th>count</th>\n",
              "      <td>36397.000000</td>\n",
              "    </tr>\n",
              "    <tr>\n",
              "      <th>mean</th>\n",
              "      <td>7.752732</td>\n",
              "    </tr>\n",
              "    <tr>\n",
              "      <th>std</th>\n",
              "      <td>48.336835</td>\n",
              "    </tr>\n",
              "    <tr>\n",
              "      <th>min</th>\n",
              "      <td>0.000010</td>\n",
              "    </tr>\n",
              "    <tr>\n",
              "      <th>25%</th>\n",
              "      <td>1.686000</td>\n",
              "    </tr>\n",
              "    <tr>\n",
              "      <th>50%</th>\n",
              "      <td>3.632000</td>\n",
              "    </tr>\n",
              "    <tr>\n",
              "      <th>75%</th>\n",
              "      <td>5.927000</td>\n",
              "    </tr>\n",
              "    <tr>\n",
              "      <th>max</th>\n",
              "      <td>3183.600000</td>\n",
              "    </tr>\n",
              "  </tbody>\n",
              "</table>\n",
              "</div>\n",
              "    <div class=\"colab-df-buttons\">\n",
              "\n",
              "  <div class=\"colab-df-container\">\n",
              "    <button class=\"colab-df-convert\" onclick=\"convertToInteractive('df-2deaf444-f17d-4e14-83e0-f1b52efdc056')\"\n",
              "            title=\"Convert this dataframe to an interactive table.\"\n",
              "            style=\"display:none;\">\n",
              "\n",
              "  <svg xmlns=\"http://www.w3.org/2000/svg\" height=\"24px\" viewBox=\"0 -960 960 960\">\n",
              "    <path d=\"M120-120v-720h720v720H120Zm60-500h600v-160H180v160Zm220 220h160v-160H400v160Zm0 220h160v-160H400v160ZM180-400h160v-160H180v160Zm440 0h160v-160H620v160ZM180-180h160v-160H180v160Zm440 0h160v-160H620v160Z\"/>\n",
              "  </svg>\n",
              "    </button>\n",
              "\n",
              "  <style>\n",
              "    .colab-df-container {\n",
              "      display:flex;\n",
              "      gap: 12px;\n",
              "    }\n",
              "\n",
              "    .colab-df-convert {\n",
              "      background-color: #E8F0FE;\n",
              "      border: none;\n",
              "      border-radius: 50%;\n",
              "      cursor: pointer;\n",
              "      display: none;\n",
              "      fill: #1967D2;\n",
              "      height: 32px;\n",
              "      padding: 0 0 0 0;\n",
              "      width: 32px;\n",
              "    }\n",
              "\n",
              "    .colab-df-convert:hover {\n",
              "      background-color: #E2EBFA;\n",
              "      box-shadow: 0px 1px 2px rgba(60, 64, 67, 0.3), 0px 1px 3px 1px rgba(60, 64, 67, 0.15);\n",
              "      fill: #174EA6;\n",
              "    }\n",
              "\n",
              "    .colab-df-buttons div {\n",
              "      margin-bottom: 4px;\n",
              "    }\n",
              "\n",
              "    [theme=dark] .colab-df-convert {\n",
              "      background-color: #3B4455;\n",
              "      fill: #D2E3FC;\n",
              "    }\n",
              "\n",
              "    [theme=dark] .colab-df-convert:hover {\n",
              "      background-color: #434B5C;\n",
              "      box-shadow: 0px 1px 3px 1px rgba(0, 0, 0, 0.15);\n",
              "      filter: drop-shadow(0px 1px 2px rgba(0, 0, 0, 0.3));\n",
              "      fill: #FFFFFF;\n",
              "    }\n",
              "  </style>\n",
              "\n",
              "    <script>\n",
              "      const buttonEl =\n",
              "        document.querySelector('#df-2deaf444-f17d-4e14-83e0-f1b52efdc056 button.colab-df-convert');\n",
              "      buttonEl.style.display =\n",
              "        google.colab.kernel.accessAllowed ? 'block' : 'none';\n",
              "\n",
              "      async function convertToInteractive(key) {\n",
              "        const element = document.querySelector('#df-2deaf444-f17d-4e14-83e0-f1b52efdc056');\n",
              "        const dataTable =\n",
              "          await google.colab.kernel.invokeFunction('convertToInteractive',\n",
              "                                                    [key], {});\n",
              "        if (!dataTable) return;\n",
              "\n",
              "        const docLinkHtml = 'Like what you see? Visit the ' +\n",
              "          '<a target=\"_blank\" href=https://colab.research.google.com/notebooks/data_table.ipynb>data table notebook</a>'\n",
              "          + ' to learn more about interactive tables.';\n",
              "        element.innerHTML = '';\n",
              "        dataTable['output_type'] = 'display_data';\n",
              "        await google.colab.output.renderOutput(dataTable, element);\n",
              "        const docLink = document.createElement('div');\n",
              "        docLink.innerHTML = docLinkHtml;\n",
              "        element.appendChild(docLink);\n",
              "      }\n",
              "    </script>\n",
              "  </div>\n",
              "\n",
              "\n",
              "<div id=\"df-c17e28be-2ee6-4212-b742-884fcb18ff96\">\n",
              "  <button class=\"colab-df-quickchart\" onclick=\"quickchart('df-c17e28be-2ee6-4212-b742-884fcb18ff96')\"\n",
              "            title=\"Suggest charts.\"\n",
              "            style=\"display:none;\">\n",
              "\n",
              "<svg xmlns=\"http://www.w3.org/2000/svg\" height=\"24px\"viewBox=\"0 0 24 24\"\n",
              "     width=\"24px\">\n",
              "    <g>\n",
              "        <path d=\"M19 3H5c-1.1 0-2 .9-2 2v14c0 1.1.9 2 2 2h14c1.1 0 2-.9 2-2V5c0-1.1-.9-2-2-2zM9 17H7v-7h2v7zm4 0h-2V7h2v10zm4 0h-2v-4h2v4z\"/>\n",
              "    </g>\n",
              "</svg>\n",
              "  </button>\n",
              "\n",
              "<style>\n",
              "  .colab-df-quickchart {\n",
              "      --bg-color: #E8F0FE;\n",
              "      --fill-color: #1967D2;\n",
              "      --hover-bg-color: #E2EBFA;\n",
              "      --hover-fill-color: #174EA6;\n",
              "      --disabled-fill-color: #AAA;\n",
              "      --disabled-bg-color: #DDD;\n",
              "  }\n",
              "\n",
              "  [theme=dark] .colab-df-quickchart {\n",
              "      --bg-color: #3B4455;\n",
              "      --fill-color: #D2E3FC;\n",
              "      --hover-bg-color: #434B5C;\n",
              "      --hover-fill-color: #FFFFFF;\n",
              "      --disabled-bg-color: #3B4455;\n",
              "      --disabled-fill-color: #666;\n",
              "  }\n",
              "\n",
              "  .colab-df-quickchart {\n",
              "    background-color: var(--bg-color);\n",
              "    border: none;\n",
              "    border-radius: 50%;\n",
              "    cursor: pointer;\n",
              "    display: none;\n",
              "    fill: var(--fill-color);\n",
              "    height: 32px;\n",
              "    padding: 0;\n",
              "    width: 32px;\n",
              "  }\n",
              "\n",
              "  .colab-df-quickchart:hover {\n",
              "    background-color: var(--hover-bg-color);\n",
              "    box-shadow: 0 1px 2px rgba(60, 64, 67, 0.3), 0 1px 3px 1px rgba(60, 64, 67, 0.15);\n",
              "    fill: var(--button-hover-fill-color);\n",
              "  }\n",
              "\n",
              "  .colab-df-quickchart-complete:disabled,\n",
              "  .colab-df-quickchart-complete:disabled:hover {\n",
              "    background-color: var(--disabled-bg-color);\n",
              "    fill: var(--disabled-fill-color);\n",
              "    box-shadow: none;\n",
              "  }\n",
              "\n",
              "  .colab-df-spinner {\n",
              "    border: 2px solid var(--fill-color);\n",
              "    border-color: transparent;\n",
              "    border-bottom-color: var(--fill-color);\n",
              "    animation:\n",
              "      spin 1s steps(1) infinite;\n",
              "  }\n",
              "\n",
              "  @keyframes spin {\n",
              "    0% {\n",
              "      border-color: transparent;\n",
              "      border-bottom-color: var(--fill-color);\n",
              "      border-left-color: var(--fill-color);\n",
              "    }\n",
              "    20% {\n",
              "      border-color: transparent;\n",
              "      border-left-color: var(--fill-color);\n",
              "      border-top-color: var(--fill-color);\n",
              "    }\n",
              "    30% {\n",
              "      border-color: transparent;\n",
              "      border-left-color: var(--fill-color);\n",
              "      border-top-color: var(--fill-color);\n",
              "      border-right-color: var(--fill-color);\n",
              "    }\n",
              "    40% {\n",
              "      border-color: transparent;\n",
              "      border-right-color: var(--fill-color);\n",
              "      border-top-color: var(--fill-color);\n",
              "    }\n",
              "    60% {\n",
              "      border-color: transparent;\n",
              "      border-right-color: var(--fill-color);\n",
              "    }\n",
              "    80% {\n",
              "      border-color: transparent;\n",
              "      border-right-color: var(--fill-color);\n",
              "      border-bottom-color: var(--fill-color);\n",
              "    }\n",
              "    90% {\n",
              "      border-color: transparent;\n",
              "      border-bottom-color: var(--fill-color);\n",
              "    }\n",
              "  }\n",
              "</style>\n",
              "\n",
              "  <script>\n",
              "    async function quickchart(key) {\n",
              "      const quickchartButtonEl =\n",
              "        document.querySelector('#' + key + ' button');\n",
              "      quickchartButtonEl.disabled = true;  // To prevent multiple clicks.\n",
              "      quickchartButtonEl.classList.add('colab-df-spinner');\n",
              "      try {\n",
              "        const charts = await google.colab.kernel.invokeFunction(\n",
              "            'suggestCharts', [key], {});\n",
              "      } catch (error) {\n",
              "        console.error('Error during call to suggestCharts:', error);\n",
              "      }\n",
              "      quickchartButtonEl.classList.remove('colab-df-spinner');\n",
              "      quickchartButtonEl.classList.add('colab-df-quickchart-complete');\n",
              "    }\n",
              "    (() => {\n",
              "      let quickchartButtonEl =\n",
              "        document.querySelector('#df-c17e28be-2ee6-4212-b742-884fcb18ff96 button');\n",
              "      quickchartButtonEl.style.display =\n",
              "        google.colab.kernel.accessAllowed ? 'block' : 'none';\n",
              "    })();\n",
              "  </script>\n",
              "</div>\n",
              "    </div>\n",
              "  </div>\n"
            ]
          },
          "metadata": {},
          "execution_count": 53
        }
      ]
    },
    {
      "cell_type": "code",
      "source": [
        "data_total = data_total[data_total[\"IC50\"] < 10][10000:20000]"
      ],
      "metadata": {
        "id": "YZS8uWsba8dT"
      },
      "execution_count": 91,
      "outputs": []
    },
    {
      "cell_type": "code",
      "source": [
        "data_total.isna().sum()"
      ],
      "metadata": {
        "colab": {
          "base_uri": "https://localhost:8080/"
        },
        "id": "e-Pz_l8umuxs",
        "outputId": "70e30d0d-befc-4162-ffb8-13dfc8ab86f4"
      },
      "execution_count": 92,
      "outputs": [
        {
          "output_type": "execute_result",
          "data": {
            "text/plain": [
              "SMILES    0\n",
              "IC50      0\n",
              "dtype: int64"
            ]
          },
          "metadata": {},
          "execution_count": 92
        }
      ]
    },
    {
      "cell_type": "code",
      "source": [
        "data_total.describe()"
      ],
      "metadata": {
        "colab": {
          "base_uri": "https://localhost:8080/",
          "height": 300
        },
        "id": "bMxs-XECbUsN",
        "outputId": "cc4c3fd6-95ce-41d1-fe9e-0a4bf465a9a8"
      },
      "execution_count": 93,
      "outputs": [
        {
          "output_type": "execute_result",
          "data": {
            "text/plain": [
              "               IC50\n",
              "count  10000.000000\n",
              "mean       2.988079\n",
              "std        0.572993\n",
              "min        1.829000\n",
              "25%        2.542000\n",
              "50%        3.058000\n",
              "75%        3.471000\n",
              "max        3.885000"
            ],
            "text/html": [
              "\n",
              "  <div id=\"df-38043a34-9bec-44dd-96b7-a3bfbfe0e47e\" class=\"colab-df-container\">\n",
              "    <div>\n",
              "<style scoped>\n",
              "    .dataframe tbody tr th:only-of-type {\n",
              "        vertical-align: middle;\n",
              "    }\n",
              "\n",
              "    .dataframe tbody tr th {\n",
              "        vertical-align: top;\n",
              "    }\n",
              "\n",
              "    .dataframe thead th {\n",
              "        text-align: right;\n",
              "    }\n",
              "</style>\n",
              "<table border=\"1\" class=\"dataframe\">\n",
              "  <thead>\n",
              "    <tr style=\"text-align: right;\">\n",
              "      <th></th>\n",
              "      <th>IC50</th>\n",
              "    </tr>\n",
              "  </thead>\n",
              "  <tbody>\n",
              "    <tr>\n",
              "      <th>count</th>\n",
              "      <td>10000.000000</td>\n",
              "    </tr>\n",
              "    <tr>\n",
              "      <th>mean</th>\n",
              "      <td>2.988079</td>\n",
              "    </tr>\n",
              "    <tr>\n",
              "      <th>std</th>\n",
              "      <td>0.572993</td>\n",
              "    </tr>\n",
              "    <tr>\n",
              "      <th>min</th>\n",
              "      <td>1.829000</td>\n",
              "    </tr>\n",
              "    <tr>\n",
              "      <th>25%</th>\n",
              "      <td>2.542000</td>\n",
              "    </tr>\n",
              "    <tr>\n",
              "      <th>50%</th>\n",
              "      <td>3.058000</td>\n",
              "    </tr>\n",
              "    <tr>\n",
              "      <th>75%</th>\n",
              "      <td>3.471000</td>\n",
              "    </tr>\n",
              "    <tr>\n",
              "      <th>max</th>\n",
              "      <td>3.885000</td>\n",
              "    </tr>\n",
              "  </tbody>\n",
              "</table>\n",
              "</div>\n",
              "    <div class=\"colab-df-buttons\">\n",
              "\n",
              "  <div class=\"colab-df-container\">\n",
              "    <button class=\"colab-df-convert\" onclick=\"convertToInteractive('df-38043a34-9bec-44dd-96b7-a3bfbfe0e47e')\"\n",
              "            title=\"Convert this dataframe to an interactive table.\"\n",
              "            style=\"display:none;\">\n",
              "\n",
              "  <svg xmlns=\"http://www.w3.org/2000/svg\" height=\"24px\" viewBox=\"0 -960 960 960\">\n",
              "    <path d=\"M120-120v-720h720v720H120Zm60-500h600v-160H180v160Zm220 220h160v-160H400v160Zm0 220h160v-160H400v160ZM180-400h160v-160H180v160Zm440 0h160v-160H620v160ZM180-180h160v-160H180v160Zm440 0h160v-160H620v160Z\"/>\n",
              "  </svg>\n",
              "    </button>\n",
              "\n",
              "  <style>\n",
              "    .colab-df-container {\n",
              "      display:flex;\n",
              "      gap: 12px;\n",
              "    }\n",
              "\n",
              "    .colab-df-convert {\n",
              "      background-color: #E8F0FE;\n",
              "      border: none;\n",
              "      border-radius: 50%;\n",
              "      cursor: pointer;\n",
              "      display: none;\n",
              "      fill: #1967D2;\n",
              "      height: 32px;\n",
              "      padding: 0 0 0 0;\n",
              "      width: 32px;\n",
              "    }\n",
              "\n",
              "    .colab-df-convert:hover {\n",
              "      background-color: #E2EBFA;\n",
              "      box-shadow: 0px 1px 2px rgba(60, 64, 67, 0.3), 0px 1px 3px 1px rgba(60, 64, 67, 0.15);\n",
              "      fill: #174EA6;\n",
              "    }\n",
              "\n",
              "    .colab-df-buttons div {\n",
              "      margin-bottom: 4px;\n",
              "    }\n",
              "\n",
              "    [theme=dark] .colab-df-convert {\n",
              "      background-color: #3B4455;\n",
              "      fill: #D2E3FC;\n",
              "    }\n",
              "\n",
              "    [theme=dark] .colab-df-convert:hover {\n",
              "      background-color: #434B5C;\n",
              "      box-shadow: 0px 1px 3px 1px rgba(0, 0, 0, 0.15);\n",
              "      filter: drop-shadow(0px 1px 2px rgba(0, 0, 0, 0.3));\n",
              "      fill: #FFFFFF;\n",
              "    }\n",
              "  </style>\n",
              "\n",
              "    <script>\n",
              "      const buttonEl =\n",
              "        document.querySelector('#df-38043a34-9bec-44dd-96b7-a3bfbfe0e47e button.colab-df-convert');\n",
              "      buttonEl.style.display =\n",
              "        google.colab.kernel.accessAllowed ? 'block' : 'none';\n",
              "\n",
              "      async function convertToInteractive(key) {\n",
              "        const element = document.querySelector('#df-38043a34-9bec-44dd-96b7-a3bfbfe0e47e');\n",
              "        const dataTable =\n",
              "          await google.colab.kernel.invokeFunction('convertToInteractive',\n",
              "                                                    [key], {});\n",
              "        if (!dataTable) return;\n",
              "\n",
              "        const docLinkHtml = 'Like what you see? Visit the ' +\n",
              "          '<a target=\"_blank\" href=https://colab.research.google.com/notebooks/data_table.ipynb>data table notebook</a>'\n",
              "          + ' to learn more about interactive tables.';\n",
              "        element.innerHTML = '';\n",
              "        dataTable['output_type'] = 'display_data';\n",
              "        await google.colab.output.renderOutput(dataTable, element);\n",
              "        const docLink = document.createElement('div');\n",
              "        docLink.innerHTML = docLinkHtml;\n",
              "        element.appendChild(docLink);\n",
              "      }\n",
              "    </script>\n",
              "  </div>\n",
              "\n",
              "\n",
              "<div id=\"df-e4625e89-1bbe-46bb-8f76-4bccd5f0b5bd\">\n",
              "  <button class=\"colab-df-quickchart\" onclick=\"quickchart('df-e4625e89-1bbe-46bb-8f76-4bccd5f0b5bd')\"\n",
              "            title=\"Suggest charts.\"\n",
              "            style=\"display:none;\">\n",
              "\n",
              "<svg xmlns=\"http://www.w3.org/2000/svg\" height=\"24px\"viewBox=\"0 0 24 24\"\n",
              "     width=\"24px\">\n",
              "    <g>\n",
              "        <path d=\"M19 3H5c-1.1 0-2 .9-2 2v14c0 1.1.9 2 2 2h14c1.1 0 2-.9 2-2V5c0-1.1-.9-2-2-2zM9 17H7v-7h2v7zm4 0h-2V7h2v10zm4 0h-2v-4h2v4z\"/>\n",
              "    </g>\n",
              "</svg>\n",
              "  </button>\n",
              "\n",
              "<style>\n",
              "  .colab-df-quickchart {\n",
              "      --bg-color: #E8F0FE;\n",
              "      --fill-color: #1967D2;\n",
              "      --hover-bg-color: #E2EBFA;\n",
              "      --hover-fill-color: #174EA6;\n",
              "      --disabled-fill-color: #AAA;\n",
              "      --disabled-bg-color: #DDD;\n",
              "  }\n",
              "\n",
              "  [theme=dark] .colab-df-quickchart {\n",
              "      --bg-color: #3B4455;\n",
              "      --fill-color: #D2E3FC;\n",
              "      --hover-bg-color: #434B5C;\n",
              "      --hover-fill-color: #FFFFFF;\n",
              "      --disabled-bg-color: #3B4455;\n",
              "      --disabled-fill-color: #666;\n",
              "  }\n",
              "\n",
              "  .colab-df-quickchart {\n",
              "    background-color: var(--bg-color);\n",
              "    border: none;\n",
              "    border-radius: 50%;\n",
              "    cursor: pointer;\n",
              "    display: none;\n",
              "    fill: var(--fill-color);\n",
              "    height: 32px;\n",
              "    padding: 0;\n",
              "    width: 32px;\n",
              "  }\n",
              "\n",
              "  .colab-df-quickchart:hover {\n",
              "    background-color: var(--hover-bg-color);\n",
              "    box-shadow: 0 1px 2px rgba(60, 64, 67, 0.3), 0 1px 3px 1px rgba(60, 64, 67, 0.15);\n",
              "    fill: var(--button-hover-fill-color);\n",
              "  }\n",
              "\n",
              "  .colab-df-quickchart-complete:disabled,\n",
              "  .colab-df-quickchart-complete:disabled:hover {\n",
              "    background-color: var(--disabled-bg-color);\n",
              "    fill: var(--disabled-fill-color);\n",
              "    box-shadow: none;\n",
              "  }\n",
              "\n",
              "  .colab-df-spinner {\n",
              "    border: 2px solid var(--fill-color);\n",
              "    border-color: transparent;\n",
              "    border-bottom-color: var(--fill-color);\n",
              "    animation:\n",
              "      spin 1s steps(1) infinite;\n",
              "  }\n",
              "\n",
              "  @keyframes spin {\n",
              "    0% {\n",
              "      border-color: transparent;\n",
              "      border-bottom-color: var(--fill-color);\n",
              "      border-left-color: var(--fill-color);\n",
              "    }\n",
              "    20% {\n",
              "      border-color: transparent;\n",
              "      border-left-color: var(--fill-color);\n",
              "      border-top-color: var(--fill-color);\n",
              "    }\n",
              "    30% {\n",
              "      border-color: transparent;\n",
              "      border-left-color: var(--fill-color);\n",
              "      border-top-color: var(--fill-color);\n",
              "      border-right-color: var(--fill-color);\n",
              "    }\n",
              "    40% {\n",
              "      border-color: transparent;\n",
              "      border-right-color: var(--fill-color);\n",
              "      border-top-color: var(--fill-color);\n",
              "    }\n",
              "    60% {\n",
              "      border-color: transparent;\n",
              "      border-right-color: var(--fill-color);\n",
              "    }\n",
              "    80% {\n",
              "      border-color: transparent;\n",
              "      border-right-color: var(--fill-color);\n",
              "      border-bottom-color: var(--fill-color);\n",
              "    }\n",
              "    90% {\n",
              "      border-color: transparent;\n",
              "      border-bottom-color: var(--fill-color);\n",
              "    }\n",
              "  }\n",
              "</style>\n",
              "\n",
              "  <script>\n",
              "    async function quickchart(key) {\n",
              "      const quickchartButtonEl =\n",
              "        document.querySelector('#' + key + ' button');\n",
              "      quickchartButtonEl.disabled = true;  // To prevent multiple clicks.\n",
              "      quickchartButtonEl.classList.add('colab-df-spinner');\n",
              "      try {\n",
              "        const charts = await google.colab.kernel.invokeFunction(\n",
              "            'suggestCharts', [key], {});\n",
              "      } catch (error) {\n",
              "        console.error('Error during call to suggestCharts:', error);\n",
              "      }\n",
              "      quickchartButtonEl.classList.remove('colab-df-spinner');\n",
              "      quickchartButtonEl.classList.add('colab-df-quickchart-complete');\n",
              "    }\n",
              "    (() => {\n",
              "      let quickchartButtonEl =\n",
              "        document.querySelector('#df-e4625e89-1bbe-46bb-8f76-4bccd5f0b5bd button');\n",
              "      quickchartButtonEl.style.display =\n",
              "        google.colab.kernel.accessAllowed ? 'block' : 'none';\n",
              "    })();\n",
              "  </script>\n",
              "</div>\n",
              "    </div>\n",
              "  </div>\n"
            ]
          },
          "metadata": {},
          "execution_count": 93
        }
      ]
    },
    {
      "cell_type": "code",
      "source": [
        "data_total.boxplot(column=['IC50'])"
      ],
      "metadata": {
        "colab": {
          "base_uri": "https://localhost:8080/",
          "height": 447
        },
        "id": "OsK-bPxibXii",
        "outputId": "28a1ec28-7855-493b-f68c-8cf2a53ef627"
      },
      "execution_count": 94,
      "outputs": [
        {
          "output_type": "execute_result",
          "data": {
            "text/plain": [
              "<Axes: >"
            ]
          },
          "metadata": {},
          "execution_count": 94
        },
        {
          "output_type": "display_data",
          "data": {
            "text/plain": [
              "<Figure size 640x480 with 1 Axes>"
            ],
            "image/png": "[encoded data removed]"
          },
          "metadata": {}
        }
      ]
    },
    {
      "cell_type": "code",
      "source": [
        "len(data_total)"
      ],
      "metadata": {
        "colab": {
          "base_uri": "https://localhost:8080/"
        },
        "id": "cSJW0Qi5bL1o",
        "outputId": "38070bfa-fcbc-4390-d248-08ef86637e9e"
      },
      "execution_count": 57,
      "outputs": [
        {
          "output_type": "execute_result",
          "data": {
            "text/plain": [
              "35781"
            ]
          },
          "metadata": {},
          "execution_count": 57
        }
      ]
    },
    {
      "cell_type": "code",
      "source": [
        "PandasTools.AddMoleculeColumnToFrame(data_total,'SMILES','Molecule')\n",
        "data_total"
      ],
      "metadata": {
        "colab": {
          "base_uri": "https://localhost:8080/",
          "height": 1000
        },
        "id": "pw3n073JXxcc",
        "outputId": "8d64d868-a2af-4b19-a93d-5dafb61fd7d2"
      },
      "execution_count": 95,
      "outputs": [
        {
          "output_type": "execute_result",
          "data": {
            "text/plain": [
              "                                                  SMILES   IC50  \\\n",
              "9560                    CC(C)(C)c1ccc(cc1)/C=N/Nc2nncn2N  1.829   \n",
              "9561                  CCCCC(=O)NCc(c1)ccc(c12)n(C)c(C)c2  1.829   \n",
              "9562                     CN(C)c1nc(N(C)C)nc(n1)Nc2ccccc2  1.829   \n",
              "9563                       O=C(O)CCc1ccc(o1)-c(cc2)ccc2C  1.829   \n",
              "9564                            O=C(O)c1ccc(cn1)C2CCCCC2  1.829   \n",
              "...                                                  ...    ...   \n",
              "19729  c1ccccc1CN2C(=O)C[C@H](C2=O)N(CC3)CCC3c(n4)[nH...  3.885   \n",
              "19730  COc(cc1)c(OC)cc1[C@@H](C2)N(c3ccccc3)N=C2c4ccc...  3.885   \n",
              "19731  CCC(CC)O[C@H](C=C1C(=O)O)[C@H](NC(=O)C)[C@H](C...  3.885   \n",
              "19732   c1ccc(OC)cc1CN(C)C(=O)c2cc(-c3cccs3)nc(c24)cccc4  3.885   \n",
              "19733                    c1ccccc1CCNS(=O)(=O)c2ccc(s2)Br  3.885   \n",
              "\n",
              "                                               Molecule  \n",
              "9560   <rdkit.Chem.rdchem.Mol object at 0x7aae8e405b60>  \n",
              "9561   <rdkit.Chem.rdchem.Mol object at 0x7aae8e405bd0>  \n",
              "9562   <rdkit.Chem.rdchem.Mol object at 0x7aae8e404e40>  \n",
              "9563   <rdkit.Chem.rdchem.Mol object at 0x7aae8e405c40>  \n",
              "9564   <rdkit.Chem.rdchem.Mol object at 0x7aae8e405d90>  \n",
              "...                                                 ...  \n",
              "19729  <rdkit.Chem.rdchem.Mol object at 0x7aae8e2dd770>  \n",
              "19730  <rdkit.Chem.rdchem.Mol object at 0x7aae8e2dd7e0>  \n",
              "19731  <rdkit.Chem.rdchem.Mol object at 0x7aae8e2dd850>  \n",
              "19732  <rdkit.Chem.rdchem.Mol object at 0x7aae8e2dd8c0>  \n",
              "19733  <rdkit.Chem.rdchem.Mol object at 0x7aae8e2dd930>  \n",
              "\n",
              "[10000 rows x 3 columns]"
            ],
            "text/html": [
              "\n",
              "  <div id=\"df-0f571193-6ff4-4221-9219-b5a0b2be6f28\" class=\"colab-df-container\">\n",
              "    <div>\n",
              "<style scoped>\n",
              "    .dataframe tbody tr th:only-of-type {\n",
              "        vertical-align: middle;\n",
              "    }\n",
              "\n",
              "    .dataframe tbody tr th {\n",
              "        vertical-align: top;\n",
              "    }\n",
              "\n",
              "    .dataframe thead th {\n",
              "        text-align: right;\n",
              "    }\n",
              "</style>\n",
              "<table border=\"1\" class=\"dataframe\">\n",
              "  <thead>\n",
              "    <tr style=\"text-align: right;\">\n",
              "      <th></th>\n",
              "      <th>SMILES</th>\n",
              "      <th>IC50</th>\n",
              "      <th>Molecule</th>\n",
              "    </tr>\n",
              "  </thead>\n",
              "  <tbody>\n",
              "    <tr>\n",
              "      <th>9560</th>\n",
              "      <td>CC(C)(C)c1ccc(cc1)/C=N/Nc2nncn2N</td>\n",
              "      <td>1.829</td>\n",
              "      <td style=\"text-align: center;\"><div style=\"width: 200px; height: 200px\" data-content=\"rdkit/molecule\"><img src=\"data:image/png;base64,iVBORw0KGgoAAAANSUhEUgAAAMgAAADICAIAAAAiOjnJAAAABmJLR0QA/wD/AP+gvaeTAAAVFElEQVR4nO3deVRTVx4H8F8gbIJgFNxQxjLV414FFxhsQUqLilY8CC6Y0/G0Tase0bYcU2znxKUymdZDY9XWWI8MilVQO0qxWnGtS22NGypgtYLK7sISIKz5zR83k1KUJcm7LM7vc/wDSPJ7F/ny3s27CyJEBEKEZtXRDSDPJwoW4YKCRbigYBEuKFiECwoW4YKCRbigYBEuKFiECwoW4YKCRbigYBEuKFiECwoW4YKCRbigYBEuKFiECwoW4YKCRbigYBEuKFiECwoW4YKCRbigYBEuKFiECwoW4YKCRbigYBEuKFiECwoW4YKCRbigYBEuKFiECwoW4YKCRbigYBEuKFiECwoW4YKCRbigYBEuKFiECwoW4YKCRbigYBEuKFiECwoW4YKCRbigYBEuKFiECwoW4YKCRbigYBEuKFiECwoW4YKCRbigYBEuKFiECwoW4YKCRbigYBEuKFiECwoW4YKCRbigYBEuKFiECwoW4YKCRbigYBEunpNgVVRUbNmyxcnJSSKRfPTRRx3dHMFkZgKi4eOMjA5tiqmwi7t58+aSJUucnZ0bf1NLly6tqanp6KYJwMcHa2sNH3t7d2hTTNRVg9XQ0JCSkhIUFCQSiViYvL29N23aFBsb6+DgwD69e/duRzfTUhSs9lNQUKBUKj08PFieunfvLpPJrl27xh4tLi6+dOmSp6cnAPTq1euHH37o2NZayMcHZ8/G8HAMD8cxYzq6NaboSsHSaDRSqdTGxoZFasiQIUql8smTJ8YnnD9/vlu3bkqlsqysLCwsDABEIpFcLq+vrxe2JVqtdtu2bZcvXxa27NPojMVReXm5Wq0ePXo0y5O1tfX06dPT0tL0en2TZ65du5ZdGefOnVtWVqZSqVgK/f398/PzBWlMfn6+Uql0dXUFACcnJ6VS+XQzBETB4uLWrVtyuVwikbBI9e3bVy6X37t3r4WXHDhwoEePHux8lp6efvr06f79+wNA7969jx07ZnZL9Hr90aNHQ0NDra2tWWMcHBxYiMPCwsrKysyu3LKVK9F4tl2xgtNBuOiMwdLpdHFxcU065gkJCbXGX94W/fbbby+99BL72W/btq24uPi1114DALFYrFAoGhoaTGpMWVmZWq0eMWIEa4mtrW14eHhaWhoipqSksNAPHjz46tWr5nyrrfn4Y0xORkSsqcEPP+RxBF46Y7D8/f0bd8zT09NNraDT6WQyGSsilUrLy8sVCoWVlRUAzJgxo3G3rAWZmZlRUVGOjo6sTv/+/eVyeW5uLns0KysrNTX13r17EydOBAB7e3uVSmVqO1sVEoK+vvjoEep0GBAgeHmOOl2wqqur2Q8yJiamvLzcklIJCQndunUDgLFjx965cyc1NbVnz54A4OHhceHCheZeVVNTk5ycHBQUZLwr5ufnl5ycXFdXZ3xOVVXVqFGjRCJRTExMZWVlVFSUMcSVlZWWtLmJkBA8cADffpuCZbHbt2+zn70g1TIyMoYPHw4Azs7Oe/fuvX//vo+PDwDY2dk9fYLJy8tTKpUDBgxgKXF2dpbJZDdu3Hi6rF6vN74zeOWVV/Lz8xMTEx0dHV98MXTs2IabNwVo+S+/YGYmhoRgWRnOn48nTlCwLHP06FEACAgIuHv3rrOzc3BwsIUFy8vLIyIi2K2HqKgorVZrPMFERkZWVFQg4pkzZ8LDw8ViMfv6sGHDVCoVe6gFP/30E3tn4ObmlpaWduPGjcBALQA6O+PevWa2troak5PRzw8BMDLSEKy8PHzlFQwIwMpKzMszs3I763TBUqvVALBw4cJjx46x84FQZW1tbQHg5ZdfzsvL+/bbb52cnNipkd1NZaexyMjI8+fPt71scXHx66+/zm6CKBSKsrKGefMQAAFQJkOTRpXu3MHoaOzZ0/ByV1f8xz8MwULEuDgMCMC//x1dXfHIERO/+Y7Q6YLFhpDXrFnzzTffAMCbb74pVOVff/110KBB7ATz448/ZmVlDR48uE+fPqxjrlAoioqKzCir1+uVSqWVldX48aunT8fHj1GtRjs7BMBx4zA7u5WXNzRgWhqGh6O1tSFS3t6oViPrqhUUIHsXW1+Pd+9icDACoLU1rlmDJr67bV1NDRr7hxUVltbvdMGaM2cOACQmJq5cuRIAVq1aJWBx4wlm6tSpiPjFF18AQHBwsOW35g8fTvP0bADAQYPw4kW8dAk9PREAe/XCw4ef/ZKSElSpDE8DQDs7DA/Hc+daOopej0qlIYKBgVhYaGGr/yQpCd3dDSfIuXMxJ8eiap0uWBMmTACAc+fOzZs3DwASEhKErd/Q0PD5558XFxcjYnR0NADExsYKUvn+ffT1NUREpcLHjzEkBAHw5ZdRKjUk5s4dVKlQo0GZDLt1M0Tqr39FpRIfPmzrgU6exL59EQAHDGgliCZJSsIZMzAqCvG5DBYbLcnPz2dv386cOcPvWGw8cc+ePUIVrKtDudwQl/nzsbwc16/HBw/Q2xsDA7G2Fq9cQZkM+/dHALSywunT8fBhcy46ubk4aRICoK0tbtqks7zlhYWYlIQbNmBYGGo0nSBYwo6UabVadrNRr9ez3o/xhiQPXl5eAPDLL78IW3bPHuzeHQFw5EisrkZEnDQJt2zBf/0Lr1zB995DlQrl8ta7Xy2rq0OFAq2s9BMnzpo5c2ZJSYmpFerr8cwZlMtx6FDs3Rv37MENGzAnBwMDMSKi44J1/PhxPz+/jRs3WnT8P0tPT2fv9isrK0UikZ2dnakjMCZhAzLssiisW7dw1Chcvdrw6aRJ2NCA/v6YkoLvvSfkgVJTb7m4uLCxUePcoZYVFWF8PIaFGdLP/vXujZs24YYNiIixsSiRdFyw9u3bx0Ig4Enr4MGDADBt2rQbN26w/yyhKj+ttLQUABwdHTnVr6z84xo3aRIi4sWLOGaMwMFCxJycHNYxtbe337p1a3NPu3r16rp16yIiCq2s/sjTmDH48cd44QLW1eGePbh7NyJiTQ1OmYL5+Ra9MTQ/WHV1dewm9YkTJ8w//p+pVCoAWLJkyffffw8AU6ZMEary0y5fvgwAI0eO5HcIIxYsRFy0SPhgIaJOp3vmsJJOp0tLS4uKijLOi/T3/4+9PQYFoUqF9+5hZSWmpKBMhu7u6OX1R8GqKpTL8a23zG+SRX2sNWvWAMDs2bMtKdLYsmXLAGD9+vVffvklACxatEioyk/bv38/ALzxxhv8DmFkvF2u05nw7s9UO3fuZEPmo0ePXrdu3cyZM40j6Oxe3TvvvJOaerqyErOzceNGDA423G9j/zw90TjWkJmJDg4IgAcOmNkYi4JVUFBga2srFosfPHhgSR2jGTNmAMD+/fvff/99APjss88EKftM69evB4Bly5bxO0T7y8zMHDFihJWVlXHG0fDhw+Vy+ZkzZ+rr6zUajUKh8Pb29vW9x8JkZYXe3qhQoEaDTXo0GzYgALq5mXm3zNJ3hex+pkKhsLAOM3LkSAC4fPnyzJkzAWCv2UNubbBkyRIA4DHXpWOVlJSwgdGtW7fm5+eXlpYmJSVJpVJ2H4cJDNwcEYE7d+KjR83W0etxyhQEQPPO6ZYG6/Tp0wDQr1+/Ns7CaxkbvyspKWETkTUajeU1mzN16lQAOHjwIL9DdIiqqioAcHBwQMSioiLjEgEAGDx48AcffHD8+PE2/rByc1EiQQCMjze5GQLcIGUhSEpKsrBOcXExAEgkEkRk6wQfP35sefOaM3ToUAAwYxZhJ8fe7bq4uLBPx4wZ4+fnp1Qqzfst3bED2XwNU+8+CBCsr7/+GgD8/f0trHPhwgUA8PLyevToUeP/Gh70ej2bA2jhXMJOiP1+urm5sU8bz080T0QEAuCkSWjSgKoAS+wXLFjg4uJy+vTp69evW1InOzsbAF544YW7d++yDyxvW3MKCwurqqrc3Ny6d+/O7ygdoqamBgDYHCEAME4yM9vmzdCvH5w9Cxs2mPAqAYLl5OQklUoBYMuWLZbUOXfuHAC4u7uPHz8+Pz9/9+7dlretOe2Q3Y5SW1sLAHZ2dkIVdHWFf/8bRCJYuRJMOHVYeJ5kMjIyRCKRk5OTGQuhGs8x9/DwcHd357TipbGdO3cCwJw5c3gfqP1lZmYCwNChQ4Ut+847hgtiGwmz28ywYcMCAgIqKirYD6yNcnJyYmJiBgwYEBERcezYMYlEotfr8/LyfH194+PjBWlYc4yXXa5H6RDsjGW8FAolLg7mzoXt29v8AqES3fahw4aGhrS0tMZzzL28vNRqdUVFRXV1NacVL2x5oI+PT2lpKSIuXLgQANRqtVD1O49Ll574+iZHRv6HR/HoaAwNNXzs49PSMwULlnHo8OTJk809p7S0VK1Ws2UzAGBnZ2dc/NkYW/HCYnrT4iUv165de/fdd9kdMmOYAgICAODpQz8Hzp5FAPzb37gUj47GwEBk9/7aKViIuHr1agAIDw9/+qFLly7JZDLj0JW7u7tCoWhhvgobmgCA7t27m3eHzNh1Mw5usOWB1dXV8fHx7IsmrZvoKk6cQACcPJlL8ehoTEtDHx+sqGjHYBUUFNjY2IjFYuPsvOrq6saLP62srIKCgpos/myOVqudO3cue6FMJmv7Rmps344mywOvX79eUlKiUqnYegoA8PDw0OkEmHvZ2Rw5ggBo8aq5Z4uOxgsXcPdujIlpx2AhIlvBp1AocnNzFQqFm5sb+ym6uLjIZLKMjAxTCxqXbY0bNy67tTmXTZYHDh06VKVSabXa8+fPL1iwwPgOfMiQIcuWLWt5c5GuKyUFAXDGDGGq6fX49tt/rAdhwULE6dOx5clyAgfr5MmTrPPENkpggdi+fXtVVZXZNTUaDXv75urqevhZS15Yx5wNYEOjfTt0Ol1ycrKvr2/j82VKSgrXjYc63L59CIBhYcJUW78eAbBnT8PqndhYZPeCsrLa64zFOubDhg0DAEdHRxsbm2d2zM0uPmvWLHjWRmpLliwxdt0GDhz46aefFhYW3r59Wy6X9+rVi329d+/ecrm81RPe82HXLgTAefMEKPXzz2hriyIRfvcdpqZiYCAWFLT1tQIE6+LFiwsXLmQ7f7LzCuspW165scbbJUyePLngf98iu/iyjnlNTQ27kWHcxcrb21utVltyvuxy4uMRAC1f51tUhO7uCGBY98GWaLd9hYP5wWquY15aWsrmJvCYOHDq1Kl+/fqx95Vnz55FxKysrKysrKKiIqVSaeyY29vbS6XSK1euCN6Azm/HDpRI0ML5iw0N+PrrCIC+vqjV4rhxhn5b2zsR5gSr1Y45m0O3ePFiM4q3qqio6NVXXwUAsVi8cuXK48ePy2Qy4/nyxRdfVCqVj1qYwPZcO3QI2VbRtbWYmmp+nfXrMwCwTx/My8NFixAA//IXNGkSkwnBMt4xb3Khefr+uCVDh21RV1e3YsUK4w0qALC2tg4NDT169Ojz3TFvVXAwTpmCej1qtRgUZGaRI0eOWFtbBwR8cPw47tmDAGhvj5cumVakTcFq3DE33jFnV6LmTJ48GQA2b95sWnNMoVQqu3XrJhaLly9f/rzeOzBVcDB+8glu325+sB48eMB6ybGxsbduobMzAmDzi8qa1UqwNBqNTCZjc+IAwNPTU6lUPmzDQpO9e/eC0KsOSauCg/HJE/T1xZwcDArC3Fw06TeutrbWz88PAKZNm1ZeXh4engSAUqk5LWk2WA8ePBg/fryxYx4SEnLo0KG2r0tuy9AhEZBWizodBgdjZSX++CO++SYGBeHy5YZ9kVQqbMseTWz53cCBAx8+fBgZGQkAERFrWtt/7tmaDVZ9ff2gQYN69OgRFRX1+++/m1F61apV0MzQIRHWzz/jkCH44YeGYCHinDkYFIRLlxqWBwKgjQ2GhOCuXdhcUA4cOCASiWxsbM6dO/fVV18BgJOTkxmDJUxLl8L09HRLRtPy8/ObDB0SwdXU4EcfGXbM8vbGxETDHxzIy0O2iU55Oe7YgVOnolhsSJijI86frz906EiTtTqJiYkODg4bN268evUqe5e9c+dOsxvGdxsj49Ah16P837pxA728DOtOo6Ja2Zny8WNMSMCgIBSJcOzYEgCQSCRSqbTx3/jIzs4uKSlhe2cuXbrUkrbxDdapU6dAuFWHxEivR5XKsED+hRfw9GkTXpudjZs2nRs1apTxZo2Hh4dcLr927Zper2dDZxMmTKhmOzCZi/vGa+wbSGZ/X4EIIScHAwIM1zWpFLVaM+tcv349JibGOFwBAGx0tVevXjkWbmLUDsFi3cCArrVJeSeWnIw9eiC7LZ6SIkxNjUYTFRXVp08fa2triUTy3XffWV6Te7C0Wi2/ocP/K0VFGBpqOFHNni38rjV1dXUJCQm3bt0SpFp77EHKdeiwq1u71vDB48fYZJzi00+RDaM/fIhffmnY0LZHD9y1q70baYb2CBbvocMuzfhXCO/dw1mz/vTQxIn42muGHd7nzUO5HIOC8P799m+jOdrjr9gbVx0mJia2w+G6loYGyM2F3FwoLGz6kI0NTJ8OmzcbPl27Fo4ehYED27mBZmqPYAHA4sWLAWDTpk2I2D5H7CrKyyEuDuLi4JtvnvHo4sWwbx8UFAAA2NhAo/kcnZ2lO0a0UWho6JgxY6ZOnVpbWyvgtgLPAYkE4uIAAO7fh+XLmz4qFsM//wmffAJ9+7Z/0yzSTsESi8VXrlxpn2N1aXo9fP01FBf/ETI/Pxg0CP73Vxy7DBFdmzrWr7/ChAkAANXV8NtvMHw4lJVBejqUlICHB4wbBwBQWgq5ufC/VUhdAwWr00GEmBhYsQJ69uzoplignTrvpI2qquCtt8DXF+rrO7oplqEzVuei00FGBgDAwIHQu3dHt8YCFCzCBV0KCRcULMIFBYtwQcEiXFCwCBcULMIFBYtwQcEiXFCwCBcULMIFBYtwQcEiXFCwCBcULMIFBYtwQcEiXFCwCBcULMIFBYtwQcEiXFCwCBcULMIFBYtwQcEiXFCwCBcULMIFBYtwQcEiXFCwCBcULMIFBYtwQcEiXFCwCBcULMIFBYtwQcEiXFCwCBcULMIFBYtwQcEiXFCwCBcULMIFBYtwQcEiXFCwCBcULMIFBYtwQcEiXFCwCBcULMIFBYtwQcEiXFCwCBcULMIFBYtwQcEiXFCwCBcULMIFBYtwQcEiXFCwCBcULMIFBYtwQcEiXFCwCBcULMIFBYtwQcEiXPwXk318wz/l57EAAAGIelRYdHJka2l0UEtMIHJka2l0IDIwMjMuMDMuMwAAeJx7v2/tPQYg4GWAACYgFgZiESBuYGRjSADSjMxsDApAmgXBhdIOGkCamYXNIQNEMzMiMXDKMEAZ7AxgJczsEAEmuB52B6gElIZrhUtAdDAycTMwMjAyAR3CwMjCwMKawcTKlsDGnsHEzpHAwQmkuFRYuLi1mJiZ2Hm4eVRYeHgVePkymPj4E/gFMpgEBBMEhRQ4WRIEeRNEQN5mY+HkYGdjZeXjFRTgF38H8iE0UBiEVR9vOrB+vp09iCOXv+BA/13l/SC2+O/eA5unMR4AsY/tO3Pg8b7ZYPE3dhkHDrxq3Atitz2NPvDVYxtYr5kb84EOHgYHMJsxZn93YzdYPGNz2/7wGaf3gdgsP6UPJOdUgs3hqGGzXxZ4Fazm2snb9k4ljmC2VYubg23XKjBbKLXT4d6p63YgdmLKdoe9KyLB4suXX3L4ePwI2MxjjVsdzu09CTbzrFWHw9l/nWB2bpGjwzPu72C2GADvN2WnJobUkwAAAet6VFh0TU9MIHJka2l0IDIwMjMuMDMuMwAAeJx9VEtuWzEM3PsUuoAF/kUuYzsIiiI20Lq9Q/e9P0o+w3kKIlTPIvQZURRn6EOr9uPy/c/f9tHocji0Bv/5RUT7zQBweG81aKfXt2/Xdr6/nJ4r59uv6/1nw2gEbfs+Y1/ut/fnCrZzO2rXACJv0IeIkeQAtrYfpQcQkNWkHaGbQAazQHIhpQtbALYjdSBx4gVSCmmdw8m9HbET2rAVUgvJ3RInWLeDcV6wQNoDKawJbdiFBDOMr8BRwAxOES2fV/vDdAH0AkJ3DQ5Oj+DhsfIYBcx9JVaoIxzDZCyQCI/LhQeMLZsxhHN1AS2GoCsp16ybmeqKIKR2zf2BA6LuHKrmS4+cQO6ZFSfME8zEsvRY/EinqFzmvhDKWHrU9Kh95Aug2HMF4lWG0BJoXZ0iU10ZcmH2FbLo0W6DIHOdWdVhCCt60NNnRqn58k1EMBx86TO2h6fSDaKQkXWkqzhfr5dPVfKom9Ptetnrpj7aqyMnjfcSqKnsOq+p7mKW7LYrVrKPXZeS3Xf1SfbYNSbZcVYS5j7ipBcqgzQJAzfDkwJwMzJRLWVQJ05rmpRN5EkZHBNJUgZ9IgM3E1PSpaL8cExbPny6vLI957bmz/+zHB/+Adw99TNItUFMAAAA/XpUWHRTTUlMRVMgcmRraXQgMjAyMy4wMy4zAAB4nB2PSYrEMAxFr9LLBByV5oFQq+xzCe9zgjp8ywGD4Ul/0HVt195v0pxz+1zf+3NPfp758L3PSX+/7TCwQpaBEKrOOs5GSGI+DgRXxKpmCipe42BA1uQmDlLJjQiYPLyRgHOmLiG6tOBlKpY5CJSVGrSDEfnoH/GVIaSVlPQOZmXHIRibLODuZuMkCApaJc08xylASF2DQISlSytwiVVvKJPGOA1CliCtr+tcB+u2sbpJqkiuFQ/G9wILp9fEgnIBjOxJ5yBzj5qUIHaTNTMWe40qfGX1TSqBr3mFdtz++weiL03dyrFvAgAAAABJRU5ErkJggg==\" alt=\"Mol\"/></div></td>\n",
              "    </tr>\n",
              "    <tr>\n",
              "      <th>9561</th>\n",
              "      <td>CCCCC(=O)NCc(c1)ccc(c12)n(C)c(C)c2</td>\n",
              "      <td>1.829</td>\n",
              "      <td style=\"text-align: center;\"><div style=\"width: 200px; height: 200px\" data-content=\"rdkit/molecule\"><img src=\"data:image/png;base64,iVBORw0KGgoAAAANSUhEUgAAAMgAAADICAIAAAAiOjnJAAAABmJLR0QA/wD/AP+gvaeTAAAS70lEQVR4nO3da1BT19oH8CckAQRFVFQo9VS8nyigcrEaxMtQUcHq4YgWLa+XjmiLgtBWsa3Sae3R0zItZ7yVMwiiUm9lsGjrqCiUi4CigBIQ0AK2KIICKiIXk+f9sGheCogh2QuE9/l9WjOsPFmQP8nea+21I0JEIERoet09ANI7UbAIFxQswgUFi3BBwSJcULAIFxQswgUFi3BBwSJcULAIFxQswgUFi3BBwSJcULAIFxQswgUFi3BBwSJcULAIFxQswgUFi3BBwSJcULAIFxQswgUFi3BBwSJcULAIFxQswgUFi3BBwSJcULAIFxQswgUFi3BBwSJcULAIFxQswgUFi3BBwSJcULAIFxQswgUFi3BBwSJcULAIFxQswgUFi3BBwSJcULAIFxQswgUFi3BBwSJcULAIFxQswgUFi3BBwSJcULAIFxQswgUFi3BBwSJcULAIFxQswgUFi3BBwSJcULAIFxQswgUFi3BBwSJcULAIFxQswgUFi3BBwSKdcOHChTt37mjSk4JFNBUeHj5v3jx3d/fa2tqXdqZgkZdDxM8//3zNmjVNTU2zZs0yMjLS6DGEdKC+vt7LywsAJBLJvn37NHyUhHvaSU/28OHDRYsWpaSk9OvX79ixY/PmzdPwgRQs8kJFRUVubm5FRUVWVlanT5+WyWSaP5aOsUj7Ll686OjoWFRU5OjomJaW1qlUAQWLtOvAgQPz5s2rqanx8PBISEgYOnRop0twPe4jXam8vHzBggX9+/cPDAyMjY2tqKjQoohKpQoODmbZ8PPzUyqV2g2GgtV7eHt7t3rXGDFihLe3d1hYWG5uriYV6uvrly9fDgBisXjPnj26DEaEiDq/cZLup1AoJk2apFQqN23aZGBgkJycnJGR8fTpU3UHS0tLZ2dnuVzu7Ow8fvx4Pb3WR0EPHz708PBISkrq27fv0aNH3dzcdBkPBas3QMTZs2cnJiauX79+165dUVFR9fX106ZNE4lEly5dio+PT0xMrKysVPfv16/flClT5HK5k5OTk5OToaHhrVu33NzcCgsLLS0tT58+PXHiRB2HRMHqDQ4cOLBq1aqhQ4fevHnT1NTUxsbmxo0bAGBiYuLo6CiXy+Vy+eDBgy9fvpySkpKcnFxSUqJ+rKGhobW1dUFBwePHj+3t7U+dOmVubq77kAQIVl1d3Y0bN7Kzs7Ozsy9evFheXu7u7h4dHa374Igmqqurx40bV1FRcejQoXfffRcAvv/+++Tk5KSkpD/++EPdzcjIaMqUKc7Ozk5OTsOHD8/KykpJSUlNTc3KylKpVJaWluPGjYuLi9NouUYTWhyXVVdXJycnh4aGent729nZ6evrty0bGRmpy6Ef0dy6desAYPr06SqVqtWPiouLDx486OPjI5PJRCKR+tWRSCQODg4BAQHnzp2rqqpycnICgKNHjwo4Ko2CVVZWFhcXFxwc7O7uPmLEiFYZkkgkMpnM09MzODg4Njb2o48+AgCpVBofHy/gQEm7rly5IhaLJRLJ9evXO+756NGj8+fPb968WS6XGxgYsNdu+fLliPj+++8DwO7duwUc2AuXdBobGwMDA7Ozs69fv/7kyZOWPzIxMbGxsZn4pwkTJqgHCgCLFi0CgJCQEA8Pj9TU1AkTJnTuLZRoTKVS+fr6KpXKoKAga2vrjjubmJi4uLi4uLgAwNOnT9PT01NSUuzt7QFg8ODBANDy6F4AHYROPd9qYWHh4uLi5+cXFRWVm5v70kkzlUr1zjvvAICVlVV5ebmA/wekpV27dgHAsGHDnjx5onsdX19foQaGHX8UHjt27Pz585WVlVrUraure/PNNwHAwcHh6dOn2g6PvFB5ebmpqSkAxMbG6ljqyJEjALBkyRJBBsZwnHmvrKwcOXIkACxevFjrlQHyIuwEcO7cubqXio+PB4BZs2bpXkqN75JOXl4e+6/asmUL1yf6/yYpKUkkEvXp0+f27du6V8vJyQEAa2tr3UupcV8rTEhIYPMRml98SDrW1NTEDtW//PJLQQrevVtnY5Nkb18oSDWmKxah9+/fDwBSqfTcuXNd8HS93o4dOwBg9OjRz549E6RgYyOKRCiRYJuJMO110dUNmzdvZme8L51u6UBDQ4N2l4L0Jnfu3Onbty8A/PLLLwKWNTVFAKyqEqxgFwVLpVItW7YMAIYPH675BERDQ0Nubm5UVJSfn59cLpdKpXp6eq6urlyH+mq6fft2TEzM1q1bx4wZAwCenp7C1h89GgGwoECwgl10zbtIJNq/f39xcXFaWpq7u3tiYqKxsXHbbhUVFWzNMSsrKycnp7CwUKlUtupz9uzZyMjIVatWdcnAu8fz588LCgquXr2al5enUCjS09MfPHig/qlUKpVIBH7hzMygqAgqK2HMGGEKdt1mCkNDw7i4uKlTp2ZmZq5YseL48eN6enp37969+qe8vLzffvvtL4OTSGQy2fjx42UymZ2d3ZQpU06cOLF+/fq1a9cOGzaMTSL3DjU1Ndkt5OXlNTU1texgbm7O1jlMTEy2b99+5MgRGxuboKAgoQYweDAAgJBz74K992lGPQFhbGzMjhVaMjExmT59+oYNG8LDwzMzM+vr69tW2LRpE+h8uNbKqlXNx61paRgWJlTVl/j2228DAgIWLVpkZWXV6u+gp6c3duzYpUuX7tix48yZM/fu3VM/qqSk5PTp02KxWCQSRUdHCzWY995DAPzvf4Wq1x2XJoeHh6tX2ju7WISIKpWK7Z/s1OFax1xdkT3zhQu4c6cgJV9i9erVLZMklUplMpm3t3doaGhycvKLlmh++uknY2PjkJCQkJAQADA0NLx06ZIg4wkKQgMDDA0VpBhid13zXlpaGhoaev/+fe0eXldXN3XqVACwt7cXZL3I1RXXrcN163DBgi4KlqWlJQA4ODhER0crFIrnz59r8qgTJ07o6enp6enFxMT4+voCgJmZWVFRkY6DuXsX4+Ka20Kda/bUzRSVlZWjRo0CgdaLXF2xsRGbmvD8+a4I1pUrVwBgyJAhWiwes0msPn36pKamLliwAADGjRtXpds8QWIimpkhO7KYP1+XSv+npwYLEfPy8gYMGAAAQUFBOpbq4o/CwMBAAPDz8/vwww/HjBnT2RkpdvmUubm5QqGwtbUFAGdn53aPRzWUmIhbtqC7OyqVFCxERExMTGTrRXv37tWlzg8/NDdKSlCgg5YXUiqV7HMwNTWVNdLS0jpVobGx8a233gIAmUyWn5//+uuvA8DKlSu1GEx1NUZHY2IihoTgvn0YHk7B+lNERATovF7k5YVffIGIePIkfv+9YGNr18WLFwFgxIgRFy5cYI22lxS/1KNHj2xsbABg5syZ6enp7Px6+/btmlfIy0M/PzQ2RgDcvx9DQlCpRHd3nDULjx9HT0/U8byoxwcLEbds2cImIHJycrSr4OWFS5ZgUVFXBGvNmjUA8Nlnn7HGp59+ql2dkpIStp1m9erVP//8M5uAOHToUMePqq/H6GicNg0BEABFIpwzByMikF2WfOUKzpjRPAtvaoq7d6NmJxXt6A3BUqlUbP/uG2+80XLKpwO1tZiWhvv2oY8Pfv01ennhzZv4j39wD1ZDQ8OgQYMAICsrizVu3LihdbXMzEy2gLFz587vvvsOAPT19RMSEtrtXFpa+vXXJUOGNEfK1BQDAtpfw7l9G93cmrtNnIid/KBu1huChYjPnj2bNm0aANjZ2dXW1rbtcO/evfj433buxKVLcexYFIub/3AA+Oab6OWFT5/iv/+NK1bwDdbJkycBwNbWVt3QseCpU6fYe9UPP/ywYcMGABg0aFBh4V8ugElOTvb09JRIJDY2vgD4979jaCi290f6i7g4HD68+V3N2xs7ex1xLwkWIj548IDtIJo/f35jY2PbnUWTJ29Sh0kqRVtbXLECv/sOk5Obg9XYiBMm8A3W0qVL2RuMuqF7zW+++YZNlqakpCxcuBAARo4cWVFRUVNTExoaOnbsWDYHq6+vv3z58kuXGjWvXFuLmzejVIoA6Oa288CBA5ofDvaeYCHiBx98wP6Ibddo+/fv7+b2P35+GBGBV69iQ8NfHhgfj01NiIg3bmBODvr6okIh/PBqa2uNjY1FIpFCoWCN4uJiQSqzX9zMzCwnJ4ftjn/ttdfUy/x/+9vfvvrqK62noxUK9PS8zc6+p0+fruFnd68K1ujRo1umytHRsVOLRcwXXyAAWlmhti/ECx08eJC9NuqGUJWbmprmzp0LAMuWLSsrKzM1NR02bBgAyOXy48ePN7F/Gt3ExcWxeQ2JROLn5/f48eOO+/eeYKWnp7PFR3Y+b25uruE6SSt1dTh1KgKgvT0Ku72I3cBz79696oaAxR89ehQYGFhbW1tVVWVgYCAWi1NSUgSsj4g1NTV+fn5isZi9I0ZFRXXQufcEy9/fHwACAgI2btwIABs3btS6VGUljhqFAPjPf6JQ24sqKirYdVT5+fmsofVnU8fCwsIAYM6cOTyKI2JmZqajoyP7TLh8+fKLuvWSYKmns9PT01kjIyNDl4J5eThgAALg5s3CjHD37t0A4ObmtmfPHtYQpm4bM2fOBM73zlAqlfv27fPx8emgTy8J1vnz59nZ0Llz51hDi+nsVuLjm0+IIiOrdR+hXC4HgMOHD7M7cBw+fFj3mm2VlZWJxWJDQ8Oamhoe9TXXS4LFLm8KDg5mjW3btglSNiIC7e3PDBgwUMf9RaWlpSKRyMjIKC8vjzV03BT/Iuw6rcWLF/Mo3im9Ilj19bddXLbY2WVnZ7PLUxXCzRZ88sknbLZCw9t4tvL8+XOFQsFmrby8vM6ePWtmZrZ06VKhhteKnZ0dAMTExHCqr7leEayYGATAyZPr4+KyZ8zY+vbbAtbu7HpRq51F6smkoUOHsjw1NjZyOmwvKipia6Z1dXU86ndKrwjW4sUIgN98g56ezQ1BdbxedO/evTNnzuzYsWPJkiVjx45te9NYKysrZ2dnNrsWHh4u7NhaYrfRXrVqFb+n0FzPD9ajR9inD+rpYX5+c+P33wV/kgcPHrDZVzc3t5s3b6oXiywsLFrFiO0s8vb23rlzZ1xcnHqHbRdsB2dbDl+R7eY9P1iRkQiAM2figQMIgDNmcHqe/Pz8AQMGsOnBVotFM2bM8Pf3j4iIuHbtWkOr1aIW2G4tYfcXqV2+fBkAhgwZIsg8u+56frDmzEEADAtDV1cE4LqG/OOPPw4ePNjIyOjtt9/etm1bTExMp272ot12cA0FBAQAgL+/v7BltdbDg1VRgRIJSqVYUNDcePCgu8fUkWfPnqn3F7V7eY92Ws4PC1VTRz38S5pOnoTnz2HuXDh7trkxaFB3j6kjbDv4qFGj2HZwlUolSNmEhISysrKRI0eqF1u6X3cnWzdKJf76K2Zk4Ny5CIDC7Qzmih2uAcCmTZt0qaPemfPee+8BwNatW4UYnTB68jdTNDXBf/4DhYVgaQn+/pCSArNmQXv3GnkFJSUlzZkzp6GhYc+ePerLyF7q7t277DYh7G4Xjx8//v333xsbGy0sLKqqqnJzc8ePH8912J3Q3cnWQVAQsnveJyait3d3j6bTIiMjAUAsFp86dardDk1NTbm5udHR0R9//LGLi4uZmVmr187AwKC6ujo2NhYAJk2a1MXj71hPDlbLm7HOnNl949AeWy/q16+fen9RYWHh3r17fXx8HBwc+vTp0ypJAwcOnD17dmBg4MGDB69du5adnR0dHd2/f38QbnlUKPSd0N1p+/btpaWl0dHR8+fPz8jIsLS0PHPmDLuwjLGwsLCzs2M3crKxsZFIJNeuXbt69WpYWFhWVlZdXR3rJpVKNf8a8K7Rk4M1cSKcPQuurpCdDUJ8YVXXE4lE4eHhxcXFly5dWrhw4a+//urk5LRy5Up2Kyxzc/Pi4mJ2G7rY2Nhbt261Oou0srKaOHGigYGBj48Pu6v+q6MnH7zX1cG//gUVFdC3L3z2GQwc2N0D0tLDhw+nTp1aVFQ0adKktWvXsjBlZ2ffv3+/ZTd9fX2ZTKb+phlbW1t2KcerqScHqxcpKCiYPHmy+qONMTExsba2Vt/Q0M7Oru1R1yuLgvWqiIiICA0NRUQPDw/2ntT2Tn89CAWLcNHDl3TIq4qCRbigYBEuKFiECwoW4YKCRbigYBEuKFiECwoW4YKCRbigYBEuKFiECwoW4YKCRbigYBEuKFiECwoW4YKCRbigYBEuKFiECwoW4YKCRbigYBEuKFiECwoW4YKCRbigYBEuKFiECwoW4YKCRbigYBEuKFiECwoW4YKCRbigYBEuKFiECwoW4YKCRbigYBEuKFiECwoW4YKCRbigYBEuKFiECwoW4YKCRbigYBEuKFiECwoW4YKCRbigYBEuKFiECwoW4YKCRbigYBEuKFiECwoW4YKCRbigYBEuKFiECwoW4YKCRbigYBEuKFiECwoW4YKCRbigYBEuKFiEi/8Fwri8EShCID8AAAF8elRYdHJka2l0UEtMIHJka2l0IDIwMjMuMDMuMwAAeJx7v2/tPQYg4GWAACYgFgZiESBuYGRjSADSjMwQmokJk9YA0swsHBCaiZ0hA0wzwhU4QBSwOYAlmBmxMWBKIDQ7hGaG2w2Th/OhGrkZGBkYmRiYmIGSDCysGkwsbAps7AzsHAwcnBlMHFwJXNwZTNw8CTy8GUw8fAl8/Ax8AgkCggwCQhlMvJwJQrwJIiDfsnFwcfPwcrLy8fAKCYi/A9kBDQsG4a7frAc32s22B3G+n7pzgH3/PjDbsnXvAZPILXYgtnRk3wE3XUWw+B61uAO6Kkz7Qeyaz7UH1Ky/gdmMc//vZ+3L2Qdic7U17a+yWg8W37TyhZ3Krm4w+1Z7sf3a3UvBZiY7brfP38h3AMR++8PSoePRT7CatUcjHT4UcYLZRlbSDs33JMH2rtab6VCRpW4LYnvrHnIo8LQFqwnxnOqgNfMIWE3z5p0OAjcUHEBsCy1fhwMvP4DFxQBe310f5PKGAgAAAep6VFh0TU9MIHJka2l0IDIwMjMuMDMuMwAAeJx9VFtuGzEM/PcpeAELHIp68DO2gyIosgZat3fof++PkgpcKYAQrSmsqFlKmhn5RNF+3L7/+Uv/m9xOJyL+4mdm9Dsz8+md4oUur9/eDro+Xi7PzPX+63j8JBgJ03g+Y18e9/dnBnSlc0+5ZQMISSC9gDjxaPNTCWBN3ay16kA1Fi4bYA5gSSZSkH0+FxHNG6AGUJNqz635fBUr1jbAEsCctAFQOnMq3HPdrV3pHkirzXqlM3wXuXbeIBsdY96qNYuaksHYHbzH6kgMaxg1vaI12SDNkZy0qDrv8Ymhom+A4IG0ArEolH2X25Mj5HGuM2rPdJYkztH2PAh9JBmX7kvGyZx2qTtkCORsslTjwaYvjm1NHTVVisoQiMFbb6A4m5par6bjGMq97SR3Aq9UE7smMlh32/lGdsjmSE21FuHwZcnFRHfA0Kekzs5R9t266dC3XNo4t5u2+YpIvQvyruLrcft0RT4uzeV+3OaliUfm1fAB5XkB4KHT5vAo08ziUadj4cM2bQmPPr0HD5sGUw+sPhoJLH7R6CCLLzQ65EV/jQ666PyRKYugGF1dlNORaYtCGF1fpNCRsYVzjfJzyzIIsWX1oHslN8bPfzN/P/0Dri/07cv2iK4AAAD9elRYdFNNSUxFUyByZGtpdCAyMDIzLjAzLjMAAHicHZBNasYwDESv0mUCjtC/JUJX2beH8L4n+A7fcQwG8xiPn/U8WMf37/nzLFlL17GWnH/Hc6699etzXEU2rWUIqWjFuK+k6p4F4s0KENSqIYPJQtUNyMm9rIBSO3oCGfkUkXExBZdlvKxzdo9LUGFZQDh1du2YmjAubMbSU3cMod3G5OH+Em5J3aRDtHVboGqHlFwDOpBgYQjecGDNfh2QkZ1pjnqLGvJwx7dMoHIpKdzh5DQrO9DDzjWRSeIstt2D4fieglNmKIYSFrC4gxCQHEohJr3fVo6JQJWKjfPzD9f2Tg03jziRAAAAAElFTkSuQmCC\" alt=\"Mol\"/></div></td>\n",
              "    </tr>\n",
              "    <tr>\n",
              "      <th>9562</th>\n",
              "      <td>CN(C)c1nc(N(C)C)nc(n1)Nc2ccccc2</td>\n",
              "      <td>1.829</td>\n",
              "      <td style=\"text-align: center;\"><div style=\"width: 200px; height: 200px\" data-content=\"rdkit/molecule\"><img src=\"data:image/png;base64,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\" alt=\"Mol\"/></div></td>\n",
              "    </tr>\n",
              "    <tr>\n",
              "      <th>9563</th>\n",
              "      <td>O=C(O)CCc1ccc(o1)-c(cc2)ccc2C</td>\n",
              "      <td>1.829</td>\n",
              "      <td style=\"text-align: center;\"><div style=\"width: 200px; height: 200px\" data-content=\"rdkit/molecule\"><img src=\"data:image/png;base64,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\" alt=\"Mol\"/></div></td>\n",
              "    </tr>\n",
              "    <tr>\n",
              "      <th>9564</th>\n",
              "      <td>O=C(O)c1ccc(cn1)C2CCCCC2</td>\n",
              "      <td>1.829</td>\n",
              "      <td style=\"text-align: center;\"><div style=\"width: 200px; height: 200px\" data-content=\"rdkit/molecule\"><img src=\"data:image/png;base64,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\" alt=\"Mol\"/></div></td>\n",
              "    </tr>\n",
              "    <tr>\n",
              "      <th>...</th>\n",
              "      <td>...</td>\n",
              "      <td>...</td>\n",
              "      <td>...</td>\n",
              "    </tr>\n",
              "    <tr>\n",
              "      <th>19729</th>\n",
              "      <td>c1ccccc1CN2C(=O)C[C@H](C2=O)N(CC3)CCC3c(n4)[nH...</td>\n",
              "      <td>3.885</td>\n",
              "      <td style=\"text-align: center;\"><div style=\"width: 200px; height: 200px\" data-content=\"rdkit/molecule\"><img src=\"data:image/png;base64,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\" alt=\"Mol\"/></div></td>\n",
              "    </tr>\n",
              "    <tr>\n",
              "      <th>19730</th>\n",
              "      <td>COc(cc1)c(OC)cc1[C@@H](C2)N(c3ccccc3)N=C2c4ccc...</td>\n",
              "      <td>3.885</td>\n",
              "      <td style=\"text-align: center;\"><div style=\"width: 200px; height: 200px\" data-content=\"rdkit/molecule\"><img src=\"data:image/png;base64,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\" alt=\"Mol\"/></div></td>\n",
              "    </tr>\n",
              "    <tr>\n",
              "      <th>19731</th>\n",
              "      <td>CCC(CC)O[C@H](C=C1C(=O)O)[C@H](NC(=O)C)[C@H](C...</td>\n",
              "      <td>3.885</td>\n",
              "      <td style=\"text-align: center;\"><div style=\"width: 200px; height: 200px\" data-content=\"rdkit/molecule\"><img src=\"data:image/png;base64,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\" alt=\"Mol\"/></div></td>\n",
              "    </tr>\n",
              "    <tr>\n",
              "      <th>19732</th>\n",
              "      <td>c1ccc(OC)cc1CN(C)C(=O)c2cc(-c3cccs3)nc(c24)cccc4</td>\n",
              "      <td>3.885</td>\n",
              "      <td style=\"text-align: center;\"><div style=\"width: 200px; height: 200px\" data-content=\"rdkit/molecule\"><img src=\"data:image/png;base64,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\" alt=\"Mol\"/></div></td>\n",
              "    </tr>\n",
              "    <tr>\n",
              "      <th>19733</th>\n",
              "      <td>c1ccccc1CCNS(=O)(=O)c2ccc(s2)Br</td>\n",
              "      <td>3.885</td>\n",
              "      <td style=\"text-align: center;\"><div style=\"width: 200px; height: 200px\" data-content=\"rdkit/molecule\"><img src=\"data:image/png;base64,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\" alt=\"Mol\"/></div></td>\n",
              "    </tr>\n",
              "  </tbody>\n",
              "</table>\n",
              "<p>10000 rows × 3 columns</p>\n",
              "</div>\n",
              "    <div class=\"colab-df-buttons\">\n",
              "\n",
              "  <div class=\"colab-df-container\">\n",
              "    <button class=\"colab-df-convert\" onclick=\"convertToInteractive('df-0f571193-6ff4-4221-9219-b5a0b2be6f28')\"\n",
              "            title=\"Convert this dataframe to an interactive table.\"\n",
              "            style=\"display:none;\">\n",
              "\n",
              "  <svg xmlns=\"http://www.w3.org/2000/svg\" height=\"24px\" viewBox=\"0 -960 960 960\">\n",
              "    <path d=\"M120-120v-720h720v720H120Zm60-500h600v-160H180v160Zm220 220h160v-160H400v160Zm0 220h160v-160H400v160ZM180-400h160v-160H180v160Zm440 0h160v-160H620v160ZM180-180h160v-160H180v160Zm440 0h160v-160H620v160Z\"/>\n",
              "  </svg>\n",
              "    </button>\n",
              "\n",
              "  <style>\n",
              "    .colab-df-container {\n",
              "      display:flex;\n",
              "      gap: 12px;\n",
              "    }\n",
              "\n",
              "    .colab-df-convert {\n",
              "      background-color: #E8F0FE;\n",
              "      border: none;\n",
              "      border-radius: 50%;\n",
              "      cursor: pointer;\n",
              "      display: none;\n",
              "      fill: #1967D2;\n",
              "      height: 32px;\n",
              "      padding: 0 0 0 0;\n",
              "      width: 32px;\n",
              "    }\n",
              "\n",
              "    .colab-df-convert:hover {\n",
              "      background-color: #E2EBFA;\n",
              "      box-shadow: 0px 1px 2px rgba(60, 64, 67, 0.3), 0px 1px 3px 1px rgba(60, 64, 67, 0.15);\n",
              "      fill: #174EA6;\n",
              "    }\n",
              "\n",
              "    .colab-df-buttons div {\n",
              "      margin-bottom: 4px;\n",
              "    }\n",
              "\n",
              "    [theme=dark] .colab-df-convert {\n",
              "      background-color: #3B4455;\n",
              "      fill: #D2E3FC;\n",
              "    }\n",
              "\n",
              "    [theme=dark] .colab-df-convert:hover {\n",
              "      background-color: #434B5C;\n",
              "      box-shadow: 0px 1px 3px 1px rgba(0, 0, 0, 0.15);\n",
              "      filter: drop-shadow(0px 1px 2px rgba(0, 0, 0, 0.3));\n",
              "      fill: #FFFFFF;\n",
              "    }\n",
              "  </style>\n",
              "\n",
              "    <script>\n",
              "      const buttonEl =\n",
              "        document.querySelector('#df-0f571193-6ff4-4221-9219-b5a0b2be6f28 button.colab-df-convert');\n",
              "      buttonEl.style.display =\n",
              "        google.colab.kernel.accessAllowed ? 'block' : 'none';\n",
              "\n",
              "      async function convertToInteractive(key) {\n",
              "        const element = document.querySelector('#df-0f571193-6ff4-4221-9219-b5a0b2be6f28');\n",
              "        const dataTable =\n",
              "          await google.colab.kernel.invokeFunction('convertToInteractive',\n",
              "                                                    [key], {});\n",
              "        if (!dataTable) return;\n",
              "\n",
              "        const docLinkHtml = 'Like what you see? Visit the ' +\n",
              "          '<a target=\"_blank\" href=https://colab.research.google.com/notebooks/data_table.ipynb>data table notebook</a>'\n",
              "          + ' to learn more about interactive tables.';\n",
              "        element.innerHTML = '';\n",
              "        dataTable['output_type'] = 'display_data';\n",
              "        await google.colab.output.renderOutput(dataTable, element);\n",
              "        const docLink = document.createElement('div');\n",
              "        docLink.innerHTML = docLinkHtml;\n",
              "        element.appendChild(docLink);\n",
              "      }\n",
              "    </script>\n",
              "  </div>\n",
              "\n",
              "\n",
              "<div id=\"df-4a8bab92-6811-4856-ad6d-e719eefddfa3\">\n",
              "  <button class=\"colab-df-quickchart\" onclick=\"quickchart('df-4a8bab92-6811-4856-ad6d-e719eefddfa3')\"\n",
              "            title=\"Suggest charts.\"\n",
              "            style=\"display:none;\">\n",
              "\n",
              "<svg xmlns=\"http://www.w3.org/2000/svg\" height=\"24px\"viewBox=\"0 0 24 24\"\n",
              "     width=\"24px\">\n",
              "    <g>\n",
              "        <path d=\"M19 3H5c-1.1 0-2 .9-2 2v14c0 1.1.9 2 2 2h14c1.1 0 2-.9 2-2V5c0-1.1-.9-2-2-2zM9 17H7v-7h2v7zm4 0h-2V7h2v10zm4 0h-2v-4h2v4z\"/>\n",
              "    </g>\n",
              "</svg>\n",
              "  </button>\n",
              "\n",
              "<style>\n",
              "  .colab-df-quickchart {\n",
              "      --bg-color: #E8F0FE;\n",
              "      --fill-color: #1967D2;\n",
              "      --hover-bg-color: #E2EBFA;\n",
              "      --hover-fill-color: #174EA6;\n",
              "      --disabled-fill-color: #AAA;\n",
              "      --disabled-bg-color: #DDD;\n",
              "  }\n",
              "\n",
              "  [theme=dark] .colab-df-quickchart {\n",
              "      --bg-color: #3B4455;\n",
              "      --fill-color: #D2E3FC;\n",
              "      --hover-bg-color: #434B5C;\n",
              "      --hover-fill-color: #FFFFFF;\n",
              "      --disabled-bg-color: #3B4455;\n",
              "      --disabled-fill-color: #666;\n",
              "  }\n",
              "\n",
              "  .colab-df-quickchart {\n",
              "    background-color: var(--bg-color);\n",
              "    border: none;\n",
              "    border-radius: 50%;\n",
              "    cursor: pointer;\n",
              "    display: none;\n",
              "    fill: var(--fill-color);\n",
              "    height: 32px;\n",
              "    padding: 0;\n",
              "    width: 32px;\n",
              "  }\n",
              "\n",
              "  .colab-df-quickchart:hover {\n",
              "    background-color: var(--hover-bg-color);\n",
              "    box-shadow: 0 1px 2px rgba(60, 64, 67, 0.3), 0 1px 3px 1px rgba(60, 64, 67, 0.15);\n",
              "    fill: var(--button-hover-fill-color);\n",
              "  }\n",
              "\n",
              "  .colab-df-quickchart-complete:disabled,\n",
              "  .colab-df-quickchart-complete:disabled:hover {\n",
              "    background-color: var(--disabled-bg-color);\n",
              "    fill: var(--disabled-fill-color);\n",
              "    box-shadow: none;\n",
              "  }\n",
              "\n",
              "  .colab-df-spinner {\n",
              "    border: 2px solid var(--fill-color);\n",
              "    border-color: transparent;\n",
              "    border-bottom-color: var(--fill-color);\n",
              "    animation:\n",
              "      spin 1s steps(1) infinite;\n",
              "  }\n",
              "\n",
              "  @keyframes spin {\n",
              "    0% {\n",
              "      border-color: transparent;\n",
              "      border-bottom-color: var(--fill-color);\n",
              "      border-left-color: var(--fill-color);\n",
              "    }\n",
              "    20% {\n",
              "      border-color: transparent;\n",
              "      border-left-color: var(--fill-color);\n",
              "      border-top-color: var(--fill-color);\n",
              "    }\n",
              "    30% {\n",
              "      border-color: transparent;\n",
              "      border-left-color: var(--fill-color);\n",
              "      border-top-color: var(--fill-color);\n",
              "      border-right-color: var(--fill-color);\n",
              "    }\n",
              "    40% {\n",
              "      border-color: transparent;\n",
              "      border-right-color: var(--fill-color);\n",
              "      border-top-color: var(--fill-color);\n",
              "    }\n",
              "    60% {\n",
              "      border-color: transparent;\n",
              "      border-right-color: var(--fill-color);\n",
              "    }\n",
              "    80% {\n",
              "      border-color: transparent;\n",
              "      border-right-color: var(--fill-color);\n",
              "      border-bottom-color: var(--fill-color);\n",
              "    }\n",
              "    90% {\n",
              "      border-color: transparent;\n",
              "      border-bottom-color: var(--fill-color);\n",
              "    }\n",
              "  }\n",
              "</style>\n",
              "\n",
              "  <script>\n",
              "    async function quickchart(key) {\n",
              "      const quickchartButtonEl =\n",
              "        document.querySelector('#' + key + ' button');\n",
              "      quickchartButtonEl.disabled = true;  // To prevent multiple clicks.\n",
              "      quickchartButtonEl.classList.add('colab-df-spinner');\n",
              "      try {\n",
              "        const charts = await google.colab.kernel.invokeFunction(\n",
              "            'suggestCharts', [key], {});\n",
              "      } catch (error) {\n",
              "        console.error('Error during call to suggestCharts:', error);\n",
              "      }\n",
              "      quickchartButtonEl.classList.remove('colab-df-spinner');\n",
              "      quickchartButtonEl.classList.add('colab-df-quickchart-complete');\n",
              "    }\n",
              "    (() => {\n",
              "      let quickchartButtonEl =\n",
              "        document.querySelector('#df-4a8bab92-6811-4856-ad6d-e719eefddfa3 button');\n",
              "      quickchartButtonEl.style.display =\n",
              "        google.colab.kernel.accessAllowed ? 'block' : 'none';\n",
              "    })();\n",
              "  </script>\n",
              "</div>\n",
              "    </div>\n",
              "  </div>\n"
            ]
          },
          "metadata": {},
          "execution_count": 95
        }
      ]
    },
    {
      "cell_type": "code",
      "source": [
        "!python -m pip install git+https://github.com/EBjerrum/molvecgen"
      ],
      "metadata": {
        "colab": {
          "base_uri": "https://localhost:8080/"
        },
        "id": "LoJQ2Qfra1cJ",
        "outputId": "49ed4f2a-e561-4427-ccde-321e7a22e41e"
      },
      "execution_count": 27,
      "outputs": [
        {
          "output_type": "stream",
          "name": "stdout",
          "text": [
            "Collecting git+https://github.com/EBjerrum/molvecgen\n",
            "  Cloning https://github.com/EBjerrum/molvecgen to /tmp/pip-req-build-wzn17k7o\n",
            "  Running command git clone --filter=blob:none --quiet https://github.com/EBjerrum/molvecgen /tmp/pip-req-build-wzn17k7o\n",
            "  Resolved https://github.com/EBjerrum/molvecgen to commit f81d5aade18bea60882f5845877f6283366bbe91\n",
            "  Preparing metadata (setup.py) ... \u001b[?25l\u001b[?25hdone\n",
            "Requirement already satisfied: numpy in /usr/local/lib/python3.10/dist-packages (from molvecgen==0.1) (1.23.5)\n",
            "Building wheels for collected packages: molvecgen\n",
            "  Building wheel for molvecgen (setup.py) ... \u001b[?25l\u001b[?25hdone\n",
            "  Created wheel for molvecgen: filename=molvecgen-0.1-py3-none-any.whl size=11357 sha256=cb8583042ffd077e1736f155fd3753c6a957ed7eb6f9ea2020107f23f9c41303\n",
            "  Stored in directory: /tmp/pip-ephem-wheel-cache-8gnew9o7/wheels/1c/de/14/fd9892b48271e63e56b00c7015c754ae6189e258fa313a7c63\n",
            "Successfully built molvecgen\n",
            "Installing collected packages: molvecgen\n",
            "Successfully installed molvecgen-0.1\n"
          ]
        }
      ]
    },
    {
      "cell_type": "code",
      "source": [
        "from molvecgen.vectorizers import SmilesVectorizer"
      ],
      "metadata": {
        "id": "lfI8ApeAb7CU"
      },
      "execution_count": 28,
      "outputs": []
    },
    {
      "cell_type": "code",
      "source": [
        "data_total.Molecule.values"
      ],
      "metadata": {
        "colab": {
          "base_uri": "https://localhost:8080/"
        },
        "id": "O64hNdC_b_cF",
        "outputId": "c90ab97c-1112-43be-eefe-5f8871465d6e"
      },
      "execution_count": 59,
      "outputs": [
        {
          "output_type": "execute_result",
          "data": {
            "text/plain": [
              "array([<rdkit.Chem.rdchem.Mol object at 0x7aae8f739d90>,\n",
              "       <rdkit.Chem.rdchem.Mol object at 0x7aaeadd64e40>,\n",
              "       <rdkit.Chem.rdchem.Mol object at 0x7aaeadd65460>, ...,\n",
              "       <rdkit.Chem.rdchem.Mol object at 0x7aae8e3a1d20>,\n",
              "       <rdkit.Chem.rdchem.Mol object at 0x7aae8e3a1d90>,\n",
              "       <rdkit.Chem.rdchem.Mol object at 0x7aae8e3a1e00>], dtype=object)"
            ]
          },
          "metadata": {},
          "execution_count": 59
        }
      ]
    },
    {
      "cell_type": "code",
      "source": [
        "smivec = SmilesVectorizer(pad=1, leftpad=True, canonical=False, augment=True)\n",
        "smivec.fit(data_total.Molecule.values)"
      ],
      "metadata": {
        "id": "4enecJceb-ul"
      },
      "execution_count": 96,
      "outputs": []
    },
    {
      "cell_type": "code",
      "source": [
        "smivec.charset"
      ],
      "metadata": {
        "colab": {
          "base_uri": "https://localhost:8080/",
          "height": 36
        },
        "id": "NIuGKaTUcSov",
        "outputId": "c6d3f638-898c-4861-a99b-8175a073ba60"
      },
      "execution_count": 97,
      "outputs": [
        {
          "output_type": "execute_result",
          "data": {
            "text/plain": [
              "'r6)@IB72Cco+[=O4.]S-#1N\\\\/F(Ps3nl5H^$?'"
            ],
            "application/vnd.google.colaboratory.intrinsic+json": {
              "type": "string"
            }
          },
          "metadata": {},
          "execution_count": 97
        }
      ]
    },
    {
      "cell_type": "code",
      "source": [
        "print(\"Maximum allowed SMILES length %s\"%smivec.maxlength)"
      ],
      "metadata": {
        "colab": {
          "base_uri": "https://localhost:8080/"
        },
        "id": "RP8GMON9c-qZ",
        "outputId": "dcdbc867-1da1-4181-a536-35b1e956e59d"
      },
      "execution_count": 98,
      "outputs": [
        {
          "output_type": "stream",
          "name": "stdout",
          "text": [
            "Maximum allowed SMILES length 234\n"
          ]
        }
      ]
    },
    {
      "cell_type": "code",
      "source": [
        "y = data_total['IC50'].values.reshape((-1,1))\n",
        "X = data_total.Molecule.values\n",
        "X_train, X_test, y_train, y_test = train_test_split(X, y,  test_size=0.2, random_state=42)\n",
        "#Normalizing output using standard scaling\n",
        "scaler = StandardScaler()\n",
        "y_train = scaler.fit_transform(y_train)\n",
        "y_test = scaler.transform(y_test)"
      ],
      "metadata": {
        "id": "U0eT3YQReOeN"
      },
      "execution_count": 99,
      "outputs": []
    },
    {
      "cell_type": "code",
      "source": [
        "device = torch.device(\"cuda:0\" if torch.cuda.is_available() else \"cpu\")\n",
        "print(device)"
      ],
      "metadata": {
        "colab": {
          "base_uri": "https://localhost:8080/"
        },
        "id": "k26Jvs-jjCF2",
        "outputId": "76fba2d4-3a48-4f8f-89c7-128c260a7626"
      },
      "execution_count": 100,
      "outputs": [
        {
          "output_type": "stream",
          "name": "stdout",
          "text": [
            "cuda:0\n"
          ]
        }
      ]
    },
    {
      "cell_type": "code",
      "source": [
        "X_test_t = smivec.transform(X_test, canonical=False)\n",
        "X_test_t = torch.tensor(X_test_t, device=device).float()\n",
        "y_test_t = torch.tensor(y_test, device=device).float()"
      ],
      "metadata": {
        "id": "It6vMv02iyPm"
      },
      "execution_count": 101,
      "outputs": []
    },
    {
      "cell_type": "code",
      "source": [
        "class SMILESMolDataset(Dataset):\n",
        "    def __init__(self, molecules, y, vectorizer):\n",
        "        self.molecules = molecules\n",
        "        self.y = y\n",
        "        self.vectorizer = vectorizer\n",
        "    def __len__(self):\n",
        "        return len(self.molecules)\n",
        "    def __getitem__(self, idx):\n",
        "        if torch.is_tensor(idx):\n",
        "            idx = idx.tolist()\n",
        "\n",
        "        mols = self.molecules[idx]\n",
        "\n",
        "        #The vectorizer was written to work with batches,\n",
        "        #but PyTorch datasets unfortunately works with single samples\n",
        "        sample = self.vectorizer.transform([mols])[0]\n",
        "        label = self.y[idx]\n",
        "        return sample, label"
      ],
      "metadata": {
        "id": "zgRHAvwyeahs"
      },
      "execution_count": 102,
      "outputs": []
    },
    {
      "cell_type": "code",
      "source": [
        "train_dataset = SMILESMolDataset(X_train, y_train, smivec)\n",
        "train_dataset[5][0][3]"
      ],
      "metadata": {
        "colab": {
          "base_uri": "https://localhost:8080/"
        },
        "id": "OH_pyiJgewq3",
        "outputId": "ae99b627-c98c-4cee-f14d-17a7b07a1805"
      },
      "execution_count": 103,
      "outputs": [
        {
          "output_type": "execute_result",
          "data": {
            "text/plain": [
              "array([0, 0, 0, 0, 0, 0, 0, 0, 0, 0, 0, 0, 0, 0, 0, 0, 0, 0, 0, 0, 0, 0,\n",
              "       0, 0, 0, 0, 0, 0, 0, 0, 0, 0, 0, 0, 0, 0, 0], dtype=int8)"
            ]
          },
          "metadata": {},
          "execution_count": 103
        }
      ]
    },
    {
      "cell_type": "code",
      "source": [
        "data_total.isna().sum()"
      ],
      "metadata": {
        "colab": {
          "base_uri": "https://localhost:8080/"
        },
        "id": "B0_HQ2XDjsZv",
        "outputId": "0a61f414-3d1e-4138-a8f1-0b3deef0007b"
      },
      "execution_count": 104,
      "outputs": [
        {
          "output_type": "execute_result",
          "data": {
            "text/plain": [
              "SMILES      0\n",
              "IC50        0\n",
              "Molecule    0\n",
              "dtype: int64"
            ]
          },
          "metadata": {},
          "execution_count": 104
        }
      ]
    },
    {
      "cell_type": "code",
      "source": [
        "device = torch.device(\"cuda:0\" if torch.cuda.is_available() else \"cpu\")"
      ],
      "metadata": {
        "id": "TqxEPSTwfMmA"
      },
      "execution_count": 105,
      "outputs": []
    },
    {
      "cell_type": "code",
      "source": [
        "class Net(nn.Module):\n",
        "    def __init__(self, dimensions, lstm_size, hidden_size, dropout_rate, out_size):\n",
        "        super(Net, self).__init__()\n",
        "\n",
        "        length = dims[0]\n",
        "        number_tokens = dims[1]\n",
        "\n",
        "\n",
        "        self.lstm = nn.GRU(input_size=number_tokens, hidden_size=lstm_size, num_layers=1, batch_first=True, bidirectional=False, dropout  = 0.2)\n",
        "        self.fc1 = nn.Linear(lstm_size, hidden_size) # Output layer\n",
        "        self.activation = nn.ReLU() # Non-Linear ReLU Layer\n",
        "        self.fc2 = nn.Linear(hidden_size, hidden_size//2) # Output layer\n",
        "        self.activation2 = nn.ReLU() # Non-Linear ReLU Layer\n",
        "        self.fc_out = nn.Linear(hidden_size//2, out_size) # Output layer\n",
        "        self.dropout = nn.Dropout(dropout_rate)\n",
        "\n",
        "    def forward(self, x):# Forward pass: stacking each layer together\n",
        "        #out, (h_n, c_n) = self.lstm(x) #LSTM network reads in one-hot-encoded SMILES, h_n is last output, out is for all timesteps\n",
        "        out, h_n = self.lstm(x) #GRU network reads in one-hot-encoded SMILES, h_n is last output, out is for all timesteps\n",
        "        out = self.dropout(h_n) #Dropout\n",
        "        out = self.fc1(out) # Pass into the hidden layer\n",
        "        out = self.activation(out) # Use ReLU on hidden activation\n",
        "        out = self.fc2(out) # Pass into the hidden layer\n",
        "        out = self.activation2(out) # Use ReLU on hidden activation\n",
        "        out = self.dropout(out) # dropout\n",
        "        out = self.fc_out(out) # Use a linear layer for the output\n",
        "        return out"
      ],
      "metadata": {
        "id": "jGOpToOzfPaE"
      },
      "execution_count": 106,
      "outputs": []
    },
    {
      "cell_type": "code",
      "source": [
        "epochs = 40\n",
        "dims = smivec.dims\n",
        "lstm_size = 32  # The size of the LSTM layer\n",
        "hidden_size = 32  # The size of the hidden non-linear layer\n",
        "dropout_rate = 0.3 # The dropout rate\n",
        "output_size = 1        # This is just a single task, so this will be one\n",
        "batch_size = 64   # The mini_batch size during training\n",
        "learning_rate = 0.01  # The initial learning rate for the optimizer"
      ],
      "metadata": {
        "id": "CHVRBU3yfScz"
      },
      "execution_count": 108,
      "outputs": []
    },
    {
      "cell_type": "code",
      "source": [
        "model = Net(smivec, lstm_size, hidden_size, dropout_rate, output_size)\n",
        "model.cuda()"
      ],
      "metadata": {
        "colab": {
          "base_uri": "https://localhost:8080/"
        },
        "id": "1v3ldox6fUIZ",
        "outputId": "636144bb-a967-4de7-84dd-5b23f39dcfd6"
      },
      "execution_count": 109,
      "outputs": [
        {
          "output_type": "stream",
          "name": "stderr",
          "text": [
            "/usr/local/lib/python3.10/dist-packages/torch/nn/modules/rnn.py:82: UserWarning: dropout option adds dropout after all but last recurrent layer, so non-zero dropout expects num_layers greater than 1, but got dropout=0.2 and num_layers=1\n",
            "  warnings.warn(\"dropout option adds dropout after all but last \"\n"
          ]
        },
        {
          "output_type": "execute_result",
          "data": {
            "text/plain": [
              "Net(\n",
              "  (lstm): GRU(37, 32, batch_first=True, dropout=0.2)\n",
              "  (fc1): Linear(in_features=32, out_features=32, bias=True)\n",
              "  (activation): ReLU()\n",
              "  (fc2): Linear(in_features=32, out_features=16, bias=True)\n",
              "  (activation2): ReLU()\n",
              "  (fc_out): Linear(in_features=16, out_features=1, bias=True)\n",
              "  (dropout): Dropout(p=0.3, inplace=False)\n",
              ")"
            ]
          },
          "metadata": {},
          "execution_count": 109
        }
      ]
    },
    {
      "cell_type": "code",
      "source": [
        "criterion = nn.MSELoss()\n",
        "optimizer = torch.optim.Adam(model.parameters(), lr=learning_rate)\n",
        "lr_scheduler = ReduceLROnPlateau(optimizer, mode='min', factor=0.5, patience=50,\n",
        "                  verbose=True, threshold=0.0001, threshold_mode='rel', cooldown=0, min_lr=1e-6, eps=1e-08)"
      ],
      "metadata": {
        "id": "7l-mHmPefsKq"
      },
      "execution_count": 110,
      "outputs": []
    },
    {
      "cell_type": "code",
      "source": [
        "train_loader = torch.utils.data.DataLoader(dataset=train_dataset,\n",
        "                                          batch_size=batch_size,\n",
        "                                          shuffle=True, num_workers=4)"
      ],
      "metadata": {
        "colab": {
          "base_uri": "https://localhost:8080/"
        },
        "id": "WwgIBbxBfuIx",
        "outputId": "56505e5d-16af-44f9-a373-29a8c72af65a"
      },
      "execution_count": 111,
      "outputs": [
        {
          "output_type": "stream",
          "name": "stderr",
          "text": [
            "/usr/local/lib/python3.10/dist-packages/torch/utils/data/dataloader.py:557: UserWarning: This DataLoader will create 4 worker processes in total. Our suggested max number of worker in current system is 2, which is smaller than what this DataLoader is going to create. Please be aware that excessive worker creation might get DataLoader running slow or even freeze, lower the worker number to avoid potential slowness/freeze if necessary.\n",
            "  warnings.warn(_create_warning_msg(\n"
          ]
        }
      ]
    },
    {
      "cell_type": "code",
      "source": [
        "from tqdm import trange"
      ],
      "metadata": {
        "id": "SD1nnymglVFG"
      },
      "execution_count": 67,
      "outputs": []
    },
    {
      "cell_type": "code",
      "source": [
        "model.train() #Ensure the network is in \"train\" mode with dropouts active\n",
        "train_losses = []\n",
        "validation_losses = []\n",
        "for e in trange(epochs):\n",
        "    running_loss = 0\n",
        "    for smiles, labels in train_loader:\n",
        "        # Push numpy to CUDA tensors\n",
        "        smiles = torch.tensor(smiles, device=device).float()\n",
        "        #print(smiles)\n",
        "        labels = torch.tensor(labels, device=device).float()\n",
        "        #print(labels)\n",
        "        #break\n",
        "        # Training pass\n",
        "        optimizer.zero_grad() # Initialize the gradients, which will be recorded during the forward pass\n",
        "\n",
        "        output = model(smiles) #Forward pass of the mini-batch\n",
        "        loss = criterion(output, labels) #Computing the loss\n",
        "        loss.backward() # calculate the backward pass\n",
        "        torch.nn.utils.clip_grad_norm_(model.parameters(), 1)\n",
        "        optimizer.step() # Optimize the weights\n",
        "\n",
        "        running_loss += loss.item()\n",
        "\n",
        "    else:\n",
        "\n",
        "        model.eval()\n",
        "        validation_loss = torch.mean((y_test_t - model(X_test_t))**2).item()\n",
        "        model.train()\n",
        "\n",
        "        lr_scheduler.step(validation_loss)\n",
        "\n",
        "        train_loss = running_loss/len(train_loader)\n",
        "        train_losses.append(train_loss)\n",
        "        validation_losses.append(validation_loss)\n",
        "        if (e+1)%5 == 0:\n",
        "            print(\"Epoch %i, Training loss: %0.2F Validation loss: %0.2F\"%(e + 1, train_loss, validation_loss))"
      ],
      "metadata": {
        "colab": {
          "base_uri": "https://localhost:8080/"
        },
        "id": "PDzWdZrnf0eE",
        "outputId": "98e318c7-61a4-494a-90f7-dcf994809734"
      },
      "execution_count": 112,
      "outputs": [
        {
          "output_type": "stream",
          "name": "stderr",
          "text": [
            "\r  0%|          | 0/40 [00:00<?, ?it/s]<ipython-input-112-c5b3ad7db3d4>:8: UserWarning: To copy construct from a tensor, it is recommended to use sourceTensor.clone().detach() or sourceTensor.clone().detach().requires_grad_(True), rather than torch.tensor(sourceTensor).\n",
            "  smiles = torch.tensor(smiles, device=device).float()\n",
            "<ipython-input-112-c5b3ad7db3d4>:10: UserWarning: To copy construct from a tensor, it is recommended to use sourceTensor.clone().detach() or sourceTensor.clone().detach().requires_grad_(True), rather than torch.tensor(sourceTensor).\n",
            "  labels = torch.tensor(labels, device=device).float()\n",
            "/usr/local/lib/python3.10/dist-packages/torch/nn/modules/loss.py:535: UserWarning: Using a target size (torch.Size([64, 1])) that is different to the input size (torch.Size([1, 64, 1])). This will likely lead to incorrect results due to broadcasting. Please ensure they have the same size.\n",
            "  return F.mse_loss(input, target, reduction=self.reduction)\n",
            " 12%|█▎        | 5/40 [00:14<01:45,  3.02s/it]"
          ]
        },
        {
          "output_type": "stream",
          "name": "stdout",
          "text": [
            "Epoch 5, Training loss: 1.00 Validation loss: 1.01\n"
          ]
        },
        {
          "output_type": "stream",
          "name": "stderr",
          "text": [
            " 25%|██▌       | 10/40 [00:29<01:37,  3.25s/it]"
          ]
        },
        {
          "output_type": "stream",
          "name": "stdout",
          "text": [
            "Epoch 10, Training loss: 1.00 Validation loss: 1.01\n"
          ]
        },
        {
          "output_type": "stream",
          "name": "stderr",
          "text": [
            " 38%|███▊      | 15/40 [00:41<01:07,  2.69s/it]"
          ]
        },
        {
          "output_type": "stream",
          "name": "stdout",
          "text": [
            "Epoch 15, Training loss: 1.00 Validation loss: 1.01\n"
          ]
        },
        {
          "output_type": "stream",
          "name": "stderr",
          "text": [
            " 50%|█████     | 20/40 [00:55<00:49,  2.50s/it]"
          ]
        },
        {
          "output_type": "stream",
          "name": "stdout",
          "text": [
            "Epoch 20, Training loss: 1.00 Validation loss: 1.01\n"
          ]
        },
        {
          "output_type": "stream",
          "name": "stderr",
          "text": [
            " 62%|██████▎   | 25/40 [01:09<00:39,  2.62s/it]"
          ]
        },
        {
          "output_type": "stream",
          "name": "stdout",
          "text": [
            "Epoch 25, Training loss: 1.00 Validation loss: 1.01\n"
          ]
        },
        {
          "output_type": "stream",
          "name": "stderr",
          "text": [
            " 75%|███████▌  | 30/40 [01:24<00:29,  3.00s/it]"
          ]
        },
        {
          "output_type": "stream",
          "name": "stdout",
          "text": [
            "Epoch 30, Training loss: 1.00 Validation loss: 1.01\n"
          ]
        },
        {
          "output_type": "stream",
          "name": "stderr",
          "text": [
            " 88%|████████▊ | 35/40 [01:39<00:14,  2.92s/it]"
          ]
        },
        {
          "output_type": "stream",
          "name": "stdout",
          "text": [
            "Epoch 35, Training loss: 1.00 Validation loss: 1.01\n"
          ]
        },
        {
          "output_type": "stream",
          "name": "stderr",
          "text": [
            "100%|██████████| 40/40 [01:53<00:00,  2.83s/it]"
          ]
        },
        {
          "output_type": "stream",
          "name": "stdout",
          "text": [
            "Epoch 40, Training loss: 1.00 Validation loss: 1.01\n"
          ]
        },
        {
          "output_type": "stream",
          "name": "stderr",
          "text": [
            "\n"
          ]
        }
      ]
    },
    {
      "cell_type": "code",
      "source": [
        "plt.plot(train_losses, label=\"Train\")\n",
        "plt.plot(validation_losses, label=\"Validation\")\n",
        "#plt.yscale('log')\n",
        "plt.legend()"
      ],
      "metadata": {
        "colab": {
          "base_uri": "https://localhost:8080/",
          "height": 447
        },
        "id": "TJx6O4yWkVvc",
        "outputId": "6ff81687-6e35-410d-bd49-a933adec72fc"
      },
      "execution_count": 113,
      "outputs": [
        {
          "output_type": "execute_result",
          "data": {
            "text/plain": [
              "<matplotlib.legend.Legend at 0x7aae8e307c70>"
            ]
          },
          "metadata": {},
          "execution_count": 113
        },
        {
          "output_type": "display_data",
          "data": {
            "text/plain": [
              "<Figure size 640x480 with 1 Axes>"
            ],
            "image/png": "[encoded data removed]"
          },
          "metadata": {}
        }
      ]
    },
    {
      "cell_type": "markdown",
      "source": [
        "# Новый раздел"
      ],
      "metadata": {
        "id": "xiUPYDqJq4Hx"
      }
    },
    {
      "cell_type": "code",
      "source": [],
      "metadata": {
        "id": "GKWsOVHzOdom"
      },
      "execution_count": null,
      "outputs": []
    }
  ]
}