{
  "cells": [
    {
      "cell_type": "code",
      "execution_count": 1,
      "metadata": {
        "id": "DVE04l-2O26T"
      },
      "outputs": [],
      "source": [
        "import pandas as pd\n",
        "import numpy as np\n",
        "import matplotlib.pyplot as plt\n",
        "import seaborn as sns"
      ]
    },
    {
      "cell_type": "code",
      "execution_count": 2,
      "metadata": {
        "colab": {
          "base_uri": "https://localhost:8080/"
        },
        "id": "KEH-hc15iSFR",
        "outputId": "6eda80bc-4630-4508-a76b-c6e05f188379"
      },
      "outputs": [
        {
          "name": "stdout",
          "output_type": "stream",
          "text": [
            "Requirement already satisfied: rdkit in /home/mawerid/anaconda3/lib/python3.9/site-packages (2023.3.3)\n",
            "Requirement already satisfied: numpy in /home/mawerid/anaconda3/lib/python3.9/site-packages (from rdkit) (1.22.4)\n",
            "Requirement already satisfied: Pillow in /home/mawerid/anaconda3/lib/python3.9/site-packages (from rdkit) (10.0.1)\n",
            "\u001b[33mWARNING: Error parsing requirements for platformdirs: [Errno 2] No such file or directory: '/home/mawerid/anaconda3/lib/python3.9/site-packages/platformdirs-2.5.2.dist-info/METADATA'\u001b[0m\u001b[33m\n",
            "\u001b[0m\u001b[33mWARNING: Error parsing requirements for soupsieve: [Errno 2] No such file or directory: '/home/mawerid/anaconda3/lib/python3.9/site-packages/soupsieve-2.3.2.post1.dist-info/METADATA'\u001b[0m\u001b[33m\n",
            "\u001b[0m\u001b[33mWARNING: There was an error checking the latest version of pip.\u001b[0m\u001b[33m\n",
            "\u001b[0m"
          ]
        }
      ],
      "source": [
        "!pip install rdkit"
      ]
    },
    {
      "cell_type": "code",
      "execution_count": null,
      "metadata": {
        "id": "bTrnNUuFiQOx"
      },
      "outputs": [],
      "source": [
        "from rdkit import Chem, DataStructs\n",
        "from rdkit.Chem import PandasTools, AllChem\n",
        "from sklearn.preprocessing import StandardScaler\n",
        "from sklearn.model_selection import train_test_split\n",
        "import torch\n",
        "import torch.nn as nn\n",
        "from torch.utils.data import Dataset\n",
        "from torch.optim.lr_scheduler import ReduceLROnPlateau"
      ]
    },
    {
      "cell_type": "code",
      "execution_count": null,
      "metadata": {
        "id": "M8y8xyRQPc5z"
      },
      "outputs": [],
      "source": [
        "df = pd.read_excel('All (2).xlsx')"
      ]
    },
    {
      "cell_type": "code",
      "execution_count": null,
      "metadata": {
        "id": "QF220Px0TrhP"
      },
      "outputs": [],
      "source": [
        "df['SI'] = df['CC50-MDCK, mmg/ml']/df['IC50, mmg/ml']\n",
        "df['S_leng'] = df['SMILES'].str.len ()"
      ]
    },
    {
      "cell_type": "code",
      "execution_count": null,
      "metadata": {
        "colab": {
          "base_uri": "https://localhost:8080/",
          "height": 310
        },
        "id": "RqW7QJUKPowQ",
        "outputId": "e3889a2a-bb7b-42e0-f2be-463b11ecac79"
      },
      "outputs": [
        {
          "data": {
            "text/html": [
              "\n",
              "  <div id=\"df-6fb2af52-2ce6-43ed-86b5-fb2943afacd7\" class=\"colab-df-container\">\n",
              "    <div>\n",
              "<style scoped>\n",
              "    .dataframe tbody tr th:only-of-type {\n",
              "        vertical-align: middle;\n",
              "    }\n",
              "\n",
              "    .dataframe tbody tr th {\n",
              "        vertical-align: top;\n",
              "    }\n",
              "\n",
              "    .dataframe thead th {\n",
              "        text-align: right;\n",
              "    }\n",
              "</style>\n",
              "<table border=\"1\" class=\"dataframe\">\n",
              "  <thead>\n",
              "    <tr style=\"text-align: right;\">\n",
              "      <th></th>\n",
              "      <th>Title</th>\n",
              "      <th>IC50, mmg/ml</th>\n",
              "      <th>CC50-MDCK, mmg/ml</th>\n",
              "      <th>SI</th>\n",
              "      <th>Molecular weight</th>\n",
              "      <th>Hydrogen bond acceptors</th>\n",
              "      <th>Hydrogen bond donors</th>\n",
              "      <th>Polar SA</th>\n",
              "      <th>SMILES</th>\n",
              "      <th>Pictures</th>\n",
              "      <th>S_leng</th>\n",
              "    </tr>\n",
              "  </thead>\n",
              "  <tbody>\n",
              "    <tr>\n",
              "      <th>0</th>\n",
              "      <td>1007-Ya-213</td>\n",
              "      <td>2.7</td>\n",
              "      <td>500.0</td>\n",
              "      <td>185.185185</td>\n",
              "      <td>195.307</td>\n",
              "      <td>2</td>\n",
              "      <td>1</td>\n",
              "      <td>32.59</td>\n",
              "      <td>OCC\\N=C(\\[C@]12C)C[C@@H](C1(C)C)CC2</td>\n",
              "      <td>50.0</td>\n",
              "      <td>35</td>\n",
              "    </tr>\n",
              "    <tr>\n",
              "      <th>1</th>\n",
              "      <td>1007-Ya-213</td>\n",
              "      <td>0.7</td>\n",
              "      <td>447.0</td>\n",
              "      <td>638.571429</td>\n",
              "      <td>195.307</td>\n",
              "      <td>2</td>\n",
              "      <td>1</td>\n",
              "      <td>32.59</td>\n",
              "      <td>OCC\\N=C(\\[C@]12C)C[C@@H](C1(C)C)CC2</td>\n",
              "      <td>51.0</td>\n",
              "      <td>35</td>\n",
              "    </tr>\n",
              "    <tr>\n",
              "      <th>2</th>\n",
              "      <td>1008-Ya-187</td>\n",
              "      <td>9.9</td>\n",
              "      <td>144.0</td>\n",
              "      <td>14.545455</td>\n",
              "      <td>250.431</td>\n",
              "      <td>1</td>\n",
              "      <td>0</td>\n",
              "      <td>15.60</td>\n",
              "      <td>CCN(CC)CC\\N=C(\\[C@@]12C)C[C@H](C1(C)C)CC2</td>\n",
              "      <td>52.0</td>\n",
              "      <td>41</td>\n",
              "    </tr>\n",
              "    <tr>\n",
              "      <th>3</th>\n",
              "      <td>1009-As-106</td>\n",
              "      <td>8.3</td>\n",
              "      <td>500.0</td>\n",
              "      <td>60.240964</td>\n",
              "      <td>222.377</td>\n",
              "      <td>1</td>\n",
              "      <td>0</td>\n",
              "      <td>15.60</td>\n",
              "      <td>CN(C)CC\\N=C(\\[C@@]12C)C[C@H](C1(C)C)CC2</td>\n",
              "      <td>53.0</td>\n",
              "      <td>39</td>\n",
              "    </tr>\n",
              "    <tr>\n",
              "      <th>4</th>\n",
              "      <td>1010-Ya-208</td>\n",
              "      <td>39.4</td>\n",
              "      <td>143.0</td>\n",
              "      <td>3.629442</td>\n",
              "      <td>239.361</td>\n",
              "      <td>2</td>\n",
              "      <td>0</td>\n",
              "      <td>29.54</td>\n",
              "      <td>CN(C)CC(=O)O[C@H]1C[C@H](CC2)C(C)(C)[C@@]12C</td>\n",
              "      <td>54.0</td>\n",
              "      <td>44</td>\n",
              "    </tr>\n",
              "  </tbody>\n",
              "</table>\n",
              "</div>\n",
              "    <div class=\"colab-df-buttons\">\n",
              "\n",
              "  <div class=\"colab-df-container\">\n",
              "    <button class=\"colab-df-convert\" onclick=\"convertToInteractive('df-6fb2af52-2ce6-43ed-86b5-fb2943afacd7')\"\n",
              "            title=\"Convert this dataframe to an interactive table.\"\n",
              "            style=\"display:none;\">\n",
              "\n",
              "  <svg xmlns=\"http://www.w3.org/2000/svg\" height=\"24px\" viewBox=\"0 -960 960 960\">\n",
              "    <path d=\"M120-120v-720h720v720H120Zm60-500h600v-160H180v160Zm220 220h160v-160H400v160Zm0 220h160v-160H400v160ZM180-400h160v-160H180v160Zm440 0h160v-160H620v160ZM180-180h160v-160H180v160Zm440 0h160v-160H620v160Z\"/>\n",
              "  </svg>\n",
              "    </button>\n",
              "\n",
              "  <style>\n",
              "    .colab-df-container {\n",
              "      display:flex;\n",
              "      gap: 12px;\n",
              "    }\n",
              "\n",
              "    .colab-df-convert {\n",
              "      background-color: #E8F0FE;\n",
              "      border: none;\n",
              "      border-radius: 50%;\n",
              "      cursor: pointer;\n",
              "      display: none;\n",
              "      fill: #1967D2;\n",
              "      height: 32px;\n",
              "      padding: 0 0 0 0;\n",
              "      width: 32px;\n",
              "    }\n",
              "\n",
              "    .colab-df-convert:hover {\n",
              "      background-color: #E2EBFA;\n",
              "      box-shadow: 0px 1px 2px rgba(60, 64, 67, 0.3), 0px 1px 3px 1px rgba(60, 64, 67, 0.15);\n",
              "      fill: #174EA6;\n",
              "    }\n",
              "\n",
              "    .colab-df-buttons div {\n",
              "      margin-bottom: 4px;\n",
              "    }\n",
              "\n",
              "    [theme=dark] .colab-df-convert {\n",
              "      background-color: #3B4455;\n",
              "      fill: #D2E3FC;\n",
              "    }\n",
              "\n",
              "    [theme=dark] .colab-df-convert:hover {\n",
              "      background-color: #434B5C;\n",
              "      box-shadow: 0px 1px 3px 1px rgba(0, 0, 0, 0.15);\n",
              "      filter: drop-shadow(0px 1px 2px rgba(0, 0, 0, 0.3));\n",
              "      fill: #FFFFFF;\n",
              "    }\n",
              "  </style>\n",
              "\n",
              "    <script>\n",
              "      const buttonEl =\n",
              "        document.querySelector('#df-6fb2af52-2ce6-43ed-86b5-fb2943afacd7 button.colab-df-convert');\n",
              "      buttonEl.style.display =\n",
              "        google.colab.kernel.accessAllowed ? 'block' : 'none';\n",
              "\n",
              "      async function convertToInteractive(key) {\n",
              "        const element = document.querySelector('#df-6fb2af52-2ce6-43ed-86b5-fb2943afacd7');\n",
              "        const dataTable =\n",
              "          await google.colab.kernel.invokeFunction('convertToInteractive',\n",
              "                                                    [key], {});\n",
              "        if (!dataTable) return;\n",
              "\n",
              "        const docLinkHtml = 'Like what you see? Visit the ' +\n",
              "          '<a target=\"_blank\" href=https://colab.research.google.com/notebooks/data_table.ipynb>data table notebook</a>'\n",
              "          + ' to learn more about interactive tables.';\n",
              "        element.innerHTML = '';\n",
              "        dataTable['output_type'] = 'display_data';\n",
              "        await google.colab.output.renderOutput(dataTable, element);\n",
              "        const docLink = document.createElement('div');\n",
              "        docLink.innerHTML = docLinkHtml;\n",
              "        element.appendChild(docLink);\n",
              "      }\n",
              "    </script>\n",
              "  </div>\n",
              "\n",
              "\n",
              "<div id=\"df-691539f8-aa87-4d15-a04e-914e353073f9\">\n",
              "  <button class=\"colab-df-quickchart\" onclick=\"quickchart('df-691539f8-aa87-4d15-a04e-914e353073f9')\"\n",
              "            title=\"Suggest charts.\"\n",
              "            style=\"display:none;\">\n",
              "\n",
              "<svg xmlns=\"http://www.w3.org/2000/svg\" height=\"24px\"viewBox=\"0 0 24 24\"\n",
              "     width=\"24px\">\n",
              "    <g>\n",
              "        <path d=\"M19 3H5c-1.1 0-2 .9-2 2v14c0 1.1.9 2 2 2h14c1.1 0 2-.9 2-2V5c0-1.1-.9-2-2-2zM9 17H7v-7h2v7zm4 0h-2V7h2v10zm4 0h-2v-4h2v4z\"/>\n",
              "    </g>\n",
              "</svg>\n",
              "  </button>\n",
              "\n",
              "<style>\n",
              "  .colab-df-quickchart {\n",
              "      --bg-color: #E8F0FE;\n",
              "      --fill-color: #1967D2;\n",
              "      --hover-bg-color: #E2EBFA;\n",
              "      --hover-fill-color: #174EA6;\n",
              "      --disabled-fill-color: #AAA;\n",
              "      --disabled-bg-color: #DDD;\n",
              "  }\n",
              "\n",
              "  [theme=dark] .colab-df-quickchart {\n",
              "      --bg-color: #3B4455;\n",
              "      --fill-color: #D2E3FC;\n",
              "      --hover-bg-color: #434B5C;\n",
              "      --hover-fill-color: #FFFFFF;\n",
              "      --disabled-bg-color: #3B4455;\n",
              "      --disabled-fill-color: #666;\n",
              "  }\n",
              "\n",
              "  .colab-df-quickchart {\n",
              "    background-color: var(--bg-color);\n",
              "    border: none;\n",
              "    border-radius: 50%;\n",
              "    cursor: pointer;\n",
              "    display: none;\n",
              "    fill: var(--fill-color);\n",
              "    height: 32px;\n",
              "    padding: 0;\n",
              "    width: 32px;\n",
              "  }\n",
              "\n",
              "  .colab-df-quickchart:hover {\n",
              "    background-color: var(--hover-bg-color);\n",
              "    box-shadow: 0 1px 2px rgba(60, 64, 67, 0.3), 0 1px 3px 1px rgba(60, 64, 67, 0.15);\n",
              "    fill: var(--button-hover-fill-color);\n",
              "  }\n",
              "\n",
              "  .colab-df-quickchart-complete:disabled,\n",
              "  .colab-df-quickchart-complete:disabled:hover {\n",
              "    background-color: var(--disabled-bg-color);\n",
              "    fill: var(--disabled-fill-color);\n",
              "    box-shadow: none;\n",
              "  }\n",
              "\n",
              "  .colab-df-spinner {\n",
              "    border: 2px solid var(--fill-color);\n",
              "    border-color: transparent;\n",
              "    border-bottom-color: var(--fill-color);\n",
              "    animation:\n",
              "      spin 1s steps(1) infinite;\n",
              "  }\n",
              "\n",
              "  @keyframes spin {\n",
              "    0% {\n",
              "      border-color: transparent;\n",
              "      border-bottom-color: var(--fill-color);\n",
              "      border-left-color: var(--fill-color);\n",
              "    }\n",
              "    20% {\n",
              "      border-color: transparent;\n",
              "      border-left-color: var(--fill-color);\n",
              "      border-top-color: var(--fill-color);\n",
              "    }\n",
              "    30% {\n",
              "      border-color: transparent;\n",
              "      border-left-color: var(--fill-color);\n",
              "      border-top-color: var(--fill-color);\n",
              "      border-right-color: var(--fill-color);\n",
              "    }\n",
              "    40% {\n",
              "      border-color: transparent;\n",
              "      border-right-color: var(--fill-color);\n",
              "      border-top-color: var(--fill-color);\n",
              "    }\n",
              "    60% {\n",
              "      border-color: transparent;\n",
              "      border-right-color: var(--fill-color);\n",
              "    }\n",
              "    80% {\n",
              "      border-color: transparent;\n",
              "      border-right-color: var(--fill-color);\n",
              "      border-bottom-color: var(--fill-color);\n",
              "    }\n",
              "    90% {\n",
              "      border-color: transparent;\n",
              "      border-bottom-color: var(--fill-color);\n",
              "    }\n",
              "  }\n",
              "</style>\n",
              "\n",
              "  <script>\n",
              "    async function quickchart(key) {\n",
              "      const quickchartButtonEl =\n",
              "        document.querySelector('#' + key + ' button');\n",
              "      quickchartButtonEl.disabled = true;  // To prevent multiple clicks.\n",
              "      quickchartButtonEl.classList.add('colab-df-spinner');\n",
              "      try {\n",
              "        const charts = await google.colab.kernel.invokeFunction(\n",
              "            'suggestCharts', [key], {});\n",
              "      } catch (error) {\n",
              "        console.error('Error during call to suggestCharts:', error);\n",
              "      }\n",
              "      quickchartButtonEl.classList.remove('colab-df-spinner');\n",
              "      quickchartButtonEl.classList.add('colab-df-quickchart-complete');\n",
              "    }\n",
              "    (() => {\n",
              "      let quickchartButtonEl =\n",
              "        document.querySelector('#df-691539f8-aa87-4d15-a04e-914e353073f9 button');\n",
              "      quickchartButtonEl.style.display =\n",
              "        google.colab.kernel.accessAllowed ? 'block' : 'none';\n",
              "    })();\n",
              "  </script>\n",
              "</div>\n",
              "    </div>\n",
              "  </div>\n"
            ],
            "text/plain": [
              "         Title  IC50, mmg/ml  CC50-MDCK, mmg/ml          SI  Molecular weight  \\\n",
              "0  1007-Ya-213           2.7              500.0  185.185185           195.307   \n",
              "1  1007-Ya-213           0.7              447.0  638.571429           195.307   \n",
              "2  1008-Ya-187           9.9              144.0   14.545455           250.431   \n",
              "3  1009-As-106           8.3              500.0   60.240964           222.377   \n",
              "4  1010-Ya-208          39.4              143.0    3.629442           239.361   \n",
              "\n",
              "   Hydrogen bond acceptors  Hydrogen bond donors  Polar SA  \\\n",
              "0                        2                     1     32.59   \n",
              "1                        2                     1     32.59   \n",
              "2                        1                     0     15.60   \n",
              "3                        1                     0     15.60   \n",
              "4                        2                     0     29.54   \n",
              "\n",
              "                                         SMILES  Pictures  S_leng  \n",
              "0           OCC\\N=C(\\[C@]12C)C[C@@H](C1(C)C)CC2      50.0      35  \n",
              "1           OCC\\N=C(\\[C@]12C)C[C@@H](C1(C)C)CC2      51.0      35  \n",
              "2     CCN(CC)CC\\N=C(\\[C@@]12C)C[C@H](C1(C)C)CC2      52.0      41  \n",
              "3       CN(C)CC\\N=C(\\[C@@]12C)C[C@H](C1(C)C)CC2      53.0      39  \n",
              "4  CN(C)CC(=O)O[C@H]1C[C@H](CC2)C(C)(C)[C@@]12C      54.0      44  "
            ]
          },
          "execution_count": 11,
          "metadata": {},
          "output_type": "execute_result"
        }
      ],
      "source": [
        "df.head()"
      ]
    },
    {
      "cell_type": "code",
      "execution_count": null,
      "metadata": {
        "colab": {
          "base_uri": "https://localhost:8080/",
          "height": 300
        },
        "id": "QM5LBnL8dtLu",
        "outputId": "fb035e72-7845-4986-bb3b-645436fef8ff"
      },
      "outputs": [
        {
          "data": {
            "text/html": [
              "\n",
              "  <div id=\"df-6838747d-ae9d-48f9-ad49-6f5210b37de4\" class=\"colab-df-container\">\n",
              "    <div>\n",
              "<style scoped>\n",
              "    .dataframe tbody tr th:only-of-type {\n",
              "        vertical-align: middle;\n",
              "    }\n",
              "\n",
              "    .dataframe tbody tr th {\n",
              "        vertical-align: top;\n",
              "    }\n",
              "\n",
              "    .dataframe thead th {\n",
              "        text-align: right;\n",
              "    }\n",
              "</style>\n",
              "<table border=\"1\" class=\"dataframe\">\n",
              "  <thead>\n",
              "    <tr style=\"text-align: right;\">\n",
              "      <th></th>\n",
              "      <th>IC50, mmg/ml</th>\n",
              "      <th>CC50-MDCK, mmg/ml</th>\n",
              "      <th>SI</th>\n",
              "      <th>Molecular weight</th>\n",
              "      <th>Hydrogen bond acceptors</th>\n",
              "      <th>Hydrogen bond donors</th>\n",
              "      <th>Polar SA</th>\n",
              "      <th>Pictures</th>\n",
              "      <th>S_leng</th>\n",
              "    </tr>\n",
              "  </thead>\n",
              "  <tbody>\n",
              "    <tr>\n",
              "      <th>count</th>\n",
              "      <td>1468.000000</td>\n",
              "      <td>1468.000000</td>\n",
              "      <td>1.468000e+03</td>\n",
              "      <td>1468.000000</td>\n",
              "      <td>1468.000000</td>\n",
              "      <td>1468.000000</td>\n",
              "      <td>1468.000000</td>\n",
              "      <td>727.000000</td>\n",
              "      <td>1468.000000</td>\n",
              "    </tr>\n",
              "    <tr>\n",
              "      <th>mean</th>\n",
              "      <td>50.277063</td>\n",
              "      <td>186.491530</td>\n",
              "      <td>2.210854e+04</td>\n",
              "      <td>384.739636</td>\n",
              "      <td>3.831744</td>\n",
              "      <td>1.333787</td>\n",
              "      <td>81.273215</td>\n",
              "      <td>364.909216</td>\n",
              "      <td>62.997956</td>\n",
              "    </tr>\n",
              "    <tr>\n",
              "      <th>std</th>\n",
              "      <td>92.184768</td>\n",
              "      <td>1009.454293</td>\n",
              "      <td>4.771268e+05</td>\n",
              "      <td>153.164268</td>\n",
              "      <td>2.860473</td>\n",
              "      <td>1.803663</td>\n",
              "      <td>54.078778</td>\n",
              "      <td>210.154325</td>\n",
              "      <td>32.373175</td>\n",
              "    </tr>\n",
              "    <tr>\n",
              "      <th>min</th>\n",
              "      <td>0.000010</td>\n",
              "      <td>0.031928</td>\n",
              "      <td>3.616134e-02</td>\n",
              "      <td>110.157000</td>\n",
              "      <td>0.000000</td>\n",
              "      <td>0.000000</td>\n",
              "      <td>0.000000</td>\n",
              "      <td>1.000000</td>\n",
              "      <td>13.000000</td>\n",
              "    </tr>\n",
              "    <tr>\n",
              "      <th>25%</th>\n",
              "      <td>2.500000</td>\n",
              "      <td>30.375000</td>\n",
              "      <td>1.833333e+00</td>\n",
              "      <td>283.049250</td>\n",
              "      <td>2.000000</td>\n",
              "      <td>0.000000</td>\n",
              "      <td>39.440000</td>\n",
              "      <td>183.500000</td>\n",
              "      <td>46.000000</td>\n",
              "    </tr>\n",
              "    <tr>\n",
              "      <th>50%</th>\n",
              "      <td>10.100000</td>\n",
              "      <td>90.400000</td>\n",
              "      <td>5.528073e+00</td>\n",
              "      <td>349.371000</td>\n",
              "      <td>3.000000</td>\n",
              "      <td>1.000000</td>\n",
              "      <td>71.840000</td>\n",
              "      <td>365.000000</td>\n",
              "      <td>55.000000</td>\n",
              "    </tr>\n",
              "    <tr>\n",
              "      <th>75%</th>\n",
              "      <td>49.450000</td>\n",
              "      <td>300.000000</td>\n",
              "      <td>2.778741e+01</td>\n",
              "      <td>446.508000</td>\n",
              "      <td>5.000000</td>\n",
              "      <td>2.000000</td>\n",
              "      <td>106.160000</td>\n",
              "      <td>546.500000</td>\n",
              "      <td>68.000000</td>\n",
              "    </tr>\n",
              "    <tr>\n",
              "      <th>max</th>\n",
              "      <td>1000.000000</td>\n",
              "      <td>37646.000000</td>\n",
              "      <td>1.632222e+07</td>\n",
              "      <td>1159.380000</td>\n",
              "      <td>19.000000</td>\n",
              "      <td>11.000000</td>\n",
              "      <td>319.510000</td>\n",
              "      <td>728.000000</td>\n",
              "      <td>279.000000</td>\n",
              "    </tr>\n",
              "  </tbody>\n",
              "</table>\n",
              "</div>\n",
              "    <div class=\"colab-df-buttons\">\n",
              "\n",
              "  <div class=\"colab-df-container\">\n",
              "    <button class=\"colab-df-convert\" onclick=\"convertToInteractive('df-6838747d-ae9d-48f9-ad49-6f5210b37de4')\"\n",
              "            title=\"Convert this dataframe to an interactive table.\"\n",
              "            style=\"display:none;\">\n",
              "\n",
              "  <svg xmlns=\"http://www.w3.org/2000/svg\" height=\"24px\" viewBox=\"0 -960 960 960\">\n",
              "    <path d=\"M120-120v-720h720v720H120Zm60-500h600v-160H180v160Zm220 220h160v-160H400v160Zm0 220h160v-160H400v160ZM180-400h160v-160H180v160Zm440 0h160v-160H620v160ZM180-180h160v-160H180v160Zm440 0h160v-160H620v160Z\"/>\n",
              "  </svg>\n",
              "    </button>\n",
              "\n",
              "  <style>\n",
              "    .colab-df-container {\n",
              "      display:flex;\n",
              "      gap: 12px;\n",
              "    }\n",
              "\n",
              "    .colab-df-convert {\n",
              "      background-color: #E8F0FE;\n",
              "      border: none;\n",
              "      border-radius: 50%;\n",
              "      cursor: pointer;\n",
              "      display: none;\n",
              "      fill: #1967D2;\n",
              "      height: 32px;\n",
              "      padding: 0 0 0 0;\n",
              "      width: 32px;\n",
              "    }\n",
              "\n",
              "    .colab-df-convert:hover {\n",
              "      background-color: #E2EBFA;\n",
              "      box-shadow: 0px 1px 2px rgba(60, 64, 67, 0.3), 0px 1px 3px 1px rgba(60, 64, 67, 0.15);\n",
              "      fill: #174EA6;\n",
              "    }\n",
              "\n",
              "    .colab-df-buttons div {\n",
              "      margin-bottom: 4px;\n",
              "    }\n",
              "\n",
              "    [theme=dark] .colab-df-convert {\n",
              "      background-color: #3B4455;\n",
              "      fill: #D2E3FC;\n",
              "    }\n",
              "\n",
              "    [theme=dark] .colab-df-convert:hover {\n",
              "      background-color: #434B5C;\n",
              "      box-shadow: 0px 1px 3px 1px rgba(0, 0, 0, 0.15);\n",
              "      filter: drop-shadow(0px 1px 2px rgba(0, 0, 0, 0.3));\n",
              "      fill: #FFFFFF;\n",
              "    }\n",
              "  </style>\n",
              "\n",
              "    <script>\n",
              "      const buttonEl =\n",
              "        document.querySelector('#df-6838747d-ae9d-48f9-ad49-6f5210b37de4 button.colab-df-convert');\n",
              "      buttonEl.style.display =\n",
              "        google.colab.kernel.accessAllowed ? 'block' : 'none';\n",
              "\n",
              "      async function convertToInteractive(key) {\n",
              "        const element = document.querySelector('#df-6838747d-ae9d-48f9-ad49-6f5210b37de4');\n",
              "        const dataTable =\n",
              "          await google.colab.kernel.invokeFunction('convertToInteractive',\n",
              "                                                    [key], {});\n",
              "        if (!dataTable) return;\n",
              "\n",
              "        const docLinkHtml = 'Like what you see? Visit the ' +\n",
              "          '<a target=\"_blank\" href=https://colab.research.google.com/notebooks/data_table.ipynb>data table notebook</a>'\n",
              "          + ' to learn more about interactive tables.';\n",
              "        element.innerHTML = '';\n",
              "        dataTable['output_type'] = 'display_data';\n",
              "        await google.colab.output.renderOutput(dataTable, element);\n",
              "        const docLink = document.createElement('div');\n",
              "        docLink.innerHTML = docLinkHtml;\n",
              "        element.appendChild(docLink);\n",
              "      }\n",
              "    </script>\n",
              "  </div>\n",
              "\n",
              "\n",
              "<div id=\"df-38a84bec-9e32-41e0-90d2-dd2164099c8b\">\n",
              "  <button class=\"colab-df-quickchart\" onclick=\"quickchart('df-38a84bec-9e32-41e0-90d2-dd2164099c8b')\"\n",
              "            title=\"Suggest charts.\"\n",
              "            style=\"display:none;\">\n",
              "\n",
              "<svg xmlns=\"http://www.w3.org/2000/svg\" height=\"24px\"viewBox=\"0 0 24 24\"\n",
              "     width=\"24px\">\n",
              "    <g>\n",
              "        <path d=\"M19 3H5c-1.1 0-2 .9-2 2v14c0 1.1.9 2 2 2h14c1.1 0 2-.9 2-2V5c0-1.1-.9-2-2-2zM9 17H7v-7h2v7zm4 0h-2V7h2v10zm4 0h-2v-4h2v4z\"/>\n",
              "    </g>\n",
              "</svg>\n",
              "  </button>\n",
              "\n",
              "<style>\n",
              "  .colab-df-quickchart {\n",
              "      --bg-color: #E8F0FE;\n",
              "      --fill-color: #1967D2;\n",
              "      --hover-bg-color: #E2EBFA;\n",
              "      --hover-fill-color: #174EA6;\n",
              "      --disabled-fill-color: #AAA;\n",
              "      --disabled-bg-color: #DDD;\n",
              "  }\n",
              "\n",
              "  [theme=dark] .colab-df-quickchart {\n",
              "      --bg-color: #3B4455;\n",
              "      --fill-color: #D2E3FC;\n",
              "      --hover-bg-color: #434B5C;\n",
              "      --hover-fill-color: #FFFFFF;\n",
              "      --disabled-bg-color: #3B4455;\n",
              "      --disabled-fill-color: #666;\n",
              "  }\n",
              "\n",
              "  .colab-df-quickchart {\n",
              "    background-color: var(--bg-color);\n",
              "    border: none;\n",
              "    border-radius: 50%;\n",
              "    cursor: pointer;\n",
              "    display: none;\n",
              "    fill: var(--fill-color);\n",
              "    height: 32px;\n",
              "    padding: 0;\n",
              "    width: 32px;\n",
              "  }\n",
              "\n",
              "  .colab-df-quickchart:hover {\n",
              "    background-color: var(--hover-bg-color);\n",
              "    box-shadow: 0 1px 2px rgba(60, 64, 67, 0.3), 0 1px 3px 1px rgba(60, 64, 67, 0.15);\n",
              "    fill: var(--button-hover-fill-color);\n",
              "  }\n",
              "\n",
              "  .colab-df-quickchart-complete:disabled,\n",
              "  .colab-df-quickchart-complete:disabled:hover {\n",
              "    background-color: var(--disabled-bg-color);\n",
              "    fill: var(--disabled-fill-color);\n",
              "    box-shadow: none;\n",
              "  }\n",
              "\n",
              "  .colab-df-spinner {\n",
              "    border: 2px solid var(--fill-color);\n",
              "    border-color: transparent;\n",
              "    border-bottom-color: var(--fill-color);\n",
              "    animation:\n",
              "      spin 1s steps(1) infinite;\n",
              "  }\n",
              "\n",
              "  @keyframes spin {\n",
              "    0% {\n",
              "      border-color: transparent;\n",
              "      border-bottom-color: var(--fill-color);\n",
              "      border-left-color: var(--fill-color);\n",
              "    }\n",
              "    20% {\n",
              "      border-color: transparent;\n",
              "      border-left-color: var(--fill-color);\n",
              "      border-top-color: var(--fill-color);\n",
              "    }\n",
              "    30% {\n",
              "      border-color: transparent;\n",
              "      border-left-color: var(--fill-color);\n",
              "      border-top-color: var(--fill-color);\n",
              "      border-right-color: var(--fill-color);\n",
              "    }\n",
              "    40% {\n",
              "      border-color: transparent;\n",
              "      border-right-color: var(--fill-color);\n",
              "      border-top-color: var(--fill-color);\n",
              "    }\n",
              "    60% {\n",
              "      border-color: transparent;\n",
              "      border-right-color: var(--fill-color);\n",
              "    }\n",
              "    80% {\n",
              "      border-color: transparent;\n",
              "      border-right-color: var(--fill-color);\n",
              "      border-bottom-color: var(--fill-color);\n",
              "    }\n",
              "    90% {\n",
              "      border-color: transparent;\n",
              "      border-bottom-color: var(--fill-color);\n",
              "    }\n",
              "  }\n",
              "</style>\n",
              "\n",
              "  <script>\n",
              "    async function quickchart(key) {\n",
              "      const quickchartButtonEl =\n",
              "        document.querySelector('#' + key + ' button');\n",
              "      quickchartButtonEl.disabled = true;  // To prevent multiple clicks.\n",
              "      quickchartButtonEl.classList.add('colab-df-spinner');\n",
              "      try {\n",
              "        const charts = await google.colab.kernel.invokeFunction(\n",
              "            'suggestCharts', [key], {});\n",
              "      } catch (error) {\n",
              "        console.error('Error during call to suggestCharts:', error);\n",
              "      }\n",
              "      quickchartButtonEl.classList.remove('colab-df-spinner');\n",
              "      quickchartButtonEl.classList.add('colab-df-quickchart-complete');\n",
              "    }\n",
              "    (() => {\n",
              "      let quickchartButtonEl =\n",
              "        document.querySelector('#df-38a84bec-9e32-41e0-90d2-dd2164099c8b button');\n",
              "      quickchartButtonEl.style.display =\n",
              "        google.colab.kernel.accessAllowed ? 'block' : 'none';\n",
              "    })();\n",
              "  </script>\n",
              "</div>\n",
              "    </div>\n",
              "  </div>\n"
            ],
            "text/plain": [
              "       IC50, mmg/ml  CC50-MDCK, mmg/ml            SI  Molecular weight  \\\n",
              "count   1468.000000        1468.000000  1.468000e+03       1468.000000   \n",
              "mean      50.277063         186.491530  2.210854e+04        384.739636   \n",
              "std       92.184768        1009.454293  4.771268e+05        153.164268   \n",
              "min        0.000010           0.031928  3.616134e-02        110.157000   \n",
              "25%        2.500000          30.375000  1.833333e+00        283.049250   \n",
              "50%       10.100000          90.400000  5.528073e+00        349.371000   \n",
              "75%       49.450000         300.000000  2.778741e+01        446.508000   \n",
              "max     1000.000000       37646.000000  1.632222e+07       1159.380000   \n",
              "\n",
              "       Hydrogen bond acceptors  Hydrogen bond donors     Polar SA    Pictures  \\\n",
              "count              1468.000000           1468.000000  1468.000000  727.000000   \n",
              "mean                  3.831744              1.333787    81.273215  364.909216   \n",
              "std                   2.860473              1.803663    54.078778  210.154325   \n",
              "min                   0.000000              0.000000     0.000000    1.000000   \n",
              "25%                   2.000000              0.000000    39.440000  183.500000   \n",
              "50%                   3.000000              1.000000    71.840000  365.000000   \n",
              "75%                   5.000000              2.000000   106.160000  546.500000   \n",
              "max                  19.000000             11.000000   319.510000  728.000000   \n",
              "\n",
              "            S_leng  \n",
              "count  1468.000000  \n",
              "mean     62.997956  \n",
              "std      32.373175  \n",
              "min      13.000000  \n",
              "25%      46.000000  \n",
              "50%      55.000000  \n",
              "75%      68.000000  \n",
              "max     279.000000  "
            ]
          },
          "execution_count": 12,
          "metadata": {},
          "output_type": "execute_result"
        }
      ],
      "source": [
        "df.describe()"
      ]
    },
    {
      "cell_type": "code",
      "execution_count": null,
      "metadata": {
        "colab": {
          "base_uri": "https://localhost:8080/"
        },
        "id": "2sJv_e4kqPzu",
        "outputId": "d009d3a0-dfc3-433e-9421-090511c86434"
      },
      "outputs": [
        {
          "data": {
            "text/plain": [
              "1408"
            ]
          },
          "execution_count": 22,
          "metadata": {},
          "output_type": "execute_result"
        }
      ],
      "source": [
        "df['Title'].size"
      ]
    },
    {
      "cell_type": "code",
      "execution_count": null,
      "metadata": {
        "id": "Nt0xTaLf7qHA"
      },
      "outputs": [],
      "source": [
        "df = df[df.SI <= 100]"
      ]
    },
    {
      "cell_type": "code",
      "execution_count": null,
      "metadata": {
        "id": "n4EIncbYJ83K"
      },
      "outputs": [],
      "source": [
        "df = df[df['IC50, mmg/ml'] < 250]\n",
        "df = df[df['CC50-MDCK, mmg/ml'] < 250]\n",
        "df = df[df.S_leng < 120]\n",
        "df = df[df.SI <= 100]"
      ]
    },
    {
      "cell_type": "code",
      "execution_count": null,
      "metadata": {
        "id": "BeeoTdV3F6I-"
      },
      "outputs": [],
      "source": [
        "df = df[df.S_leng < 140]\n",
        "df = df[df['IC50, mmg/ml'] < 310]"
      ]
    },
    {
      "cell_type": "code",
      "execution_count": null,
      "metadata": {
        "colab": {
          "base_uri": "https://localhost:8080/"
        },
        "id": "r6LfxpMORXuO",
        "outputId": "d2624bf8-0790-4d4b-b24e-b2cdf3e517ef"
      },
      "outputs": [
        {
          "data": {
            "text/plain": [
              "Index(['Title', 'IC50, mmg/ml', 'CC50-MDCK, mmg/ml', 'SI', 'Molecular weight',\n",
              "       'Hydrogen bond acceptors', 'Hydrogen bond donors', 'Polar SA', 'SMILES',\n",
              "       'Pictures', 'S_leng'],\n",
              "      dtype='object')"
            ]
          },
          "execution_count": 9,
          "metadata": {},
          "output_type": "execute_result"
        }
      ],
      "source": [
        "df.columns"
      ]
    },
    {
      "cell_type": "code",
      "execution_count": null,
      "metadata": {
        "id": "AF0sB9jvh6nV"
      },
      "outputs": [],
      "source": [
        "df_w = df[[ 'IC50, mmg/ml', 'SMILES']]"
      ]
    },
    {
      "cell_type": "code",
      "execution_count": null,
      "metadata": {
        "colab": {
          "base_uri": "https://localhost:8080/",
          "height": 300
        },
        "id": "tDvfbObz0TVz",
        "outputId": "148e5b0c-7c56-4770-c0f6-0e71ed2e101b"
      },
      "outputs": [
        {
          "data": {
            "text/html": [
              "\n",
              "  <div id=\"df-227b1041-c529-412f-99d8-ad23436ec85f\" class=\"colab-df-container\">\n",
              "    <div>\n",
              "<style scoped>\n",
              "    .dataframe tbody tr th:only-of-type {\n",
              "        vertical-align: middle;\n",
              "    }\n",
              "\n",
              "    .dataframe tbody tr th {\n",
              "        vertical-align: top;\n",
              "    }\n",
              "\n",
              "    .dataframe thead th {\n",
              "        text-align: right;\n",
              "    }\n",
              "</style>\n",
              "<table border=\"1\" class=\"dataframe\">\n",
              "  <thead>\n",
              "    <tr style=\"text-align: right;\">\n",
              "      <th></th>\n",
              "      <th>IC50, mmg/ml</th>\n",
              "    </tr>\n",
              "  </thead>\n",
              "  <tbody>\n",
              "    <tr>\n",
              "      <th>count</th>\n",
              "      <td>1408.000000</td>\n",
              "    </tr>\n",
              "    <tr>\n",
              "      <th>mean</th>\n",
              "      <td>47.227790</td>\n",
              "    </tr>\n",
              "    <tr>\n",
              "      <th>std</th>\n",
              "      <td>79.944935</td>\n",
              "    </tr>\n",
              "    <tr>\n",
              "      <th>min</th>\n",
              "      <td>0.000010</td>\n",
              "    </tr>\n",
              "    <tr>\n",
              "      <th>25%</th>\n",
              "      <td>2.500000</td>\n",
              "    </tr>\n",
              "    <tr>\n",
              "      <th>50%</th>\n",
              "      <td>10.150000</td>\n",
              "    </tr>\n",
              "    <tr>\n",
              "      <th>75%</th>\n",
              "      <td>49.675000</td>\n",
              "    </tr>\n",
              "    <tr>\n",
              "      <th>max</th>\n",
              "      <td>300.500000</td>\n",
              "    </tr>\n",
              "  </tbody>\n",
              "</table>\n",
              "</div>\n",
              "    <div class=\"colab-df-buttons\">\n",
              "\n",
              "  <div class=\"colab-df-container\">\n",
              "    <button class=\"colab-df-convert\" onclick=\"convertToInteractive('df-227b1041-c529-412f-99d8-ad23436ec85f')\"\n",
              "            title=\"Convert this dataframe to an interactive table.\"\n",
              "            style=\"display:none;\">\n",
              "\n",
              "  <svg xmlns=\"http://www.w3.org/2000/svg\" height=\"24px\" viewBox=\"0 -960 960 960\">\n",
              "    <path d=\"M120-120v-720h720v720H120Zm60-500h600v-160H180v160Zm220 220h160v-160H400v160Zm0 220h160v-160H400v160ZM180-400h160v-160H180v160Zm440 0h160v-160H620v160ZM180-180h160v-160H180v160Zm440 0h160v-160H620v160Z\"/>\n",
              "  </svg>\n",
              "    </button>\n",
              "\n",
              "  <style>\n",
              "    .colab-df-container {\n",
              "      display:flex;\n",
              "      gap: 12px;\n",
              "    }\n",
              "\n",
              "    .colab-df-convert {\n",
              "      background-color: #E8F0FE;\n",
              "      border: none;\n",
              "      border-radius: 50%;\n",
              "      cursor: pointer;\n",
              "      display: none;\n",
              "      fill: #1967D2;\n",
              "      height: 32px;\n",
              "      padding: 0 0 0 0;\n",
              "      width: 32px;\n",
              "    }\n",
              "\n",
              "    .colab-df-convert:hover {\n",
              "      background-color: #E2EBFA;\n",
              "      box-shadow: 0px 1px 2px rgba(60, 64, 67, 0.3), 0px 1px 3px 1px rgba(60, 64, 67, 0.15);\n",
              "      fill: #174EA6;\n",
              "    }\n",
              "\n",
              "    .colab-df-buttons div {\n",
              "      margin-bottom: 4px;\n",
              "    }\n",
              "\n",
              "    [theme=dark] .colab-df-convert {\n",
              "      background-color: #3B4455;\n",
              "      fill: #D2E3FC;\n",
              "    }\n",
              "\n",
              "    [theme=dark] .colab-df-convert:hover {\n",
              "      background-color: #434B5C;\n",
              "      box-shadow: 0px 1px 3px 1px rgba(0, 0, 0, 0.15);\n",
              "      filter: drop-shadow(0px 1px 2px rgba(0, 0, 0, 0.3));\n",
              "      fill: #FFFFFF;\n",
              "    }\n",
              "  </style>\n",
              "\n",
              "    <script>\n",
              "      const buttonEl =\n",
              "        document.querySelector('#df-227b1041-c529-412f-99d8-ad23436ec85f button.colab-df-convert');\n",
              "      buttonEl.style.display =\n",
              "        google.colab.kernel.accessAllowed ? 'block' : 'none';\n",
              "\n",
              "      async function convertToInteractive(key) {\n",
              "        const element = document.querySelector('#df-227b1041-c529-412f-99d8-ad23436ec85f');\n",
              "        const dataTable =\n",
              "          await google.colab.kernel.invokeFunction('convertToInteractive',\n",
              "                                                    [key], {});\n",
              "        if (!dataTable) return;\n",
              "\n",
              "        const docLinkHtml = 'Like what you see? Visit the ' +\n",
              "          '<a target=\"_blank\" href=https://colab.research.google.com/notebooks/data_table.ipynb>data table notebook</a>'\n",
              "          + ' to learn more about interactive tables.';\n",
              "        element.innerHTML = '';\n",
              "        dataTable['output_type'] = 'display_data';\n",
              "        await google.colab.output.renderOutput(dataTable, element);\n",
              "        const docLink = document.createElement('div');\n",
              "        docLink.innerHTML = docLinkHtml;\n",
              "        element.appendChild(docLink);\n",
              "      }\n",
              "    </script>\n",
              "  </div>\n",
              "\n",
              "\n",
              "<div id=\"df-d3c9ee2d-0a32-4c72-bb2b-96579ef6ea7d\">\n",
              "  <button class=\"colab-df-quickchart\" onclick=\"quickchart('df-d3c9ee2d-0a32-4c72-bb2b-96579ef6ea7d')\"\n",
              "            title=\"Suggest charts.\"\n",
              "            style=\"display:none;\">\n",
              "\n",
              "<svg xmlns=\"http://www.w3.org/2000/svg\" height=\"24px\"viewBox=\"0 0 24 24\"\n",
              "     width=\"24px\">\n",
              "    <g>\n",
              "        <path d=\"M19 3H5c-1.1 0-2 .9-2 2v14c0 1.1.9 2 2 2h14c1.1 0 2-.9 2-2V5c0-1.1-.9-2-2-2zM9 17H7v-7h2v7zm4 0h-2V7h2v10zm4 0h-2v-4h2v4z\"/>\n",
              "    </g>\n",
              "</svg>\n",
              "  </button>\n",
              "\n",
              "<style>\n",
              "  .colab-df-quickchart {\n",
              "      --bg-color: #E8F0FE;\n",
              "      --fill-color: #1967D2;\n",
              "      --hover-bg-color: #E2EBFA;\n",
              "      --hover-fill-color: #174EA6;\n",
              "      --disabled-fill-color: #AAA;\n",
              "      --disabled-bg-color: #DDD;\n",
              "  }\n",
              "\n",
              "  [theme=dark] .colab-df-quickchart {\n",
              "      --bg-color: #3B4455;\n",
              "      --fill-color: #D2E3FC;\n",
              "      --hover-bg-color: #434B5C;\n",
              "      --hover-fill-color: #FFFFFF;\n",
              "      --disabled-bg-color: #3B4455;\n",
              "      --disabled-fill-color: #666;\n",
              "  }\n",
              "\n",
              "  .colab-df-quickchart {\n",
              "    background-color: var(--bg-color);\n",
              "    border: none;\n",
              "    border-radius: 50%;\n",
              "    cursor: pointer;\n",
              "    display: none;\n",
              "    fill: var(--fill-color);\n",
              "    height: 32px;\n",
              "    padding: 0;\n",
              "    width: 32px;\n",
              "  }\n",
              "\n",
              "  .colab-df-quickchart:hover {\n",
              "    background-color: var(--hover-bg-color);\n",
              "    box-shadow: 0 1px 2px rgba(60, 64, 67, 0.3), 0 1px 3px 1px rgba(60, 64, 67, 0.15);\n",
              "    fill: var(--button-hover-fill-color);\n",
              "  }\n",
              "\n",
              "  .colab-df-quickchart-complete:disabled,\n",
              "  .colab-df-quickchart-complete:disabled:hover {\n",
              "    background-color: var(--disabled-bg-color);\n",
              "    fill: var(--disabled-fill-color);\n",
              "    box-shadow: none;\n",
              "  }\n",
              "\n",
              "  .colab-df-spinner {\n",
              "    border: 2px solid var(--fill-color);\n",
              "    border-color: transparent;\n",
              "    border-bottom-color: var(--fill-color);\n",
              "    animation:\n",
              "      spin 1s steps(1) infinite;\n",
              "  }\n",
              "\n",
              "  @keyframes spin {\n",
              "    0% {\n",
              "      border-color: transparent;\n",
              "      border-bottom-color: var(--fill-color);\n",
              "      border-left-color: var(--fill-color);\n",
              "    }\n",
              "    20% {\n",
              "      border-color: transparent;\n",
              "      border-left-color: var(--fill-color);\n",
              "      border-top-color: var(--fill-color);\n",
              "    }\n",
              "    30% {\n",
              "      border-color: transparent;\n",
              "      border-left-color: var(--fill-color);\n",
              "      border-top-color: var(--fill-color);\n",
              "      border-right-color: var(--fill-color);\n",
              "    }\n",
              "    40% {\n",
              "      border-color: transparent;\n",
              "      border-right-color: var(--fill-color);\n",
              "      border-top-color: var(--fill-color);\n",
              "    }\n",
              "    60% {\n",
              "      border-color: transparent;\n",
              "      border-right-color: var(--fill-color);\n",
              "    }\n",
              "    80% {\n",
              "      border-color: transparent;\n",
              "      border-right-color: var(--fill-color);\n",
              "      border-bottom-color: var(--fill-color);\n",
              "    }\n",
              "    90% {\n",
              "      border-color: transparent;\n",
              "      border-bottom-color: var(--fill-color);\n",
              "    }\n",
              "  }\n",
              "</style>\n",
              "\n",
              "  <script>\n",
              "    async function quickchart(key) {\n",
              "      const quickchartButtonEl =\n",
              "        document.querySelector('#' + key + ' button');\n",
              "      quickchartButtonEl.disabled = true;  // To prevent multiple clicks.\n",
              "      quickchartButtonEl.classList.add('colab-df-spinner');\n",
              "      try {\n",
              "        const charts = await google.colab.kernel.invokeFunction(\n",
              "            'suggestCharts', [key], {});\n",
              "      } catch (error) {\n",
              "        console.error('Error during call to suggestCharts:', error);\n",
              "      }\n",
              "      quickchartButtonEl.classList.remove('colab-df-spinner');\n",
              "      quickchartButtonEl.classList.add('colab-df-quickchart-complete');\n",
              "    }\n",
              "    (() => {\n",
              "      let quickchartButtonEl =\n",
              "        document.querySelector('#df-d3c9ee2d-0a32-4c72-bb2b-96579ef6ea7d button');\n",
              "      quickchartButtonEl.style.display =\n",
              "        google.colab.kernel.accessAllowed ? 'block' : 'none';\n",
              "    })();\n",
              "  </script>\n",
              "</div>\n",
              "    </div>\n",
              "  </div>\n"
            ],
            "text/plain": [
              "       IC50, mmg/ml\n",
              "count   1408.000000\n",
              "mean      47.227790\n",
              "std       79.944935\n",
              "min        0.000010\n",
              "25%        2.500000\n",
              "50%       10.150000\n",
              "75%       49.675000\n",
              "max      300.500000"
            ]
          },
          "execution_count": 24,
          "metadata": {},
          "output_type": "execute_result"
        }
      ],
      "source": [
        "df_w.describe()"
      ]
    },
    {
      "cell_type": "markdown",
      "metadata": {
        "id": "srEUndjG1eQK"
      },
      "source": [
        "## Анализ данных"
      ]
    },
    {
      "cell_type": "code",
      "execution_count": null,
      "metadata": {
        "colab": {
          "base_uri": "https://localhost:8080/",
          "height": 467
        },
        "id": "bYclv948YlQA",
        "outputId": "9f14c81a-8996-4651-bfe9-c5c678cd480c"
      },
      "outputs": [
        {
          "data": {
            "text/plain": [
              "<Axes: xlabel='S_leng', ylabel='Count'>"
            ]
          },
          "execution_count": 13,
          "metadata": {},
          "output_type": "execute_result"
        },
        {
          "data": {
            "image/png": "[encoded data removed]",
            "text/plain": [
              "<Figure size 640x480 with 1 Axes>"
            ]
          },
          "metadata": {},
          "output_type": "display_data"
        }
      ],
      "source": [
        "sns.histplot(df['S_leng'])"
      ]
    },
    {
      "cell_type": "code",
      "execution_count": null,
      "metadata": {
        "colab": {
          "base_uri": "https://localhost:8080/",
          "height": 466
        },
        "id": "aqGbDCJvZQpR",
        "outputId": "cef16775-03a5-4fa3-ab3c-3c7e96761b68"
      },
      "outputs": [
        {
          "data": {
            "text/plain": [
              "<Axes: xlabel='IC50, mmg/ml', ylabel='Count'>"
            ]
          },
          "execution_count": 9,
          "metadata": {},
          "output_type": "execute_result"
        },
        {
          "data": {
            "image/png": "[encoded data removed]",
            "text/plain": [
              "<Figure size 640x480 with 1 Axes>"
            ]
          },
          "metadata": {},
          "output_type": "display_data"
        }
      ],
      "source": [
        "sns.histplot(df['IC50, mmg/ml'])"
      ]
    },
    {
      "cell_type": "code",
      "execution_count": null,
      "metadata": {
        "id": "aK1sSF3DZXYv"
      },
      "outputs": [],
      "source": [
        "df[df['IC50, mmg/ml'] < 250]"
      ]
    },
    {
      "cell_type": "code",
      "execution_count": null,
      "metadata": {
        "id": "wwk7YaFlQZ5I"
      },
      "outputs": [],
      "source": [
        "df_v = df[['IC50, mmg/ml', 'CC50-MDCK, mmg/ml', 'SI', 'Molecular weight',\n",
        "       'Hydrogen bond acceptors', 'Hydrogen bond donors', 'Polar SA', 'S_leng']]"
      ]
    },
    {
      "cell_type": "code",
      "execution_count": null,
      "metadata": {
        "id": "urQANVQEaE_r"
      },
      "outputs": [],
      "source": [
        "df_v = df_v[df_v.SI < 500]\n",
        "df_v = df_v[df_v.S_leng < 140]"
      ]
    },
    {
      "cell_type": "code",
      "execution_count": null,
      "metadata": {
        "colab": {
          "base_uri": "https://localhost:8080/",
          "height": 300
        },
        "id": "EPR8ZmSYSSoT",
        "outputId": "540ba693-c992-4368-cebc-c1b0bd69b2c7"
      },
      "outputs": [
        {
          "data": {
            "text/html": [
              "\n",
              "  <div id=\"df-0235c954-8865-43a3-81c5-cb1edcea6bbe\" class=\"colab-df-container\">\n",
              "    <div>\n",
              "<style scoped>\n",
              "    .dataframe tbody tr th:only-of-type {\n",
              "        vertical-align: middle;\n",
              "    }\n",
              "\n",
              "    .dataframe tbody tr th {\n",
              "        vertical-align: top;\n",
              "    }\n",
              "\n",
              "    .dataframe thead th {\n",
              "        text-align: right;\n",
              "    }\n",
              "</style>\n",
              "<table border=\"1\" class=\"dataframe\">\n",
              "  <thead>\n",
              "    <tr style=\"text-align: right;\">\n",
              "      <th></th>\n",
              "      <th>IC50, mmg/ml</th>\n",
              "      <th>CC50-MDCK, mmg/ml</th>\n",
              "      <th>SI</th>\n",
              "      <th>Molecular weight</th>\n",
              "      <th>Hydrogen bond acceptors</th>\n",
              "      <th>Hydrogen bond donors</th>\n",
              "      <th>Polar SA</th>\n",
              "      <th>S_leng</th>\n",
              "    </tr>\n",
              "  </thead>\n",
              "  <tbody>\n",
              "    <tr>\n",
              "      <th>count</th>\n",
              "      <td>1408.000000</td>\n",
              "      <td>1408.000000</td>\n",
              "      <td>1.408000e+03</td>\n",
              "      <td>1408.000000</td>\n",
              "      <td>1408.000000</td>\n",
              "      <td>1408.000000</td>\n",
              "      <td>1408.000000</td>\n",
              "      <td>1408.000000</td>\n",
              "    </tr>\n",
              "    <tr>\n",
              "      <th>mean</th>\n",
              "      <td>47.227790</td>\n",
              "      <td>181.530374</td>\n",
              "      <td>2.300791e+04</td>\n",
              "      <td>369.176016</td>\n",
              "      <td>3.574574</td>\n",
              "      <td>1.169034</td>\n",
              "      <td>76.884169</td>\n",
              "      <td>58.690341</td>\n",
              "    </tr>\n",
              "    <tr>\n",
              "      <th>std</th>\n",
              "      <td>79.944935</td>\n",
              "      <td>1028.071009</td>\n",
              "      <td>4.871729e+05</td>\n",
              "      <td>122.693687</td>\n",
              "      <td>2.414739</td>\n",
              "      <td>1.496684</td>\n",
              "      <td>47.830747</td>\n",
              "      <td>20.210706</td>\n",
              "    </tr>\n",
              "    <tr>\n",
              "      <th>min</th>\n",
              "      <td>0.000010</td>\n",
              "      <td>0.031928</td>\n",
              "      <td>3.616134e-02</td>\n",
              "      <td>110.157000</td>\n",
              "      <td>0.000000</td>\n",
              "      <td>0.000000</td>\n",
              "      <td>0.000000</td>\n",
              "      <td>13.000000</td>\n",
              "    </tr>\n",
              "    <tr>\n",
              "      <th>25%</th>\n",
              "      <td>2.500000</td>\n",
              "      <td>30.275000</td>\n",
              "      <td>1.849488e+00</td>\n",
              "      <td>281.398000</td>\n",
              "      <td>2.000000</td>\n",
              "      <td>0.000000</td>\n",
              "      <td>39.440000</td>\n",
              "      <td>46.000000</td>\n",
              "    </tr>\n",
              "    <tr>\n",
              "      <th>50%</th>\n",
              "      <td>10.150000</td>\n",
              "      <td>89.850000</td>\n",
              "      <td>5.469158e+00</td>\n",
              "      <td>345.306000</td>\n",
              "      <td>3.000000</td>\n",
              "      <td>1.000000</td>\n",
              "      <td>69.650000</td>\n",
              "      <td>54.000000</td>\n",
              "    </tr>\n",
              "    <tr>\n",
              "      <th>75%</th>\n",
              "      <td>49.675000</td>\n",
              "      <td>300.000000</td>\n",
              "      <td>2.723370e+01</td>\n",
              "      <td>434.475750</td>\n",
              "      <td>5.000000</td>\n",
              "      <td>2.000000</td>\n",
              "      <td>101.962500</td>\n",
              "      <td>67.000000</td>\n",
              "    </tr>\n",
              "    <tr>\n",
              "      <th>max</th>\n",
              "      <td>300.500000</td>\n",
              "      <td>37646.000000</td>\n",
              "      <td>1.632222e+07</td>\n",
              "      <td>812.925000</td>\n",
              "      <td>17.000000</td>\n",
              "      <td>11.000000</td>\n",
              "      <td>296.980000</td>\n",
              "      <td>139.000000</td>\n",
              "    </tr>\n",
              "  </tbody>\n",
              "</table>\n",
              "</div>\n",
              "    <div class=\"colab-df-buttons\">\n",
              "\n",
              "  <div class=\"colab-df-container\">\n",
              "    <button class=\"colab-df-convert\" onclick=\"convertToInteractive('df-0235c954-8865-43a3-81c5-cb1edcea6bbe')\"\n",
              "            title=\"Convert this dataframe to an interactive table.\"\n",
              "            style=\"display:none;\">\n",
              "\n",
              "  <svg xmlns=\"http://www.w3.org/2000/svg\" height=\"24px\" viewBox=\"0 -960 960 960\">\n",
              "    <path d=\"M120-120v-720h720v720H120Zm60-500h600v-160H180v160Zm220 220h160v-160H400v160Zm0 220h160v-160H400v160ZM180-400h160v-160H180v160Zm440 0h160v-160H620v160ZM180-180h160v-160H180v160Zm440 0h160v-160H620v160Z\"/>\n",
              "  </svg>\n",
              "    </button>\n",
              "\n",
              "  <style>\n",
              "    .colab-df-container {\n",
              "      display:flex;\n",
              "      gap: 12px;\n",
              "    }\n",
              "\n",
              "    .colab-df-convert {\n",
              "      background-color: #E8F0FE;\n",
              "      border: none;\n",
              "      border-radius: 50%;\n",
              "      cursor: pointer;\n",
              "      display: none;\n",
              "      fill: #1967D2;\n",
              "      height: 32px;\n",
              "      padding: 0 0 0 0;\n",
              "      width: 32px;\n",
              "    }\n",
              "\n",
              "    .colab-df-convert:hover {\n",
              "      background-color: #E2EBFA;\n",
              "      box-shadow: 0px 1px 2px rgba(60, 64, 67, 0.3), 0px 1px 3px 1px rgba(60, 64, 67, 0.15);\n",
              "      fill: #174EA6;\n",
              "    }\n",
              "\n",
              "    .colab-df-buttons div {\n",
              "      margin-bottom: 4px;\n",
              "    }\n",
              "\n",
              "    [theme=dark] .colab-df-convert {\n",
              "      background-color: #3B4455;\n",
              "      fill: #D2E3FC;\n",
              "    }\n",
              "\n",
              "    [theme=dark] .colab-df-convert:hover {\n",
              "      background-color: #434B5C;\n",
              "      box-shadow: 0px 1px 3px 1px rgba(0, 0, 0, 0.15);\n",
              "      filter: drop-shadow(0px 1px 2px rgba(0, 0, 0, 0.3));\n",
              "      fill: #FFFFFF;\n",
              "    }\n",
              "  </style>\n",
              "\n",
              "    <script>\n",
              "      const buttonEl =\n",
              "        document.querySelector('#df-0235c954-8865-43a3-81c5-cb1edcea6bbe button.colab-df-convert');\n",
              "      buttonEl.style.display =\n",
              "        google.colab.kernel.accessAllowed ? 'block' : 'none';\n",
              "\n",
              "      async function convertToInteractive(key) {\n",
              "        const element = document.querySelector('#df-0235c954-8865-43a3-81c5-cb1edcea6bbe');\n",
              "        const dataTable =\n",
              "          await google.colab.kernel.invokeFunction('convertToInteractive',\n",
              "                                                    [key], {});\n",
              "        if (!dataTable) return;\n",
              "\n",
              "        const docLinkHtml = 'Like what you see? Visit the ' +\n",
              "          '<a target=\"_blank\" href=https://colab.research.google.com/notebooks/data_table.ipynb>data table notebook</a>'\n",
              "          + ' to learn more about interactive tables.';\n",
              "        element.innerHTML = '';\n",
              "        dataTable['output_type'] = 'display_data';\n",
              "        await google.colab.output.renderOutput(dataTable, element);\n",
              "        const docLink = document.createElement('div');\n",
              "        docLink.innerHTML = docLinkHtml;\n",
              "        element.appendChild(docLink);\n",
              "      }\n",
              "    </script>\n",
              "  </div>\n",
              "\n",
              "\n",
              "<div id=\"df-878774cd-92ce-4889-8dc7-717f4ffac79f\">\n",
              "  <button class=\"colab-df-quickchart\" onclick=\"quickchart('df-878774cd-92ce-4889-8dc7-717f4ffac79f')\"\n",
              "            title=\"Suggest charts.\"\n",
              "            style=\"display:none;\">\n",
              "\n",
              "<svg xmlns=\"http://www.w3.org/2000/svg\" height=\"24px\"viewBox=\"0 0 24 24\"\n",
              "     width=\"24px\">\n",
              "    <g>\n",
              "        <path d=\"M19 3H5c-1.1 0-2 .9-2 2v14c0 1.1.9 2 2 2h14c1.1 0 2-.9 2-2V5c0-1.1-.9-2-2-2zM9 17H7v-7h2v7zm4 0h-2V7h2v10zm4 0h-2v-4h2v4z\"/>\n",
              "    </g>\n",
              "</svg>\n",
              "  </button>\n",
              "\n",
              "<style>\n",
              "  .colab-df-quickchart {\n",
              "      --bg-color: #E8F0FE;\n",
              "      --fill-color: #1967D2;\n",
              "      --hover-bg-color: #E2EBFA;\n",
              "      --hover-fill-color: #174EA6;\n",
              "      --disabled-fill-color: #AAA;\n",
              "      --disabled-bg-color: #DDD;\n",
              "  }\n",
              "\n",
              "  [theme=dark] .colab-df-quickchart {\n",
              "      --bg-color: #3B4455;\n",
              "      --fill-color: #D2E3FC;\n",
              "      --hover-bg-color: #434B5C;\n",
              "      --hover-fill-color: #FFFFFF;\n",
              "      --disabled-bg-color: #3B4455;\n",
              "      --disabled-fill-color: #666;\n",
              "  }\n",
              "\n",
              "  .colab-df-quickchart {\n",
              "    background-color: var(--bg-color);\n",
              "    border: none;\n",
              "    border-radius: 50%;\n",
              "    cursor: pointer;\n",
              "    display: none;\n",
              "    fill: var(--fill-color);\n",
              "    height: 32px;\n",
              "    padding: 0;\n",
              "    width: 32px;\n",
              "  }\n",
              "\n",
              "  .colab-df-quickchart:hover {\n",
              "    background-color: var(--hover-bg-color);\n",
              "    box-shadow: 0 1px 2px rgba(60, 64, 67, 0.3), 0 1px 3px 1px rgba(60, 64, 67, 0.15);\n",
              "    fill: var(--button-hover-fill-color);\n",
              "  }\n",
              "\n",
              "  .colab-df-quickchart-complete:disabled,\n",
              "  .colab-df-quickchart-complete:disabled:hover {\n",
              "    background-color: var(--disabled-bg-color);\n",
              "    fill: var(--disabled-fill-color);\n",
              "    box-shadow: none;\n",
              "  }\n",
              "\n",
              "  .colab-df-spinner {\n",
              "    border: 2px solid var(--fill-color);\n",
              "    border-color: transparent;\n",
              "    border-bottom-color: var(--fill-color);\n",
              "    animation:\n",
              "      spin 1s steps(1) infinite;\n",
              "  }\n",
              "\n",
              "  @keyframes spin {\n",
              "    0% {\n",
              "      border-color: transparent;\n",
              "      border-bottom-color: var(--fill-color);\n",
              "      border-left-color: var(--fill-color);\n",
              "    }\n",
              "    20% {\n",
              "      border-color: transparent;\n",
              "      border-left-color: var(--fill-color);\n",
              "      border-top-color: var(--fill-color);\n",
              "    }\n",
              "    30% {\n",
              "      border-color: transparent;\n",
              "      border-left-color: var(--fill-color);\n",
              "      border-top-color: var(--fill-color);\n",
              "      border-right-color: var(--fill-color);\n",
              "    }\n",
              "    40% {\n",
              "      border-color: transparent;\n",
              "      border-right-color: var(--fill-color);\n",
              "      border-top-color: var(--fill-color);\n",
              "    }\n",
              "    60% {\n",
              "      border-color: transparent;\n",
              "      border-right-color: var(--fill-color);\n",
              "    }\n",
              "    80% {\n",
              "      border-color: transparent;\n",
              "      border-right-color: var(--fill-color);\n",
              "      border-bottom-color: var(--fill-color);\n",
              "    }\n",
              "    90% {\n",
              "      border-color: transparent;\n",
              "      border-bottom-color: var(--fill-color);\n",
              "    }\n",
              "  }\n",
              "</style>\n",
              "\n",
              "  <script>\n",
              "    async function quickchart(key) {\n",
              "      const quickchartButtonEl =\n",
              "        document.querySelector('#' + key + ' button');\n",
              "      quickchartButtonEl.disabled = true;  // To prevent multiple clicks.\n",
              "      quickchartButtonEl.classList.add('colab-df-spinner');\n",
              "      try {\n",
              "        const charts = await google.colab.kernel.invokeFunction(\n",
              "            'suggestCharts', [key], {});\n",
              "      } catch (error) {\n",
              "        console.error('Error during call to suggestCharts:', error);\n",
              "      }\n",
              "      quickchartButtonEl.classList.remove('colab-df-spinner');\n",
              "      quickchartButtonEl.classList.add('colab-df-quickchart-complete');\n",
              "    }\n",
              "    (() => {\n",
              "      let quickchartButtonEl =\n",
              "        document.querySelector('#df-878774cd-92ce-4889-8dc7-717f4ffac79f button');\n",
              "      quickchartButtonEl.style.display =\n",
              "        google.colab.kernel.accessAllowed ? 'block' : 'none';\n",
              "    })();\n",
              "  </script>\n",
              "</div>\n",
              "    </div>\n",
              "  </div>\n"
            ],
            "text/plain": [
              "       IC50, mmg/ml  CC50-MDCK, mmg/ml            SI  Molecular weight  \\\n",
              "count   1408.000000        1408.000000  1.408000e+03       1408.000000   \n",
              "mean      47.227790         181.530374  2.300791e+04        369.176016   \n",
              "std       79.944935        1028.071009  4.871729e+05        122.693687   \n",
              "min        0.000010           0.031928  3.616134e-02        110.157000   \n",
              "25%        2.500000          30.275000  1.849488e+00        281.398000   \n",
              "50%       10.150000          89.850000  5.469158e+00        345.306000   \n",
              "75%       49.675000         300.000000  2.723370e+01        434.475750   \n",
              "max      300.500000       37646.000000  1.632222e+07        812.925000   \n",
              "\n",
              "       Hydrogen bond acceptors  Hydrogen bond donors     Polar SA       S_leng  \n",
              "count              1408.000000           1408.000000  1408.000000  1408.000000  \n",
              "mean                  3.574574              1.169034    76.884169    58.690341  \n",
              "std                   2.414739              1.496684    47.830747    20.210706  \n",
              "min                   0.000000              0.000000     0.000000    13.000000  \n",
              "25%                   2.000000              0.000000    39.440000    46.000000  \n",
              "50%                   3.000000              1.000000    69.650000    54.000000  \n",
              "75%                   5.000000              2.000000   101.962500    67.000000  \n",
              "max                  17.000000             11.000000   296.980000   139.000000  "
            ]
          },
          "execution_count": 26,
          "metadata": {},
          "output_type": "execute_result"
        }
      ],
      "source": [
        "df_v.describe()"
      ]
    },
    {
      "cell_type": "code",
      "execution_count": null,
      "metadata": {
        "colab": {
          "base_uri": "https://localhost:8080/",
          "height": 447
        },
        "id": "3oNXICujUxdD",
        "outputId": "d94e2bf3-d41f-4e75-847f-af1d9913e84a"
      },
      "outputs": [
        {
          "data": {
            "text/plain": [
              "<Axes: >"
            ]
          },
          "execution_count": 27,
          "metadata": {},
          "output_type": "execute_result"
        },
        {
          "data": {
            "image/png": "[encoded data removed]",
            "text/plain": [
              "<Figure size 640x480 with 1 Axes>"
            ]
          },
          "metadata": {},
          "output_type": "display_data"
        }
      ],
      "source": [
        "sns.boxplot(df['Polar SA'])"
      ]
    },
    {
      "cell_type": "code",
      "execution_count": null,
      "metadata": {
        "colab": {
          "base_uri": "https://localhost:8080/"
        },
        "id": "tlS7LB3DYuu2",
        "outputId": "e0a24143-034c-4689-b7a5-efccb8c9dcf6"
      },
      "outputs": [
        {
          "data": {
            "text/plain": [
              "Hydrogen bond acceptors\n",
              "0     19.022642\n",
              "1     50.217042\n",
              "2     49.612736\n",
              "3     63.169360\n",
              "4     42.623339\n",
              "5     44.459913\n",
              "6     33.063224\n",
              "7     30.037468\n",
              "8     45.752852\n",
              "9     60.270995\n",
              "10    22.390000\n",
              "11    71.120000\n",
              "12    36.233333\n",
              "13    17.450000\n",
              "14     0.950000\n",
              "15     9.413933\n",
              "16    27.750000\n",
              "17    27.700000\n",
              "Name: IC50, mmg/ml, dtype: float64"
            ]
          },
          "execution_count": 29,
          "metadata": {},
          "output_type": "execute_result"
        }
      ],
      "source": [
        "df_v.groupby('Hydrogen bond acceptors')['IC50, mmg/ml'].mean()"
      ]
    },
    {
      "cell_type": "code",
      "execution_count": null,
      "metadata": {
        "colab": {
          "base_uri": "https://localhost:8080/"
        },
        "id": "ifnCoUYCY7Pb",
        "outputId": "1a029764-fd34-42fd-c536-1f10a1264283"
      },
      "outputs": [
        {
          "data": {
            "text/plain": [
              "Hydrogen bond donors\n",
              "0     45.346271\n",
              "1     64.581478\n",
              "2     46.278662\n",
              "3     20.392157\n",
              "4      6.591926\n",
              "5      4.312929\n",
              "6      6.412589\n",
              "7     13.275000\n",
              "8     17.381967\n",
              "9     18.800000\n",
              "10    27.750000\n",
              "11    27.700000\n",
              "Name: IC50, mmg/ml, dtype: float64"
            ]
          },
          "execution_count": 30,
          "metadata": {},
          "output_type": "execute_result"
        }
      ],
      "source": [
        "df_v.groupby('Hydrogen bond donors')['IC50, mmg/ml'].mean()"
      ]
    },
    {
      "cell_type": "code",
      "execution_count": null,
      "metadata": {
        "colab": {
          "base_uri": "https://localhost:8080/",
          "height": 607
        },
        "id": "2EeJMvNzZpZE",
        "outputId": "31ca934c-fd8c-48e3-bb66-e43040a8a0e3"
      },
      "outputs": [
        {
          "data": {
            "image/png": "[encoded data removed]",
            "text/plain": [
              "<Figure size 600x600 with 3 Axes>"
            ]
          },
          "metadata": {},
          "output_type": "display_data"
        }
      ],
      "source": [
        "sns.jointplot(x='Hydrogen bond donors', y='SI', data=df_v);"
      ]
    },
    {
      "cell_type": "code",
      "execution_count": null,
      "metadata": {
        "colab": {
          "base_uri": "https://localhost:8080/",
          "height": 607
        },
        "id": "BHeTP3qNakgE",
        "outputId": "2a78f66d-58ae-475d-8b78-730538445150"
      },
      "outputs": [
        {
          "data": {
            "image/png": "[encoded data removed]",
            "text/plain": [
              "<Figure size 600x600 with 3 Axes>"
            ]
          },
          "metadata": {},
          "output_type": "display_data"
        }
      ],
      "source": [
        "sns.jointplot(x='Hydrogen bond acceptors', y='SI', data=df_v);"
      ]
    },
    {
      "cell_type": "code",
      "execution_count": null,
      "metadata": {
        "colab": {
          "base_uri": "https://localhost:8080/",
          "height": 607
        },
        "id": "Xcm_BHgsbl0Y",
        "outputId": "c74c1d00-1ec2-4ee1-e81e-5fd24fec1416"
      },
      "outputs": [
        {
          "data": {
            "image/png": "[encoded data removed]",
            "text/plain": [
              "<Figure size 600x600 with 3 Axes>"
            ]
          },
          "metadata": {},
          "output_type": "display_data"
        }
      ],
      "source": [
        "sns.jointplot(x='Hydrogen bond acceptors', y='SI', data=df_v);"
      ]
    },
    {
      "cell_type": "code",
      "execution_count": null,
      "metadata": {
        "colab": {
          "base_uri": "https://localhost:8080/",
          "height": 300
        },
        "id": "M90sC6AfbMdC",
        "outputId": "840ef7ae-b820-42ed-f32e-9efd9a869a8e"
      },
      "outputs": [
        {
          "data": {
            "text/html": [
              "\n",
              "  <div id=\"df-28cc5971-c535-4ae3-9598-dc7d4e4cbd5e\" class=\"colab-df-container\">\n",
              "    <div>\n",
              "<style scoped>\n",
              "    .dataframe tbody tr th:only-of-type {\n",
              "        vertical-align: middle;\n",
              "    }\n",
              "\n",
              "    .dataframe tbody tr th {\n",
              "        vertical-align: top;\n",
              "    }\n",
              "\n",
              "    .dataframe thead th {\n",
              "        text-align: right;\n",
              "    }\n",
              "</style>\n",
              "<table border=\"1\" class=\"dataframe\">\n",
              "  <thead>\n",
              "    <tr style=\"text-align: right;\">\n",
              "      <th></th>\n",
              "      <th>IC50, mmg/ml</th>\n",
              "      <th>CC50-MDCK, mmg/ml</th>\n",
              "      <th>SI</th>\n",
              "      <th>Molecular weight</th>\n",
              "      <th>Hydrogen bond acceptors</th>\n",
              "      <th>Hydrogen bond donors</th>\n",
              "      <th>Polar SA</th>\n",
              "      <th>S_leng</th>\n",
              "    </tr>\n",
              "  </thead>\n",
              "  <tbody>\n",
              "    <tr>\n",
              "      <th>IC50, mmg/ml</th>\n",
              "      <td>1.000000</td>\n",
              "      <td>0.041928</td>\n",
              "      <td>-0.027915</td>\n",
              "      <td>-0.079176</td>\n",
              "      <td>-0.038622</td>\n",
              "      <td>-0.123526</td>\n",
              "      <td>-0.070082</td>\n",
              "      <td>-0.074757</td>\n",
              "    </tr>\n",
              "    <tr>\n",
              "      <th>CC50-MDCK, mmg/ml</th>\n",
              "      <td>0.041928</td>\n",
              "      <td>1.000000</td>\n",
              "      <td>0.022510</td>\n",
              "      <td>-0.009572</td>\n",
              "      <td>-0.023458</td>\n",
              "      <td>0.004398</td>\n",
              "      <td>0.010386</td>\n",
              "      <td>-0.001949</td>\n",
              "    </tr>\n",
              "    <tr>\n",
              "      <th>SI</th>\n",
              "      <td>-0.027915</td>\n",
              "      <td>0.022510</td>\n",
              "      <td>1.000000</td>\n",
              "      <td>-0.003564</td>\n",
              "      <td>0.018826</td>\n",
              "      <td>0.025557</td>\n",
              "      <td>0.063151</td>\n",
              "      <td>-0.000465</td>\n",
              "    </tr>\n",
              "    <tr>\n",
              "      <th>Molecular weight</th>\n",
              "      <td>-0.079176</td>\n",
              "      <td>-0.009572</td>\n",
              "      <td>-0.003564</td>\n",
              "      <td>1.000000</td>\n",
              "      <td>0.599001</td>\n",
              "      <td>0.311860</td>\n",
              "      <td>0.663605</td>\n",
              "      <td>0.832344</td>\n",
              "    </tr>\n",
              "    <tr>\n",
              "      <th>Hydrogen bond acceptors</th>\n",
              "      <td>-0.038622</td>\n",
              "      <td>-0.023458</td>\n",
              "      <td>0.018826</td>\n",
              "      <td>0.599001</td>\n",
              "      <td>1.000000</td>\n",
              "      <td>0.506830</td>\n",
              "      <td>0.767056</td>\n",
              "      <td>0.495037</td>\n",
              "    </tr>\n",
              "    <tr>\n",
              "      <th>Hydrogen bond donors</th>\n",
              "      <td>-0.123526</td>\n",
              "      <td>0.004398</td>\n",
              "      <td>0.025557</td>\n",
              "      <td>0.311860</td>\n",
              "      <td>0.506830</td>\n",
              "      <td>1.000000</td>\n",
              "      <td>0.671514</td>\n",
              "      <td>0.378091</td>\n",
              "    </tr>\n",
              "    <tr>\n",
              "      <th>Polar SA</th>\n",
              "      <td>-0.070082</td>\n",
              "      <td>0.010386</td>\n",
              "      <td>0.063151</td>\n",
              "      <td>0.663605</td>\n",
              "      <td>0.767056</td>\n",
              "      <td>0.671514</td>\n",
              "      <td>1.000000</td>\n",
              "      <td>0.576099</td>\n",
              "    </tr>\n",
              "    <tr>\n",
              "      <th>S_leng</th>\n",
              "      <td>-0.074757</td>\n",
              "      <td>-0.001949</td>\n",
              "      <td>-0.000465</td>\n",
              "      <td>0.832344</td>\n",
              "      <td>0.495037</td>\n",
              "      <td>0.378091</td>\n",
              "      <td>0.576099</td>\n",
              "      <td>1.000000</td>\n",
              "    </tr>\n",
              "  </tbody>\n",
              "</table>\n",
              "</div>\n",
              "    <div class=\"colab-df-buttons\">\n",
              "\n",
              "  <div class=\"colab-df-container\">\n",
              "    <button class=\"colab-df-convert\" onclick=\"convertToInteractive('df-28cc5971-c535-4ae3-9598-dc7d4e4cbd5e')\"\n",
              "            title=\"Convert this dataframe to an interactive table.\"\n",
              "            style=\"display:none;\">\n",
              "\n",
              "  <svg xmlns=\"http://www.w3.org/2000/svg\" height=\"24px\" viewBox=\"0 -960 960 960\">\n",
              "    <path d=\"M120-120v-720h720v720H120Zm60-500h600v-160H180v160Zm220 220h160v-160H400v160Zm0 220h160v-160H400v160ZM180-400h160v-160H180v160Zm440 0h160v-160H620v160ZM180-180h160v-160H180v160Zm440 0h160v-160H620v160Z\"/>\n",
              "  </svg>\n",
              "    </button>\n",
              "\n",
              "  <style>\n",
              "    .colab-df-container {\n",
              "      display:flex;\n",
              "      gap: 12px;\n",
              "    }\n",
              "\n",
              "    .colab-df-convert {\n",
              "      background-color: #E8F0FE;\n",
              "      border: none;\n",
              "      border-radius: 50%;\n",
              "      cursor: pointer;\n",
              "      display: none;\n",
              "      fill: #1967D2;\n",
              "      height: 32px;\n",
              "      padding: 0 0 0 0;\n",
              "      width: 32px;\n",
              "    }\n",
              "\n",
              "    .colab-df-convert:hover {\n",
              "      background-color: #E2EBFA;\n",
              "      box-shadow: 0px 1px 2px rgba(60, 64, 67, 0.3), 0px 1px 3px 1px rgba(60, 64, 67, 0.15);\n",
              "      fill: #174EA6;\n",
              "    }\n",
              "\n",
              "    .colab-df-buttons div {\n",
              "      margin-bottom: 4px;\n",
              "    }\n",
              "\n",
              "    [theme=dark] .colab-df-convert {\n",
              "      background-color: #3B4455;\n",
              "      fill: #D2E3FC;\n",
              "    }\n",
              "\n",
              "    [theme=dark] .colab-df-convert:hover {\n",
              "      background-color: #434B5C;\n",
              "      box-shadow: 0px 1px 3px 1px rgba(0, 0, 0, 0.15);\n",
              "      filter: drop-shadow(0px 1px 2px rgba(0, 0, 0, 0.3));\n",
              "      fill: #FFFFFF;\n",
              "    }\n",
              "  </style>\n",
              "\n",
              "    <script>\n",
              "      const buttonEl =\n",
              "        document.querySelector('#df-28cc5971-c535-4ae3-9598-dc7d4e4cbd5e button.colab-df-convert');\n",
              "      buttonEl.style.display =\n",
              "        google.colab.kernel.accessAllowed ? 'block' : 'none';\n",
              "\n",
              "      async function convertToInteractive(key) {\n",
              "        const element = document.querySelector('#df-28cc5971-c535-4ae3-9598-dc7d4e4cbd5e');\n",
              "        const dataTable =\n",
              "          await google.colab.kernel.invokeFunction('convertToInteractive',\n",
              "                                                    [key], {});\n",
              "        if (!dataTable) return;\n",
              "\n",
              "        const docLinkHtml = 'Like what you see? Visit the ' +\n",
              "          '<a target=\"_blank\" href=https://colab.research.google.com/notebooks/data_table.ipynb>data table notebook</a>'\n",
              "          + ' to learn more about interactive tables.';\n",
              "        element.innerHTML = '';\n",
              "        dataTable['output_type'] = 'display_data';\n",
              "        await google.colab.output.renderOutput(dataTable, element);\n",
              "        const docLink = document.createElement('div');\n",
              "        docLink.innerHTML = docLinkHtml;\n",
              "        element.appendChild(docLink);\n",
              "      }\n",
              "    </script>\n",
              "  </div>\n",
              "\n",
              "\n",
              "<div id=\"df-57353d3d-5bb9-4804-a390-95d4f2153540\">\n",
              "  <button class=\"colab-df-quickchart\" onclick=\"quickchart('df-57353d3d-5bb9-4804-a390-95d4f2153540')\"\n",
              "            title=\"Suggest charts.\"\n",
              "            style=\"display:none;\">\n",
              "\n",
              "<svg xmlns=\"http://www.w3.org/2000/svg\" height=\"24px\"viewBox=\"0 0 24 24\"\n",
              "     width=\"24px\">\n",
              "    <g>\n",
              "        <path d=\"M19 3H5c-1.1 0-2 .9-2 2v14c0 1.1.9 2 2 2h14c1.1 0 2-.9 2-2V5c0-1.1-.9-2-2-2zM9 17H7v-7h2v7zm4 0h-2V7h2v10zm4 0h-2v-4h2v4z\"/>\n",
              "    </g>\n",
              "</svg>\n",
              "  </button>\n",
              "\n",
              "<style>\n",
              "  .colab-df-quickchart {\n",
              "      --bg-color: #E8F0FE;\n",
              "      --fill-color: #1967D2;\n",
              "      --hover-bg-color: #E2EBFA;\n",
              "      --hover-fill-color: #174EA6;\n",
              "      --disabled-fill-color: #AAA;\n",
              "      --disabled-bg-color: #DDD;\n",
              "  }\n",
              "\n",
              "  [theme=dark] .colab-df-quickchart {\n",
              "      --bg-color: #3B4455;\n",
              "      --fill-color: #D2E3FC;\n",
              "      --hover-bg-color: #434B5C;\n",
              "      --hover-fill-color: #FFFFFF;\n",
              "      --disabled-bg-color: #3B4455;\n",
              "      --disabled-fill-color: #666;\n",
              "  }\n",
              "\n",
              "  .colab-df-quickchart {\n",
              "    background-color: var(--bg-color);\n",
              "    border: none;\n",
              "    border-radius: 50%;\n",
              "    cursor: pointer;\n",
              "    display: none;\n",
              "    fill: var(--fill-color);\n",
              "    height: 32px;\n",
              "    padding: 0;\n",
              "    width: 32px;\n",
              "  }\n",
              "\n",
              "  .colab-df-quickchart:hover {\n",
              "    background-color: var(--hover-bg-color);\n",
              "    box-shadow: 0 1px 2px rgba(60, 64, 67, 0.3), 0 1px 3px 1px rgba(60, 64, 67, 0.15);\n",
              "    fill: var(--button-hover-fill-color);\n",
              "  }\n",
              "\n",
              "  .colab-df-quickchart-complete:disabled,\n",
              "  .colab-df-quickchart-complete:disabled:hover {\n",
              "    background-color: var(--disabled-bg-color);\n",
              "    fill: var(--disabled-fill-color);\n",
              "    box-shadow: none;\n",
              "  }\n",
              "\n",
              "  .colab-df-spinner {\n",
              "    border: 2px solid var(--fill-color);\n",
              "    border-color: transparent;\n",
              "    border-bottom-color: var(--fill-color);\n",
              "    animation:\n",
              "      spin 1s steps(1) infinite;\n",
              "  }\n",
              "\n",
              "  @keyframes spin {\n",
              "    0% {\n",
              "      border-color: transparent;\n",
              "      border-bottom-color: var(--fill-color);\n",
              "      border-left-color: var(--fill-color);\n",
              "    }\n",
              "    20% {\n",
              "      border-color: transparent;\n",
              "      border-left-color: var(--fill-color);\n",
              "      border-top-color: var(--fill-color);\n",
              "    }\n",
              "    30% {\n",
              "      border-color: transparent;\n",
              "      border-left-color: var(--fill-color);\n",
              "      border-top-color: var(--fill-color);\n",
              "      border-right-color: var(--fill-color);\n",
              "    }\n",
              "    40% {\n",
              "      border-color: transparent;\n",
              "      border-right-color: var(--fill-color);\n",
              "      border-top-color: var(--fill-color);\n",
              "    }\n",
              "    60% {\n",
              "      border-color: transparent;\n",
              "      border-right-color: var(--fill-color);\n",
              "    }\n",
              "    80% {\n",
              "      border-color: transparent;\n",
              "      border-right-color: var(--fill-color);\n",
              "      border-bottom-color: var(--fill-color);\n",
              "    }\n",
              "    90% {\n",
              "      border-color: transparent;\n",
              "      border-bottom-color: var(--fill-color);\n",
              "    }\n",
              "  }\n",
              "</style>\n",
              "\n",
              "  <script>\n",
              "    async function quickchart(key) {\n",
              "      const quickchartButtonEl =\n",
              "        document.querySelector('#' + key + ' button');\n",
              "      quickchartButtonEl.disabled = true;  // To prevent multiple clicks.\n",
              "      quickchartButtonEl.classList.add('colab-df-spinner');\n",
              "      try {\n",
              "        const charts = await google.colab.kernel.invokeFunction(\n",
              "            'suggestCharts', [key], {});\n",
              "      } catch (error) {\n",
              "        console.error('Error during call to suggestCharts:', error);\n",
              "      }\n",
              "      quickchartButtonEl.classList.remove('colab-df-spinner');\n",
              "      quickchartButtonEl.classList.add('colab-df-quickchart-complete');\n",
              "    }\n",
              "    (() => {\n",
              "      let quickchartButtonEl =\n",
              "        document.querySelector('#df-57353d3d-5bb9-4804-a390-95d4f2153540 button');\n",
              "      quickchartButtonEl.style.display =\n",
              "        google.colab.kernel.accessAllowed ? 'block' : 'none';\n",
              "    })();\n",
              "  </script>\n",
              "</div>\n",
              "    </div>\n",
              "  </div>\n"
            ],
            "text/plain": [
              "                         IC50, mmg/ml  CC50-MDCK, mmg/ml        SI  \\\n",
              "IC50, mmg/ml                 1.000000           0.041928 -0.027915   \n",
              "CC50-MDCK, mmg/ml            0.041928           1.000000  0.022510   \n",
              "SI                          -0.027915           0.022510  1.000000   \n",
              "Molecular weight            -0.079176          -0.009572 -0.003564   \n",
              "Hydrogen bond acceptors     -0.038622          -0.023458  0.018826   \n",
              "Hydrogen bond donors        -0.123526           0.004398  0.025557   \n",
              "Polar SA                    -0.070082           0.010386  0.063151   \n",
              "S_leng                      -0.074757          -0.001949 -0.000465   \n",
              "\n",
              "                         Molecular weight  Hydrogen bond acceptors  \\\n",
              "IC50, mmg/ml                    -0.079176                -0.038622   \n",
              "CC50-MDCK, mmg/ml               -0.009572                -0.023458   \n",
              "SI                              -0.003564                 0.018826   \n",
              "Molecular weight                 1.000000                 0.599001   \n",
              "Hydrogen bond acceptors          0.599001                 1.000000   \n",
              "Hydrogen bond donors             0.311860                 0.506830   \n",
              "Polar SA                         0.663605                 0.767056   \n",
              "S_leng                           0.832344                 0.495037   \n",
              "\n",
              "                         Hydrogen bond donors  Polar SA    S_leng  \n",
              "IC50, mmg/ml                        -0.123526 -0.070082 -0.074757  \n",
              "CC50-MDCK, mmg/ml                    0.004398  0.010386 -0.001949  \n",
              "SI                                   0.025557  0.063151 -0.000465  \n",
              "Molecular weight                     0.311860  0.663605  0.832344  \n",
              "Hydrogen bond acceptors              0.506830  0.767056  0.495037  \n",
              "Hydrogen bond donors                 1.000000  0.671514  0.378091  \n",
              "Polar SA                             0.671514  1.000000  0.576099  \n",
              "S_leng                               0.378091  0.576099  1.000000  "
            ]
          },
          "execution_count": 31,
          "metadata": {},
          "output_type": "execute_result"
        }
      ],
      "source": [
        "df_v.corr()"
      ]
    },
    {
      "cell_type": "markdown",
      "metadata": {
        "id": "rqRnHrrR1iWk"
      },
      "source": [
        "## Векторайзер"
      ]
    },
    {
      "cell_type": "code",
      "execution_count": null,
      "metadata": {
        "id": "fCjy3hLqfPkm"
      },
      "outputs": [],
      "source": [
        "OCC\\N=C(\\[C@]12C)C[C@@H](C1(C)C)CC2"
      ]
    },
    {
      "cell_type": "code",
      "execution_count": null,
      "metadata": {
        "colab": {
          "base_uri": "https://localhost:8080/",
          "height": 528
        },
        "id": "3p-Y3K_Fh4HH",
        "outputId": "94ab6881-b85f-4c3c-94bd-ecb329dde3aa"
      },
      "outputs": [
        {
          "name": "stderr",
          "output_type": "stream",
          "text": [
            "/usr/local/lib/python3.10/dist-packages/rdkit/Chem/PandasTools.py:371: SettingWithCopyWarning: \n",
            "A value is trying to be set on a copy of a slice from a DataFrame.\n",
            "Try using .loc[row_indexer,col_indexer] = value instead\n",
            "\n",
            "See the caveats in the documentation: https://pandas.pydata.org/pandas-docs/stable/user_guide/indexing.html#returning-a-view-versus-a-copy\n",
            "  frame[molCol] = frame[smilesCol].map(Chem.MolFromSmiles)\n"
          ]
        },
        {
          "data": {
            "text/html": [
              "\n",
              "  <div id=\"df-0311cbc9-5d9d-4510-b200-b2551a032890\" class=\"colab-df-container\">\n",
              "    <div>\n",
              "<style scoped>\n",
              "    .dataframe tbody tr th:only-of-type {\n",
              "        vertical-align: middle;\n",
              "    }\n",
              "\n",
              "    .dataframe tbody tr th {\n",
              "        vertical-align: top;\n",
              "    }\n",
              "\n",
              "    .dataframe thead th {\n",
              "        text-align: right;\n",
              "    }\n",
              "</style>\n",
              "<table border=\"1\" class=\"dataframe\">\n",
              "  <thead>\n",
              "    <tr style=\"text-align: right;\">\n",
              "      <th></th>\n",
              "      <th>SMILES</th>\n",
              "      <th>Molecule</th>\n",
              "    </tr>\n",
              "  </thead>\n",
              "  <tbody>\n",
              "    <tr>\n",
              "      <th>0</th>\n",
              "      <td>OCC\\N=C(\\[C@]12C)C[C@@H](C1(C)C)CC2</td>\n",
              "      <td>&lt;rdkit.Chem.rdchem.Mol object at 0x789251e68ba0&gt;</td>\n",
              "    </tr>\n",
              "    <tr>\n",
              "      <th>1</th>\n",
              "      <td>OCC\\N=C(\\[C@]12C)C[C@@H](C1(C)C)CC2</td>\n",
              "      <td>&lt;rdkit.Chem.rdchem.Mol object at 0x789251e68c10&gt;</td>\n",
              "    </tr>\n",
              "    <tr>\n",
              "      <th>2</th>\n",
              "      <td>CCN(CC)CC\\N=C(\\[C@@]12C)C[C@H](C1(C)C)CC2</td>\n",
              "      <td>&lt;rdkit.Chem.rdchem.Mol object at 0x789251e68c80&gt;</td>\n",
              "    </tr>\n",
              "    <tr>\n",
              "      <th>3</th>\n",
              "      <td>CN(C)CC\\N=C(\\[C@@]12C)C[C@H](C1(C)C)CC2</td>\n",
              "      <td>&lt;rdkit.Chem.rdchem.Mol object at 0x789251e68cf0&gt;</td>\n",
              "    </tr>\n",
              "    <tr>\n",
              "      <th>4</th>\n",
              "      <td>CN(C)CC(=O)O[C@H]1C[C@H](CC2)C(C)(C)[C@@]12C</td>\n",
              "      <td>&lt;rdkit.Chem.rdchem.Mol object at 0x789251e68d60&gt;</td>\n",
              "    </tr>\n",
              "    <tr>\n",
              "      <th>...</th>\n",
              "      <td>...</td>\n",
              "      <td>...</td>\n",
              "    </tr>\n",
              "    <tr>\n",
              "      <th>1463</th>\n",
              "      <td>CCCCCCCc1c(OC)c(C)c(=O)oc1</td>\n",
              "      <td>&lt;rdkit.Chem.rdchem.Mol object at 0x789251e93680&gt;</td>\n",
              "    </tr>\n",
              "    <tr>\n",
              "      <th>1464</th>\n",
              "      <td>COc(cc1)cc(c12)ccc(c2)-c(c3C([O-])=O)c(C([O-])...</td>\n",
              "      <td>&lt;rdkit.Chem.rdchem.Mol object at 0x789251e936f0&gt;</td>\n",
              "    </tr>\n",
              "    <tr>\n",
              "      <th>1465</th>\n",
              "      <td>COc(cc1)cc(c12)ccc(c2)-c(c3C([O-])=O)c(C([O-])...</td>\n",
              "      <td>&lt;rdkit.Chem.rdchem.Mol object at 0x789251e93760&gt;</td>\n",
              "    </tr>\n",
              "    <tr>\n",
              "      <th>1466</th>\n",
              "      <td>c1ccc(C([O-])=O)c(c1C([O-])=O)-c(c2)ccc(c23)cc...</td>\n",
              "      <td>&lt;rdkit.Chem.rdchem.Mol object at 0x789251e937d0&gt;</td>\n",
              "    </tr>\n",
              "    <tr>\n",
              "      <th>1467</th>\n",
              "      <td>CCC(CC)O[C@H](C=C1C(=O)O)[C@H](NC(=O)C)[C@H](C...</td>\n",
              "      <td>&lt;rdkit.Chem.rdchem.Mol object at 0x789251e93840&gt;</td>\n",
              "    </tr>\n",
              "  </tbody>\n",
              "</table>\n",
              "<p>1408 rows × 2 columns</p>\n",
              "</div>\n",
              "    <div class=\"colab-df-buttons\">\n",
              "\n",
              "  <div class=\"colab-df-container\">\n",
              "    <button class=\"colab-df-convert\" onclick=\"convertToInteractive('df-0311cbc9-5d9d-4510-b200-b2551a032890')\"\n",
              "            title=\"Convert this dataframe to an interactive table.\"\n",
              "            style=\"display:none;\">\n",
              "\n",
              "  <svg xmlns=\"http://www.w3.org/2000/svg\" height=\"24px\" viewBox=\"0 -960 960 960\">\n",
              "    <path d=\"M120-120v-720h720v720H120Zm60-500h600v-160H180v160Zm220 220h160v-160H400v160Zm0 220h160v-160H400v160ZM180-400h160v-160H180v160Zm440 0h160v-160H620v160ZM180-180h160v-160H180v160Zm440 0h160v-160H620v160Z\"/>\n",
              "  </svg>\n",
              "    </button>\n",
              "\n",
              "  <style>\n",
              "    .colab-df-container {\n",
              "      display:flex;\n",
              "      gap: 12px;\n",
              "    }\n",
              "\n",
              "    .colab-df-convert {\n",
              "      background-color: #E8F0FE;\n",
              "      border: none;\n",
              "      border-radius: 50%;\n",
              "      cursor: pointer;\n",
              "      display: none;\n",
              "      fill: #1967D2;\n",
              "      height: 32px;\n",
              "      padding: 0 0 0 0;\n",
              "      width: 32px;\n",
              "    }\n",
              "\n",
              "    .colab-df-convert:hover {\n",
              "      background-color: #E2EBFA;\n",
              "      box-shadow: 0px 1px 2px rgba(60, 64, 67, 0.3), 0px 1px 3px 1px rgba(60, 64, 67, 0.15);\n",
              "      fill: #174EA6;\n",
              "    }\n",
              "\n",
              "    .colab-df-buttons div {\n",
              "      margin-bottom: 4px;\n",
              "    }\n",
              "\n",
              "    [theme=dark] .colab-df-convert {\n",
              "      background-color: #3B4455;\n",
              "      fill: #D2E3FC;\n",
              "    }\n",
              "\n",
              "    [theme=dark] .colab-df-convert:hover {\n",
              "      background-color: #434B5C;\n",
              "      box-shadow: 0px 1px 3px 1px rgba(0, 0, 0, 0.15);\n",
              "      filter: drop-shadow(0px 1px 2px rgba(0, 0, 0, 0.3));\n",
              "      fill: #FFFFFF;\n",
              "    }\n",
              "  </style>\n",
              "\n",
              "    <script>\n",
              "      const buttonEl =\n",
              "        document.querySelector('#df-0311cbc9-5d9d-4510-b200-b2551a032890 button.colab-df-convert');\n",
              "      buttonEl.style.display =\n",
              "        google.colab.kernel.accessAllowed ? 'block' : 'none';\n",
              "\n",
              "      async function convertToInteractive(key) {\n",
              "        const element = document.querySelector('#df-0311cbc9-5d9d-4510-b200-b2551a032890');\n",
              "        const dataTable =\n",
              "          await google.colab.kernel.invokeFunction('convertToInteractive',\n",
              "                                                    [key], {});\n",
              "        if (!dataTable) return;\n",
              "\n",
              "        const docLinkHtml = 'Like what you see? Visit the ' +\n",
              "          '<a target=\"_blank\" href=https://colab.research.google.com/notebooks/data_table.ipynb>data table notebook</a>'\n",
              "          + ' to learn more about interactive tables.';\n",
              "        element.innerHTML = '';\n",
              "        dataTable['output_type'] = 'display_data';\n",
              "        await google.colab.output.renderOutput(dataTable, element);\n",
              "        const docLink = document.createElement('div');\n",
              "        docLink.innerHTML = docLinkHtml;\n",
              "        element.appendChild(docLink);\n",
              "      }\n",
              "    </script>\n",
              "  </div>\n",
              "\n",
              "\n",
              "<div id=\"df-1e5dac77-afab-4e81-93f0-6e7ac365faf9\">\n",
              "  <button class=\"colab-df-quickchart\" onclick=\"quickchart('df-1e5dac77-afab-4e81-93f0-6e7ac365faf9')\"\n",
              "            title=\"Suggest charts.\"\n",
              "            style=\"display:none;\">\n",
              "\n",
              "<svg xmlns=\"http://www.w3.org/2000/svg\" height=\"24px\"viewBox=\"0 0 24 24\"\n",
              "     width=\"24px\">\n",
              "    <g>\n",
              "        <path d=\"M19 3H5c-1.1 0-2 .9-2 2v14c0 1.1.9 2 2 2h14c1.1 0 2-.9 2-2V5c0-1.1-.9-2-2-2zM9 17H7v-7h2v7zm4 0h-2V7h2v10zm4 0h-2v-4h2v4z\"/>\n",
              "    </g>\n",
              "</svg>\n",
              "  </button>\n",
              "\n",
              "<style>\n",
              "  .colab-df-quickchart {\n",
              "      --bg-color: #E8F0FE;\n",
              "      --fill-color: #1967D2;\n",
              "      --hover-bg-color: #E2EBFA;\n",
              "      --hover-fill-color: #174EA6;\n",
              "      --disabled-fill-color: #AAA;\n",
              "      --disabled-bg-color: #DDD;\n",
              "  }\n",
              "\n",
              "  [theme=dark] .colab-df-quickchart {\n",
              "      --bg-color: #3B4455;\n",
              "      --fill-color: #D2E3FC;\n",
              "      --hover-bg-color: #434B5C;\n",
              "      --hover-fill-color: #FFFFFF;\n",
              "      --disabled-bg-color: #3B4455;\n",
              "      --disabled-fill-color: #666;\n",
              "  }\n",
              "\n",
              "  .colab-df-quickchart {\n",
              "    background-color: var(--bg-color);\n",
              "    border: none;\n",
              "    border-radius: 50%;\n",
              "    cursor: pointer;\n",
              "    display: none;\n",
              "    fill: var(--fill-color);\n",
              "    height: 32px;\n",
              "    padding: 0;\n",
              "    width: 32px;\n",
              "  }\n",
              "\n",
              "  .colab-df-quickchart:hover {\n",
              "    background-color: var(--hover-bg-color);\n",
              "    box-shadow: 0 1px 2px rgba(60, 64, 67, 0.3), 0 1px 3px 1px rgba(60, 64, 67, 0.15);\n",
              "    fill: var(--button-hover-fill-color);\n",
              "  }\n",
              "\n",
              "  .colab-df-quickchart-complete:disabled,\n",
              "  .colab-df-quickchart-complete:disabled:hover {\n",
              "    background-color: var(--disabled-bg-color);\n",
              "    fill: var(--disabled-fill-color);\n",
              "    box-shadow: none;\n",
              "  }\n",
              "\n",
              "  .colab-df-spinner {\n",
              "    border: 2px solid var(--fill-color);\n",
              "    border-color: transparent;\n",
              "    border-bottom-color: var(--fill-color);\n",
              "    animation:\n",
              "      spin 1s steps(1) infinite;\n",
              "  }\n",
              "\n",
              "  @keyframes spin {\n",
              "    0% {\n",
              "      border-color: transparent;\n",
              "      border-bottom-color: var(--fill-color);\n",
              "      border-left-color: var(--fill-color);\n",
              "    }\n",
              "    20% {\n",
              "      border-color: transparent;\n",
              "      border-left-color: var(--fill-color);\n",
              "      border-top-color: var(--fill-color);\n",
              "    }\n",
              "    30% {\n",
              "      border-color: transparent;\n",
              "      border-left-color: var(--fill-color);\n",
              "      border-top-color: var(--fill-color);\n",
              "      border-right-color: var(--fill-color);\n",
              "    }\n",
              "    40% {\n",
              "      border-color: transparent;\n",
              "      border-right-color: var(--fill-color);\n",
              "      border-top-color: var(--fill-color);\n",
              "    }\n",
              "    60% {\n",
              "      border-color: transparent;\n",
              "      border-right-color: var(--fill-color);\n",
              "    }\n",
              "    80% {\n",
              "      border-color: transparent;\n",
              "      border-right-color: var(--fill-color);\n",
              "      border-bottom-color: var(--fill-color);\n",
              "    }\n",
              "    90% {\n",
              "      border-color: transparent;\n",
              "      border-bottom-color: var(--fill-color);\n",
              "    }\n",
              "  }\n",
              "</style>\n",
              "\n",
              "  <script>\n",
              "    async function quickchart(key) {\n",
              "      const quickchartButtonEl =\n",
              "        document.querySelector('#' + key + ' button');\n",
              "      quickchartButtonEl.disabled = true;  // To prevent multiple clicks.\n",
              "      quickchartButtonEl.classList.add('colab-df-spinner');\n",
              "      try {\n",
              "        const charts = await google.colab.kernel.invokeFunction(\n",
              "            'suggestCharts', [key], {});\n",
              "      } catch (error) {\n",
              "        console.error('Error during call to suggestCharts:', error);\n",
              "      }\n",
              "      quickchartButtonEl.classList.remove('colab-df-spinner');\n",
              "      quickchartButtonEl.classList.add('colab-df-quickchart-complete');\n",
              "    }\n",
              "    (() => {\n",
              "      let quickchartButtonEl =\n",
              "        document.querySelector('#df-1e5dac77-afab-4e81-93f0-6e7ac365faf9 button');\n",
              "      quickchartButtonEl.style.display =\n",
              "        google.colab.kernel.accessAllowed ? 'block' : 'none';\n",
              "    })();\n",
              "  </script>\n",
              "</div>\n",
              "    </div>\n",
              "  </div>\n"
            ],
            "text/plain": [
              "                                                 SMILES  \\\n",
              "0                   OCC\\N=C(\\[C@]12C)C[C@@H](C1(C)C)CC2   \n",
              "1                   OCC\\N=C(\\[C@]12C)C[C@@H](C1(C)C)CC2   \n",
              "2             CCN(CC)CC\\N=C(\\[C@@]12C)C[C@H](C1(C)C)CC2   \n",
              "3               CN(C)CC\\N=C(\\[C@@]12C)C[C@H](C1(C)C)CC2   \n",
              "4          CN(C)CC(=O)O[C@H]1C[C@H](CC2)C(C)(C)[C@@]12C   \n",
              "...                                                 ...   \n",
              "1463                         CCCCCCCc1c(OC)c(C)c(=O)oc1   \n",
              "1464  COc(cc1)cc(c12)ccc(c2)-c(c3C([O-])=O)c(C([O-])...   \n",
              "1465  COc(cc1)cc(c12)ccc(c2)-c(c3C([O-])=O)c(C([O-])...   \n",
              "1466  c1ccc(C([O-])=O)c(c1C([O-])=O)-c(c2)ccc(c23)cc...   \n",
              "1467  CCC(CC)O[C@H](C=C1C(=O)O)[C@H](NC(=O)C)[C@H](C...   \n",
              "\n",
              "                                              Molecule  \n",
              "0     <rdkit.Chem.rdchem.Mol object at 0x789251e68ba0>  \n",
              "1     <rdkit.Chem.rdchem.Mol object at 0x789251e68c10>  \n",
              "2     <rdkit.Chem.rdchem.Mol object at 0x789251e68c80>  \n",
              "3     <rdkit.Chem.rdchem.Mol object at 0x789251e68cf0>  \n",
              "4     <rdkit.Chem.rdchem.Mol object at 0x789251e68d60>  \n",
              "...                                                ...  \n",
              "1463  <rdkit.Chem.rdchem.Mol object at 0x789251e93680>  \n",
              "1464  <rdkit.Chem.rdchem.Mol object at 0x789251e936f0>  \n",
              "1465  <rdkit.Chem.rdchem.Mol object at 0x789251e93760>  \n",
              "1466  <rdkit.Chem.rdchem.Mol object at 0x789251e937d0>  \n",
              "1467  <rdkit.Chem.rdchem.Mol object at 0x789251e93840>  \n",
              "\n",
              "[1408 rows x 2 columns]"
            ]
          },
          "execution_count": 32,
          "metadata": {},
          "output_type": "execute_result"
        }
      ],
      "source": [
        "PandasTools.AddMoleculeColumnToFrame(df_w,'SMILES','Molecule')\n",
        "df_w[[\"SMILES\",\"Molecule\"]]"
      ]
    },
    {
      "cell_type": "code",
      "execution_count": null,
      "metadata": {
        "colab": {
          "base_uri": "https://localhost:8080/"
        },
        "id": "RsJt66scqG5C",
        "outputId": "f3d04e34-776d-4630-c470-2a3156412191"
      },
      "outputs": [
        {
          "name": "stdout",
          "output_type": "stream",
          "text": [
            "Collecting git+https://github.com/EBjerrum/molvecgen\n",
            "  Cloning https://github.com/EBjerrum/molvecgen to /tmp/pip-req-build-seo6zn72\n",
            "  Running command git clone --filter=blob:none --quiet https://github.com/EBjerrum/molvecgen /tmp/pip-req-build-seo6zn72\n",
            "  Resolved https://github.com/EBjerrum/molvecgen to commit f81d5aade18bea60882f5845877f6283366bbe91\n",
            "  Preparing metadata (setup.py) ... \u001b[?25l\u001b[?25hdone\n",
            "Requirement already satisfied: numpy in /usr/local/lib/python3.10/dist-packages (from molvecgen==0.1) (1.23.5)\n",
            "Building wheels for collected packages: molvecgen\n",
            "  Building wheel for molvecgen (setup.py) ... \u001b[?25l\u001b[?25hdone\n",
            "  Created wheel for molvecgen: filename=molvecgen-0.1-py3-none-any.whl size=11357 sha256=5b33c913ff64c408c43d4de7f43fcf6ff98331eab4ff97bd9cb9f1204aea99ab\n",
            "  Stored in directory: /tmp/pip-ephem-wheel-cache-6olnlz25/wheels/1c/de/14/fd9892b48271e63e56b00c7015c754ae6189e258fa313a7c63\n",
            "Successfully built molvecgen\n",
            "Installing collected packages: molvecgen\n",
            "Successfully installed molvecgen-0.1\n"
          ]
        }
      ],
      "source": [
        "!python -m pip install git+https://github.com/EBjerrum/molvecgen"
      ]
    },
    {
      "cell_type": "code",
      "execution_count": null,
      "metadata": {
        "id": "BHrW6cy1kKNB"
      },
      "outputs": [],
      "source": [
        "from molvecgen.vectorizers import SmilesVectorizer"
      ]
    },
    {
      "cell_type": "code",
      "execution_count": null,
      "metadata": {
        "id": "FOKqbbDCqiK7"
      },
      "outputs": [],
      "source": [
        "smivec = SmilesVectorizer(pad=1, leftpad=True, canonical=False, augment=True)\n",
        "smivec.fit(df_w.Molecule.values, )"
      ]
    },
    {
      "cell_type": "code",
      "execution_count": null,
      "metadata": {
        "colab": {
          "base_uri": "https://localhost:8080/"
        },
        "id": "NdMOZmPUq85g",
        "outputId": "4edd9779-4600-40b8-aac4-c0f13e80959f"
      },
      "outputs": [
        {
          "name": "stdout",
          "output_type": "stream",
          "text": [
            "S-i/P7a=CO(rs31F52N\\[4#Ic+6H)e@]Bn.lo^$?\n"
          ]
        },
        {
          "data": {
            "text/plain": [
              "(137, 40)"
            ]
          },
          "execution_count": 36,
          "metadata": {},
          "output_type": "execute_result"
        }
      ],
      "source": [
        "print(smivec.charset)\n",
        "smivec.dims"
      ]
    },
    {
      "cell_type": "code",
      "execution_count": null,
      "metadata": {
        "colab": {
          "base_uri": "https://localhost:8080/"
        },
        "id": "Aeq6shwBE7pK",
        "outputId": "6a516781-a5f0-4805-cae5-211f647e0086"
      },
      "outputs": [
        {
          "name": "stdout",
          "output_type": "stream",
          "text": [
            "Maximum allowed SMILES length 136\n"
          ]
        }
      ],
      "source": [
        "print(\"Maximum allowed SMILES length %s\"%smivec.maxlength)"
      ]
    },
    {
      "cell_type": "code",
      "execution_count": null,
      "metadata": {
        "id": "T_A5hDEIr4V9"
      },
      "outputs": [],
      "source": [
        "y = df_w['IC50, mmg/ml'].values.reshape((-1,1))\n",
        "X = df_w.Molecule.values\n",
        "X_train, X_test, y_train, y_test = train_test_split(X, y,  test_size=0.25, random_state=42)\n",
        "X_train, X_validation, y_train, y_validation = train_test_split(X_train, y_train,  test_size=0.2, random_state=42)\n",
        "#Normalizing output using standard scaling\n",
        "scaler = StandardScaler()\n",
        "y_train = scaler.fit_transform(y_train)\n",
        "y_test = scaler.transform(y_test)\n",
        "y_validation = scaler.transform(y_validation)"
      ]
    },
    {
      "cell_type": "code",
      "execution_count": null,
      "metadata": {
        "id": "dQh8G-x0yEkY"
      },
      "outputs": [],
      "source": [
        "y_train"
      ]
    },
    {
      "cell_type": "code",
      "execution_count": null,
      "metadata": {
        "id": "DR9gLQziuUb9"
      },
      "outputs": [],
      "source": [
        "from pprint import pprint"
      ]
    },
    {
      "cell_type": "code",
      "execution_count": null,
      "metadata": {
        "colab": {
          "base_uri": "https://localhost:8080/"
        },
        "id": "Lrno9FEA1yHc",
        "outputId": "cc96bce9-5a67-4919-b232-a3a7bf6b6def"
      },
      "outputs": [
        {
          "data": {
            "text/plain": [
              "(844, 1)"
            ]
          },
          "execution_count": 40,
          "metadata": {},
          "output_type": "execute_result"
        }
      ],
      "source": [
        "y_train.shape"
      ]
    },
    {
      "cell_type": "code",
      "execution_count": null,
      "metadata": {
        "colab": {
          "base_uri": "https://localhost:8080/"
        },
        "id": "GUcEUb_SNCN_",
        "outputId": "6973a949-3448-4a43-8c29-111dfcb221db"
      },
      "outputs": [
        {
          "data": {
            "text/plain": [
              "(352, 1)"
            ]
          },
          "execution_count": 41,
          "metadata": {},
          "output_type": "execute_result"
        }
      ],
      "source": [
        "y_test.shape"
      ]
    },
    {
      "cell_type": "code",
      "execution_count": null,
      "metadata": {
        "colab": {
          "base_uri": "https://localhost:8080/"
        },
        "id": "vsRRYu2MNHwm",
        "outputId": "881e41d6-34af-4940-a322-45e3a4dd3e44"
      },
      "outputs": [
        {
          "data": {
            "text/plain": [
              "(212, 1)"
            ]
          },
          "execution_count": 42,
          "metadata": {},
          "output_type": "execute_result"
        }
      ],
      "source": [
        "y_validation.shape"
      ]
    },
    {
      "cell_type": "code",
      "execution_count": null,
      "metadata": {
        "id": "INWppUo02bRG"
      },
      "outputs": [],
      "source": []
    },
    {
      "cell_type": "code",
      "execution_count": null,
      "metadata": {
        "id": "iHOmS8BIsc7W"
      },
      "outputs": [],
      "source": [
        "class SMILESMolDataset(Dataset):\n",
        "    def __init__(self, molecules, y, vectorizer):\n",
        "        self.molecules = molecules\n",
        "        self.y = y\n",
        "        self.vectorizer = vectorizer\n",
        "    def __len__(self):\n",
        "        return len(self.molecules)\n",
        "    def __getitem__(self, idx):\n",
        "        if torch.is_tensor(idx):\n",
        "            idx = idx.tolist()\n",
        "\n",
        "        mols = self.molecules[idx]\n",
        "\n",
        "        #The vectorizer was written to work with batches,\n",
        "        #but PyTorch datasets unfortunately works with single samples\n",
        "        sample = self.vectorizer.transform([mols])[0]\n",
        "        label = self.y[idx]\n",
        "        return sample, label"
      ]
    },
    {
      "cell_type": "code",
      "execution_count": null,
      "metadata": {
        "colab": {
          "base_uri": "https://localhost:8080/"
        },
        "id": "z9SnXsLPsf1u",
        "outputId": "e629ec91-815c-4c5b-89b6-ae93b66de898"
      },
      "outputs": [
        {
          "data": {
            "text/plain": [
              "(array([[0, 0, 0, ..., 0, 0, 0],\n",
              "        [0, 0, 0, ..., 0, 0, 0],\n",
              "        [0, 0, 0, ..., 0, 0, 0],\n",
              "        ...,\n",
              "        [0, 0, 0, ..., 0, 0, 0],\n",
              "        [0, 0, 0, ..., 0, 0, 0],\n",
              "        [0, 0, 0, ..., 0, 1, 0]], dtype=int8),\n",
              " array([-0.53050703]))"
            ]
          },
          "execution_count": 45,
          "metadata": {},
          "output_type": "execute_result"
        }
      ],
      "source": [
        "train_dataset = SMILESMolDataset(X_train, y_train, smivec)\n",
        "train_dataset[78]"
      ]
    },
    {
      "cell_type": "code",
      "execution_count": null,
      "metadata": {
        "colab": {
          "base_uri": "https://localhost:8080/"
        },
        "id": "uRwfmAaDskkG",
        "outputId": "c4b65be0-8e88-4144-f31c-1865261536c0"
      },
      "outputs": [
        {
          "name": "stdout",
          "output_type": "stream",
          "text": [
            "cuda:0\n"
          ]
        },
        {
          "data": {
            "text/plain": [
              "torch.Size([212, 137, 40])"
            ]
          },
          "execution_count": 46,
          "metadata": {},
          "output_type": "execute_result"
        }
      ],
      "source": [
        "device = torch.device(\"cuda:0\" if torch.cuda.is_available() else \"cpu\")\n",
        "print(device)\n",
        "X_validation_t = smivec.transform(X_validation, canonical=False)\n",
        "X_validation_t = torch.tensor(X_validation_t, device=device).float()\n",
        "y_validation_t = torch.tensor(y_validation, device=device).float()\n",
        "y_validation_t = torch.nan_to_num(y_validation_t, nan = torch.nanmean(y_validation_t))\n",
        "X_validation_t.shape"
      ]
    },
    {
      "cell_type": "code",
      "execution_count": null,
      "metadata": {
        "id": "I8NeqSv5spq1"
      },
      "outputs": [],
      "source": [
        "class Net(nn.Module):\n",
        "    def __init__(self, dimensions, lstm_size, hidden_size, dropout_rate, out_size):\n",
        "        super(Net, self).__init__()\n",
        "\n",
        "        length = dims[0]\n",
        "        number_tokens = dims[1]\n",
        "\n",
        "\n",
        "        self.lstm = nn.GRU(input_size=number_tokens, hidden_size=lstm_size, num_layers=1, batch_first=True, bidirectional=False, dropout  = 0.2)\n",
        "        self.fc1 = nn.Linear(lstm_size, hidden_size) # Output layer\n",
        "        self.activation = nn.ReLU() # Non-Linear ReLU Layer\n",
        "        self.fc2 = nn.Linear(hidden_size, hidden_size//2) # Output layer\n",
        "        self.activation2 = nn.ReLU() # Non-Linear ReLU Layer\n",
        "        self.fc_out = nn.Linear(hidden_size//2, out_size) # Output layer\n",
        "        self.dropout = nn.Dropout(dropout_rate)\n",
        "\n",
        "    def forward(self, x):# Forward pass: stacking each layer together\n",
        "        #out, (h_n, c_n) = self.lstm(x) #LSTM network reads in one-hot-encoded SMILES, h_n is last output, out is for all timesteps\n",
        "        out, h_n = self.lstm(x) #GRU network reads in one-hot-encoded SMILES, h_n is last output, out is for all timesteps\n",
        "        out = self.dropout(h_n) #Dropout\n",
        "        out = self.fc1(out) # Pass into the hidden layer\n",
        "        out = self.activation(out) # Use ReLU on hidden activation\n",
        "        out = self.fc2(out) # Pass into the hidden layer\n",
        "        out = self.activation2(out) # Use ReLU on hidden activation\n",
        "        out = self.dropout(out) # dropout\n",
        "        out = self.fc_out(out) # Use a linear layer for the output\n",
        "        return out"
      ]
    },
    {
      "cell_type": "markdown",
      "metadata": {
        "id": "E7apd0MVNE-0"
      },
      "source": [
        "epochs = 400\n",
        "dims = smivec.dims\n",
        "lstm_size = 32  # The size of the LSTM layer\n",
        "hidden_size = 32  # The size of the hidden non-linear layer\n",
        "dropout_rate = 0.4 # The dropout rate\n",
        "output_size = 1        # This is just a single task, so this will be one\n",
        "batch_size = 64   # The mini_batch size during training\n",
        "learning_rate = 0.005  # The initial learning rate for the optimizer"
      ]
    },
    {
      "cell_type": "code",
      "execution_count": null,
      "metadata": {
        "id": "17wz1N3Nsr0V"
      },
      "outputs": [],
      "source": [
        "epochs = 100\n",
        "dims = smivec.dims\n",
        "lstm_size = 32  # The size of the LSTM layer\n",
        "hidden_size = 32  # The size of the hidden non-linear layer\n",
        "dropout_rate = 0.3 # The dropout rate\n",
        "output_size = 1        # This is just a single task, so this will be one\n",
        "batch_size = 64   # The mini_batch size during training\n",
        "learning_rate = 0.01  # The initial learning rate for the optimizer"
      ]
    },
    {
      "cell_type": "code",
      "execution_count": null,
      "metadata": {
        "colab": {
          "base_uri": "https://localhost:8080/"
        },
        "id": "QEBFxTQusui1",
        "outputId": "a1e6fbc9-c753-45eb-a40f-ba40ec06ac3b"
      },
      "outputs": [
        {
          "name": "stderr",
          "output_type": "stream",
          "text": [
            "/usr/local/lib/python3.10/dist-packages/torch/nn/modules/rnn.py:71: UserWarning: dropout option adds dropout after all but last recurrent layer, so non-zero dropout expects num_layers greater than 1, but got dropout=0.2 and num_layers=1\n",
            "  warnings.warn(\"dropout option adds dropout after all but last \"\n"
          ]
        },
        {
          "data": {
            "text/plain": [
              "Net(\n",
              "  (lstm): GRU(40, 32, batch_first=True, dropout=0.2)\n",
              "  (fc1): Linear(in_features=32, out_features=32, bias=True)\n",
              "  (activation): ReLU()\n",
              "  (fc2): Linear(in_features=32, out_features=16, bias=True)\n",
              "  (activation2): ReLU()\n",
              "  (fc_out): Linear(in_features=16, out_features=1, bias=True)\n",
              "  (dropout): Dropout(p=0.3, inplace=False)\n",
              ")"
            ]
          },
          "execution_count": 60,
          "metadata": {},
          "output_type": "execute_result"
        }
      ],
      "source": [
        "model = Net(smivec, lstm_size, hidden_size, dropout_rate, output_size)\n",
        "model.cuda()"
      ]
    },
    {
      "cell_type": "code",
      "execution_count": null,
      "metadata": {
        "colab": {
          "base_uri": "https://localhost:8080/"
        },
        "id": "fKvwtQiAtJ5V",
        "outputId": "9ef24d03-b804-46c1-fdf6-261861fc8a35"
      },
      "outputs": [
        {
          "data": {
            "text/plain": [
              "tensor([[[0.0885]]], device='cuda:0', grad_fn=<ViewBackward0>)"
            ]
          },
          "execution_count": 51,
          "metadata": {},
          "output_type": "execute_result"
        }
      ],
      "source": [
        "pred = model.forward(X_validation_t[10:11])\n",
        "pred"
      ]
    },
    {
      "cell_type": "code",
      "execution_count": null,
      "metadata": {
        "id": "RlSGgwkatNjd"
      },
      "outputs": [],
      "source": [
        "criterion = nn.MSELoss()\n",
        "optimizer = torch.optim.Adam(model.parameters(), lr=learning_rate)\n",
        "lr_scheduler = ReduceLROnPlateau(optimizer, mode='min', factor=0.5, patience=50,\n",
        "                  verbose=True, threshold=0.0001, threshold_mode='rel', cooldown=0, min_lr=1e-6, eps=1e-08)\n"
      ]
    },
    {
      "cell_type": "code",
      "execution_count": null,
      "metadata": {
        "id": "eNMB41JDtSQ-"
      },
      "outputs": [],
      "source": [
        "train_loader = torch.utils.data.DataLoader(dataset=train_dataset,\n",
        "                                          batch_size=batch_size,\n",
        "                                          shuffle=True, num_workers=4)"
      ]
    },
    {
      "cell_type": "code",
      "execution_count": null,
      "metadata": {
        "id": "UDMWYULZtVwt"
      },
      "outputs": [],
      "source": [
        "for smiles, labels in train_loader:\n",
        "    print(smiles)\n",
        "    print(labels)\n",
        "    break"
      ]
    },
    {
      "cell_type": "code",
      "execution_count": null,
      "metadata": {
        "colab": {
          "base_uri": "https://localhost:8080/"
        },
        "id": "bVjImoAKtYXV",
        "outputId": "5f341307-a7f9-4496-ebe9-655cfd355774"
      },
      "outputs": [
        {
          "name": "stderr",
          "output_type": "stream",
          "text": [
            "<ipython-input-63-37434c2c50fc>:8: UserWarning: To copy construct from a tensor, it is recommended to use sourceTensor.clone().detach() or sourceTensor.clone().detach().requires_grad_(True), rather than torch.tensor(sourceTensor).\n",
            "  smiles = torch.tensor(smiles, device=device).float()\n",
            "<ipython-input-63-37434c2c50fc>:10: UserWarning: To copy construct from a tensor, it is recommended to use sourceTensor.clone().detach() or sourceTensor.clone().detach().requires_grad_(True), rather than torch.tensor(sourceTensor).\n",
            "  labels = torch.tensor(labels, device=device).float()\n"
          ]
        },
        {
          "name": "stdout",
          "output_type": "stream",
          "text": [
            "Epoch 5, Training loss: 1.01 Validation loss: 0.98\n",
            "Epoch 10, Training loss: 1.04 Validation loss: 0.99\n",
            "Epoch 15, Training loss: 1.00 Validation loss: 0.98\n",
            "Epoch 20, Training loss: 1.02 Validation loss: 0.95\n",
            "Epoch 25, Training loss: 0.93 Validation loss: 0.94\n",
            "Epoch 30, Training loss: 0.96 Validation loss: 0.94\n",
            "Epoch 35, Training loss: 0.95 Validation loss: 0.93\n",
            "Epoch 40, Training loss: 0.92 Validation loss: 0.96\n",
            "Epoch 45, Training loss: 0.96 Validation loss: 0.94\n",
            "Epoch 50, Training loss: 1.01 Validation loss: 0.92\n",
            "Epoch 55, Training loss: 1.06 Validation loss: 0.95\n",
            "Epoch 60, Training loss: 0.96 Validation loss: 0.93\n",
            "Epoch 65, Training loss: 0.96 Validation loss: 0.92\n",
            "Epoch 70, Training loss: 0.95 Validation loss: 0.90\n",
            "Epoch 75, Training loss: 0.91 Validation loss: 0.90\n",
            "Epoch 80, Training loss: 0.86 Validation loss: 0.88\n",
            "Epoch 85, Training loss: 0.93 Validation loss: 0.85\n",
            "Epoch 90, Training loss: 0.93 Validation loss: 0.88\n",
            "Epoch 95, Training loss: 0.86 Validation loss: 0.87\n",
            "Epoch 100, Training loss: 0.83 Validation loss: 0.90\n"
          ]
        }
      ],
      "source": [
        "model.train() #Ensure the network is in \"train\" mode with dropouts active\n",
        "train_losses = []\n",
        "validation_losses = []\n",
        "for e in range(epochs):\n",
        "    running_loss = 0\n",
        "    for smiles, labels in train_loader:\n",
        "        # Push numpy to CUDA tensors\n",
        "        smiles = torch.tensor(smiles, device=device).float()\n",
        "        #print(smiles)\n",
        "        labels = torch.tensor(labels, device=device).float()\n",
        "        labels = torch.nan_to_num(labels, nan = torch.nanmean(labels))\n",
        "        #print(labels)\n",
        "        #break\n",
        "        # Training pass\n",
        "        optimizer.zero_grad() # Initialize the gradients, which will be recorded during the forward pass\n",
        "\n",
        "        output = model(smiles) #Forward pass of the mini-batch\n",
        "        loss = criterion(output, labels) #Computing the loss\n",
        "        loss.backward() # calculate the backward pass\n",
        "        torch.nn.utils.clip_grad_norm_(model.parameters(), 1)\n",
        "        optimizer.step() # Optimize the weights\n",
        "\n",
        "        running_loss += loss.item()\n",
        "    else:\n",
        "\n",
        "\n",
        "        model.eval()\n",
        "        validation_loss = torch.mean(( y_validation_t - model(X_validation_t) )**2).item()\n",
        "        model.train()\n",
        "\n",
        "        lr_scheduler.step(validation_loss)\n",
        "\n",
        "        train_loss = running_loss/len(train_loader)\n",
        "        train_losses.append(train_loss)\n",
        "        validation_losses.append(validation_loss)\n",
        "        if (e+1)%5 == 0:\n",
        "            print(\"Epoch %i, Training loss: %0.2F Validation loss: %0.2F\"%(e + 1, train_loss, validation_loss))\n"
      ]
    },
    {
      "cell_type": "code",
      "execution_count": null,
      "metadata": {
        "colab": {
          "base_uri": "https://localhost:8080/",
          "height": 451
        },
        "id": "SrmRqjZBtcmd",
        "outputId": "7fbc1c4b-50b5-49ee-bbbb-429628adf1fd"
      },
      "outputs": [
        {
          "data": {
            "text/plain": [
              "<matplotlib.legend.Legend at 0x7892403d16f0>"
            ]
          },
          "execution_count": 64,
          "metadata": {},
          "output_type": "execute_result"
        },
        {
          "data": {
            "image/png": "[encoded data removed]",
            "text/plain": [
              "<Figure size 640x480 with 1 Axes>"
            ]
          },
          "metadata": {},
          "output_type": "display_data"
        }
      ],
      "source": [
        "plt.plot(train_losses, label=\"Train\")\n",
        "plt.plot(validation_losses, label=\"Validation\")\n",
        "#plt.yscale('log')\n",
        "plt.legend()"
      ]
    },
    {
      "cell_type": "code",
      "execution_count": null,
      "metadata": {
        "id": "MuZ1UzwethSU"
      },
      "outputs": [],
      "source": [
        "model.eval() #Swith to evaluation mode, where dropout is switched off\n",
        "#y_pred_train = model(X_train_t)\n",
        "y_pred_validation = model(X_validation_t)\n",
        "#y_pred_test = model(X_test)\n"
      ]
    },
    {
      "cell_type": "code",
      "execution_count": null,
      "metadata": {
        "colab": {
          "base_uri": "https://localhost:8080/"
        },
        "id": "wlO_erwEtjrk",
        "outputId": "7a9e51d6-09d6-4e26-df6c-39049cabfb12"
      },
      "outputs": [
        {
          "data": {
            "text/plain": [
              "0.9020845293998718"
            ]
          },
          "execution_count": 66,
          "metadata": {},
          "output_type": "execute_result"
        }
      ],
      "source": [
        "torch.mean(( y_validation_t - y_pred_validation )**2).item()"
      ]
    },
    {
      "cell_type": "code",
      "execution_count": null,
      "metadata": {
        "id": "Y3j_Z1FEtpPV"
      },
      "outputs": [],
      "source": [
        "X_train_t = smivec.transform(X_train, canonical=False)\n",
        "X_train_t = torch.tensor(X_train_t, device=device).float()\n",
        "y_train_t = torch.tensor(y_train, device=device).float()\n",
        "y_train_t = torch.nan_to_num(y_train_t, nan = torch.nanmean(y_train_t))\n",
        "X_test_t = smivec.transform(X_test, canonical=False)\n",
        "X_test_t = torch.tensor(X_test_t, device=device).float()\n",
        "y_test_t = torch.tensor(y_test, device=device).float()\n",
        "y_test_t = torch.nan_to_num(y_test_t, nan = torch.nanmean(y_test_t))"
      ]
    },
    {
      "cell_type": "code",
      "execution_count": null,
      "metadata": {
        "colab": {
          "base_uri": "https://localhost:8080/"
        },
        "id": "YEJi3ILotq-j",
        "outputId": "d253985e-e39f-4d55-ae44-998139d87a9c"
      },
      "outputs": [
        {
          "name": "stdout",
          "output_type": "stream",
          "text": [
            "Train RMSE: 0.826\tTest RMSE: 0.765\n"
          ]
        }
      ],
      "source": [
        "y_pred_train = model(X_train_t)\n",
        "y_pred_test = model(X_test_t)\n",
        "train_rmse = torch.mean(( y_train_t - y_pred_train )**2).item()\n",
        "test_rmse = torch.mean(( y_test_t - y_pred_test )**2).item()\n",
        "print(\"Train RMSE: %0.3F\\tTest RMSE: %0.3F\"%(train_rmse, test_rmse))"
      ]
    },
    {
      "cell_type": "code",
      "execution_count": null,
      "metadata": {
        "colab": {
          "base_uri": "https://localhost:8080/"
        },
        "id": "lIHLO0ELBaPD",
        "outputId": "c87ee839-f128-4c7f-f45d-b4e1530444f7"
      },
      "outputs": [
        {
          "data": {
            "text/plain": [
              "torch.Size([1, 684, 1])"
            ]
          },
          "execution_count": 81,
          "metadata": {},
          "output_type": "execute_result"
        }
      ],
      "source": [
        "y_pred_train.shape"
      ]
    },
    {
      "cell_type": "code",
      "execution_count": null,
      "metadata": {
        "colab": {
          "base_uri": "https://localhost:8080/",
          "height": 447
        },
        "id": "ojYZfUFQttag",
        "outputId": "08e6c42a-7f43-45fa-9113-fc600267a704"
      },
      "outputs": [
        {
          "data": {
            "text/plain": [
              "[<matplotlib.lines.Line2D at 0x78924027afe0>]"
            ]
          },
          "execution_count": 69,
          "metadata": {},
          "output_type": "execute_result"
        },
        {
          "data": {
            "image/png": "[encoded data removed]",
            "text/plain": [
              "<Figure size 640x480 with 1 Axes>"
            ]
          },
          "metadata": {},
          "output_type": "display_data"
        }
      ],
      "source": [
        "plt.scatter(np.array(y_pred_train.tolist()).flatten(), np.array(y_train_t.tolist()).flatten(), alpha=0.1)\n",
        "plt.scatter(np.array(y_pred_validation.tolist()).flatten(), np.array(y_validation_t.tolist()).flatten(), alpha=0.5)\n",
        "plt.plot([-0.2, 0.2], [-1.5,1.5], c=\"b\")\n",
        "#plt.xlim(-1,  1)\n",
        "#plt.ylim(-0.1,  1)"
      ]
    }
  ],
  "metadata": {
    "accelerator": "GPU",
    "colab": {
      "provenance": []
    },
    "kernelspec": {
      "display_name": "Python 3",
      "name": "python3"
    },
    "language_info": {
      "codemirror_mode": {
        "name": "ipython",
        "version": 3
      },
      "file_extension": ".py",
      "mimetype": "text/x-python",
      "name": "python",
      "nbconvert_exporter": "python",
      "pygments_lexer": "ipython3",
      "version": "3.9.18"
    }
  },
  "nbformat": 4,
  "nbformat_minor": 0
}
